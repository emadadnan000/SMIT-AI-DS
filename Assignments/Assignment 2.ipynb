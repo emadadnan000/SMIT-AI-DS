{
 "cells": [
  {
   "cell_type": "markdown",
   "metadata": {},
   "source": [
    "# Python Basics Assignment\n"
   ]
  },
  {
   "cell_type": "markdown",
   "metadata": {},
   "source": [
    "## Part 1: Print Statement & Variables"
   ]
  },
  {
   "cell_type": "markdown",
   "metadata": {},
   "source": [
    "### Task 1: Printing Basic Information"
   ]
  },
  {
   "cell_type": "markdown",
   "metadata": {},
   "source": [
    "Write a Python program that prints the following information using the print() function:\n",
    "- Your name\n",
    "- Your age\n",
    "- Your favorite programming language"
   ]
  },
  {
   "cell_type": "code",
   "execution_count": 4,
   "metadata": {},
   "outputs": [
    {
     "name": "stdout",
     "output_type": "stream",
     "text": [
      "Name: Emad Adnan\n",
      "Age: 18\n",
      "Favorite Programming: Python\n"
     ]
    }
   ],
   "source": [
    "name = \"Emad Adnan\"\n",
    "age = 18\n",
    "prog_lang = \"Python\"\n",
    "print(\"Name:\", name)\n",
    "print(\"Age:\", age)\n",
    "print(\"Favorite Programming:\", prog_lang)"
   ]
  },
  {
   "cell_type": "markdown",
   "metadata": {},
   "source": [
    "### Task 2: Storing and Displaying Information\n",
    "Declare variables to store the following information and display them using a print statement:\n",
    "- Student Name\n",
    "- Course Name\n",
    "- Institution Name\n",
    "- Year of Study"
   ]
  },
  {
   "cell_type": "code",
   "execution_count": 5,
   "metadata": {},
   "outputs": [
    {
     "name": "stdout",
     "output_type": "stream",
     "text": [
      "Student Name: Emad Adnan\n",
      "Course Name: AI & DS\n",
      "Institution Name: SMIT\n",
      "Year of Study: 2025\n"
     ]
    }
   ],
   "source": [
    "student_name = \"Emad Adnan\"\n",
    "course_name = \"AI & DS\"\n",
    "institution_name = \"SMIT\"\n",
    "year_of_study  = 2025\n",
    "print(\"Student Name:\", student_name)\n",
    "print(\"Course Name:\", course_name)\n",
    "print(\"Institution Name:\", institution_name)\n",
    "print(\"Year of Study:\", year_of_study)"
   ]
  },
  {
   "cell_type": "markdown",
   "metadata": {},
   "source": [
    "## Part 2: Mathematical Operations"
   ]
  },
  {
   "cell_type": "markdown",
   "metadata": {},
   "source": [
    "### Task 3: Basic Arithmetic\n",
    "Write a Python program that performs the following mathematical operations:\n",
    "- Addition of two numbers\n",
    "- Subtraction of two numbers\n",
    "- Multiplication of two numbers\n",
    "- Division of two numbers\n",
    "- Modulus (remainder after division)"
   ]
  },
  {
   "cell_type": "code",
   "execution_count": 8,
   "metadata": {},
   "outputs": [
    {
     "name": "stdout",
     "output_type": "stream",
     "text": [
      "Sum: 30\n",
      "Subtraction: -10\n",
      "Multiplication: 200\n",
      "Division: 0.5\n",
      "Modulus: 10\n"
     ]
    }
   ],
   "source": [
    "num1 = 10\n",
    "num2 = 20\n",
    "print(\"Sum:\", num1 + num2 )\n",
    "print(\"Subtraction:\", num1 - num2)\n",
    "print(\"Multiplication:\", num1 * num2)\n",
    "print(\"Division:\", num1 / num2)\n",
    "print(\"Modulus:\", num1 % num2)"
   ]
  },
  {
   "cell_type": "markdown",
   "metadata": {},
   "source": [
    "### Task 4: Calculating the Area of a Rectangle\n",
    "Ask the user to enter the length and width of a rectangle, then calculate and print the area.\n",
    "Formula:  \n",
    "Area = Length × Width"
   ]
  },
  {
   "cell_type": "code",
   "execution_count": 10,
   "metadata": {},
   "outputs": [
    {
     "name": "stdout",
     "output_type": "stream",
     "text": [
      "Area of Rectangle:  100\n"
     ]
    }
   ],
   "source": [
    "length  = int(input(\"Enter Length\"))\n",
    "width = int(input(\"Enter Width\"))\n",
    "print(\"Area of Rectangle: \", length * width)"
   ]
  },
  {
   "cell_type": "markdown",
   "metadata": {},
   "source": [
    "## Part 3: String Slicing & Methods"
   ]
  },
  {
   "cell_type": "markdown",
   "metadata": {},
   "source": [
    "Write a Python program that:\n",
    "- Stores a full name in a variable\n",
    "- Extracts and prints the first name and last name using slicing\n",
    "- Prints the initials (First letter of first and last name)"
   ]
  },
  {
   "cell_type": "code",
   "execution_count": 16,
   "metadata": {},
   "outputs": [
    {
     "name": "stdout",
     "output_type": "stream",
     "text": [
      "First Name: Emad\n",
      "Last Name: Adnan\n",
      "Initials: EA\n"
     ]
    }
   ],
   "source": [
    "full_name = \"Emad Adnan\"\n",
    "first_name = full_name[:4]  # Extract first name\n",
    "last_name = full_name[5:]    # Extract last name\n",
    "initials = full_name[0] + full_name[5]  # Get initials\n",
    "print(\"First Name:\", first_name)\n",
    "print(\"Last Name:\", last_name)\n",
    "print(\"Initials:\", initials)"
   ]
  },
  {
   "cell_type": "markdown",
   "metadata": {},
   "source": [
    "### Task 6: String Methods\n",
    "Write a program that asks the user for their full name and applies the following string methods:\n",
    "- Convert to uppercase\n",
    "- Convert to lowercase\n",
    "- Count the number of characters\n",
    "- Replace spaces with underscores (_)"
   ]
  },
  {
   "cell_type": "code",
   "execution_count": 21,
   "metadata": {},
   "outputs": [
    {
     "name": "stdout",
     "output_type": "stream",
     "text": [
      "Name:  Emad Adnan\n",
      "EMAD ADNAN\n",
      "emad adnan\n",
      "10\n",
      "Emad_Adnan\n"
     ]
    }
   ],
   "source": [
    "name = input(\"Enter your name\")\n",
    "print(\"Name: \", name)\n",
    "print(name.upper())\n",
    "print(name.lower())\n",
    "print(len(name))\n",
    "print(name.replace(\" \", \"_\"))"
   ]
  }
 ],
 "metadata": {
  "kernelspec": {
   "display_name": "base",
   "language": "python",
   "name": "python3"
  },
  "language_info": {
   "codemirror_mode": {
    "name": "ipython",
    "version": 3
   },
   "file_extension": ".py",
   "mimetype": "text/x-python",
   "name": "python",
   "nbconvert_exporter": "python",
   "pygments_lexer": "ipython3",
   "version": "3.12.7"
  }
 },
 "nbformat": 4,
 "nbformat_minor": 2
}
