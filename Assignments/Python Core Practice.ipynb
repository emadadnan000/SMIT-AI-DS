{
 "cells": [
  {
   "cell_type": "markdown",
   "id": "aaaf844d",
   "metadata": {},
   "source": [
    "### Write a Python program that reads a text file and performs the following:\n",
    "##### Counts the total number of words and lines.\n",
    "##### Identifies the top 5 most frequently occurring words (ignoring case and punctuation).\n",
    "##### Outputs the statistics to a new file called summary.txt."
   ]
  },
  {
   "cell_type": "code",
   "execution_count": null,
   "id": "2eb1ffe3",
   "metadata": {},
   "outputs": [],
   "source": [
    "file_path = \"D:\\\\SMIT AI & DS\\\\Assignments\\\\example.txt\"\n",
    "\n",
    "# Ensure the file exists for demonstration\n",
    "with open(file_path, 'r') as f:\n",
    "    content = f.read()\n",
    "    lines = content.splitlines()\n",
    "    num_lines = len(lines)\n",
    "    words = content.split()\n",
    "    num_words = len(words)\n",
    "print(f\"Total lines: {num_lines}\")\n",
    "print(f\"Total words: {num_words}\")\n",
    "with open(\"D:\\\\SMIT AI & DS\\\\Assignments\\\\summary.txt\", 'w') as f:\n",
    "    f.write(f\"Total lines: {num_lines}\\n\")\n",
    "    f.write(f\"Total words: {num_words}\\n\")"
   ]
  },
  {
   "cell_type": "markdown",
   "id": "ef28d18f",
   "metadata": {},
   "source": [
    "### Create a list of student records, where each record is a dictionary containing \"name\", \"age\", and \"score\". \n",
    "#### Write a function that:\n",
    "##### Sorts students first by descending score, then by ascending age, and finally alphabetically by name.\n",
    "##### Returns the sorted list.\n"
   ]
  },
  {
   "cell_type": "code",
   "execution_count": null,
   "id": "5ffb8deb",
   "metadata": {},
   "outputs": [],
   "source": [
    "students_records = [\n",
    "    {\"name\": \"Ahmed\", \"age\": 17, \"score\": 90},\n",
    "    {\"name\": \"Jalal\", \"age\": 16, \"score\": 80},\n",
    "    {\"name\": \"Ali\", \"age\": 15, \"score\": 95},\n",
    "    {\"name\": \"Sara\", \"age\": 17, \"score\": 90}, \n",
    "    {\"name\": \"Bilal\", \"age\": 15, \"score\": 95}\n",
    "]\n",
    "def sort_students_scores(students_records):\n",
    "    return sorted(students_records, key=lambda x: (x['score'], x['name']))\n",
    "sorted_students = sort_students_scores(students_records)\n",
    "print(f\"Sorted students: {sorted_students}\")\n",
    "\n",
    "def filter_students_by_age(students_records):\n",
    "    return sorted(students_records, key=lambda x: (x['age'], x['name']))\n",
    "filtered_students = filter_students_by_age(students_records)\n",
    "print(f\"Filtered students: {filtered_students}\")\n",
    "\n",
    "def calculate_average_score(students_records):\n",
    "    total_score = sum(student['score'] for student in students_records)\n",
    "    return total_score / len(students_records) if students_records else 0\n",
    "average_score = calculate_average_score(students_records)\n",
    "print(f\"Average score: {average_score}\")"
   ]
  },
  {
   "cell_type": "markdown",
   "id": "b4914803",
   "metadata": {},
   "source": [
    "### Write a function validate_email(email) that checks if an email address is valid using these rules:\n",
    "\n",
    "#### Contains exactly one @.\n",
    "#### Contains at least one . after the @.\n",
    "#### The domain should be at least 3 characters long.\n",
    "#### Raise a ValueError with an appropriate message if invalid, otherwise return True"
   ]
  },
  {
   "cell_type": "code",
   "execution_count": null,
   "id": "47bded72",
   "metadata": {},
   "outputs": [],
   "source": [
    "def validate_email(email):\n",
    "    if email.count(\"@\") != 1:\n",
    "        raise ValueError(\"Email must contain exactly one '@' symbol.\")\n",
    "    local_part, domain = email.split(\"@\")\n",
    "    if len(domain) < 3:\n",
    "        raise ValueError(\"Domain must be at least 3 characters long.\")\n",
    "    if \".\" not in domain:\n",
    "        raise ValueError(\"Domain must contain at least one '.' after '@'.\")\n",
    "    return True\n",
    "   \n",
    "email = str(input(\"Enter an email address: \"))\n",
    "validate_email(email)"
   ]
  }
 ],
 "metadata": {
  "kernelspec": {
   "display_name": "Python 3",
   "language": "python",
   "name": "python3"
  },
  "language_info": {
   "codemirror_mode": {
    "name": "ipython",
    "version": 3
   },
   "file_extension": ".py",
   "mimetype": "text/x-python",
   "name": "python",
   "nbconvert_exporter": "python",
   "pygments_lexer": "ipython3",
   "version": "3.13.3"
  }
 },
 "nbformat": 4,
 "nbformat_minor": 5
}
