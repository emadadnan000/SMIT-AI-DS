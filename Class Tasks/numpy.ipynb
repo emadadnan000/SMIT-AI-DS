{
 "cells": [
  {
   "cell_type": "code",
   "execution_count": 3,
   "id": "d792988e",
   "metadata": {},
   "outputs": [],
   "source": [
    "import numpy as np"
   ]
  },
  {
   "cell_type": "markdown",
   "id": "15e48ca1",
   "metadata": {},
   "source": [
    "1. Create a 4X2 integer array and Prints its attributes\n",
    "\n",
    "The shape of an array.\n",
    "\n",
    "Array dimensions.\n",
    "\n",
    "The Length of each element of the array in bytes."
   ]
  },
  {
   "cell_type": "code",
   "execution_count": 4,
   "id": "aadc3ef3",
   "metadata": {},
   "outputs": [
    {
     "name": "stdout",
     "output_type": "stream",
     "text": [
      "Shape of the array: (4, 2)\n",
      "Data type of the array: int64\n",
      "Number of dimensions of the array: 2\n",
      "Total number of elements in the array: 8\n",
      "Size of each element in bytes: 8\n",
      "Total number of bytes consumed by the elements of the array: 64\n"
     ]
    }
   ],
   "source": [
    "array_1 = np.array([\n",
    "    [1, 2],\n",
    "    [3, 4],\n",
    "    [5, 6],\n",
    "    [7, 8]\n",
    "])\n",
    "print(\"Shape of the array:\", array_1.shape)\n",
    "print(\"Data type of the array:\", array_1.dtype)\n",
    "print(\"Number of dimensions of the array:\", array_1.ndim)\n",
    "print(\"Total number of elements in the array:\", array_1.size)\n",
    "print(\"Size of each element in bytes:\", array_1.itemsize)\n",
    "print(\"Total number of bytes consumed by the elements of the array:\", array_1.nbytes)"
   ]
  },
  {
   "cell_type": "markdown",
   "id": "a4b070f1",
   "metadata": {},
   "source": [
    "\n",
    "\n",
    "2. Create a 5X2 integer array from a range between 100 to 200 such that the difference between each element is 10\n",
    "\n",
    "\n"
   ]
  },
  {
   "cell_type": "code",
   "execution_count": 5,
   "id": "c33bcf69",
   "metadata": {},
   "outputs": [],
   "source": [
    "array_2 =  np.arange(100, 200, 10).reshape(5, 2)"
   ]
  },
  {
   "cell_type": "markdown",
   "id": "4fd4db34",
   "metadata": {},
   "source": [
    "\n",
    "3. Following is the provided numPy array. Return array of items by taking the third value from all rows\n",
    "\n",
    "sampleArray = numpy.array([[11 ,22, 33],\n",
    "                           [44, 55, 66],\n",
    "                          [77, 88, 99]])"
   ]
  },
  {
   "cell_type": "code",
   "execution_count": 6,
   "id": "e7212ced",
   "metadata": {},
   "outputs": [
    {
     "name": "stdout",
     "output_type": "stream",
     "text": [
      "Printing Sample Array\n",
      "[[11 22 33]\n",
      " [44 55 66]\n",
      " [77 88 99]]\n",
      "\n",
      " Printing array of items in the third column from all rows\n",
      "[33 66 99]\n"
     ]
    }
   ],
   "source": [
    "sampleArray = np.array([[11 ,22, 33],\n",
    "                           [44, 55, 66],\n",
    "                          [77, 88, 99]])\n",
    "print(\"Printing Sample Array\")\n",
    "print(sampleArray)\n",
    "\n",
    "print(\"\\n Printing array of items in the third column from all rows\")\n",
    "newArray = sampleArray[...,2]\n",
    "print(newArray)"
   ]
  }
 ],
 "metadata": {
  "kernelspec": {
   "display_name": "Python 3",
   "language": "python",
   "name": "python3"
  },
  "language_info": {
   "codemirror_mode": {
    "name": "ipython",
    "version": 3
   },
   "file_extension": ".py",
   "mimetype": "text/x-python",
   "name": "python",
   "nbconvert_exporter": "python",
   "pygments_lexer": "ipython3",
   "version": "3.13.3"
  }
 },
 "nbformat": 4,
 "nbformat_minor": 5
}
