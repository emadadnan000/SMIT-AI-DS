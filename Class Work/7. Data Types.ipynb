{
 "cells": [
  {
   "cell_type": "markdown",
   "id": "8db0c727",
   "metadata": {},
   "source": [
    "# Python Data Types\n",
    "This notebook provides an explanation of Python's built-in data types: `str`, `float`, `int`, `list`, `dict`, `tuple`, and `set`."
   ]
  },
  {
   "cell_type": "markdown",
   "id": "ff802f76",
   "metadata": {},
   "source": [
    "## Introduction to Python Data Types\n",
    "Python provides several built-in data types that are essential for programming. These data types allow developers to store, manipulate, and retrieve data efficiently. Understanding these types is crucial for writing effective Python code."
   ]
  },
  {
   "cell_type": "markdown",
   "id": "f4de242d",
   "metadata": {},
   "source": [
    "## String (str)\n",
    "The `str` data type is used to represent text. Strings are immutable sequences of characters.\n",
    "\n",
    "### Examples:\n",
    "- Creating a string\n",
    "- Concatenating strings\n",
    "- Using common string methods like `upper()`, `lower()`, and `split()`"
   ]
  },
  {
   "cell_type": "code",
   "execution_count": null,
   "id": "4894b108",
   "metadata": {},
   "outputs": [],
   "source": [
    "# String Examples\n",
    "# Creating a string\n",
    "greeting = \"Hello, World!\"\n",
    "\n",
    "# Concatenating strings\n",
    "name = \"Alice\"\n",
    "personalized_greeting = greeting + \" \" + name\n",
    "\n",
    "# Using string methods\n",
    "uppercase_greeting = greeting.upper()\n",
    "lowercase_greeting = greeting.lower()\n",
    "split_greeting = greeting.split(\", \")\n",
    "\n",
    "print(uppercase_greeting)\n",
    "print(lowercase_greeting)\n",
    "print(split_greeting)"
   ]
  },
  {
   "cell_type": "markdown",
   "id": "e870fe4f",
   "metadata": {},
   "source": [
    "## Floating Point Numbers (float)\n",
    "The `float` data type is used to represent decimal numbers. It is commonly used for calculations requiring precision.\n",
    "\n",
    "### Examples:\n",
    "- Creating floating-point numbers\n",
    "- Performing arithmetic operations"
   ]
  },
  {
   "cell_type": "code",
   "execution_count": null,
   "id": "1c8780d7",
   "metadata": {},
   "outputs": [],
   "source": [
    "# Float Examples\n",
    "# Creating floating-point numbers\n",
    "pi = 3.14159\n",
    "temperature = -4.5\n",
    "\n",
    "# Arithmetic operations\n",
    "sum_result = pi + temperature\n",
    "product_result = pi * 2\n",
    "\n",
    "print(sum_result)\n",
    "print(product_result)"
   ]
  },
  {
   "cell_type": "markdown",
   "id": "cf40f745",
   "metadata": {},
   "source": [
    "## Integers (int)\n",
    "The `int` data type is used to represent whole numbers. It is commonly used for counting and indexing.\n",
    "\n",
    "### Examples:\n",
    "- Creating integers\n",
    "- Performing arithmetic operations"
   ]
  },
  {
   "cell_type": "code",
   "execution_count": null,
   "id": "179cada7",
   "metadata": {},
   "outputs": [],
   "source": [
    "# Integer Examples\n",
    "# Creating integers\n",
    "age = 25\n",
    "year = 2023\n",
    "\n",
    "# Arithmetic operations\n",
    "next_year = year + 1\n",
    "double_age = age * 2\n",
    "\n",
    "print(next_year)\n",
    "print(double_age)"
   ]
  },
  {
   "cell_type": "markdown",
   "id": "85e2dbb6",
   "metadata": {},
   "source": [
    "## Lists (list)\n",
    "The `list` data type is used to store ordered collections of items. Lists are mutable, meaning their contents can be changed.\n",
    "\n",
    "### Examples:\n",
    "- Creating lists\n",
    "- Accessing elements\n",
    "- Performing operations like appending and slicing\n",
    "### Syntax \n",
    " [, , , ]"
   ]
  },
  {
   "cell_type": "code",
   "execution_count": 17,
   "id": "d29cf679",
   "metadata": {},
   "outputs": [
    {
     "name": "stdout",
     "output_type": "stream",
     "text": [
      "<class 'list'>\n",
      "<class 'str'>\n",
      "appended ['apple', 'banana', 'cherry', 'date', 'apricot']\n",
      "sliced ['banana', 'cherry']\n",
      "pop method ['apple', 'banana', 'cherry', 'date']\n",
      "removal method ['apple', 'cherry', 'date']\n",
      "insertion  ['apple', 'melon', 'cherry', 'date']\n"
     ]
    }
   ],
   "source": [
    "# List Examples\n",
    "# Creating a list\n",
    "fruits = [\"apple\", \"banana\", \"cherry\"]\n",
    "print(type(fruits))\n",
    "print(type(fruits[0]))\n",
    "\n",
    "# Accessing elements\n",
    "first_fruit = fruits[0]\n",
    "\n",
    "# Appending  \n",
    "fruits.append(\"date\")\n",
    "fruits = fruits + [\"apricot\"]\n",
    "print(\"appended\",fruits)\n",
    "\n",
    "#slicing\n",
    "sliced_fruits = fruits[1:3]\n",
    "print(\"sliced\", sliced_fruits)\n",
    "\n",
    "# removing\n",
    "fruits.pop(4)\n",
    "print(\"pop method\", fruits)\n",
    "fruits.remove('banana')\n",
    "print(\"removal method\",fruits)\n",
    "\n",
    "#insertion list.insert(index, \"data\")\n",
    "fruits.insert(1,\"melon\")\n",
    "print(\"insertion \",fruits)\n"
   ]
  },
  {
   "cell_type": "code",
   "execution_count": 1,
   "id": "4e5673fe",
   "metadata": {},
   "outputs": [
    {
     "ename": "KeyboardInterrupt",
     "evalue": "Interrupted by user",
     "output_type": "error",
     "traceback": [
      "\u001b[1;31m---------------------------------------------------------------------------\u001b[0m",
      "\u001b[1;31mKeyboardInterrupt\u001b[0m                         Traceback (most recent call last)",
      "Cell \u001b[1;32mIn[1], line 5\u001b[0m\n\u001b[0;32m      3\u001b[0m temperature \u001b[38;5;241m=\u001b[39m []\n\u001b[0;32m      4\u001b[0m \u001b[38;5;28;01mfor\u001b[39;00m i \u001b[38;5;129;01min\u001b[39;00m \u001b[38;5;28mrange\u001b[39m(\u001b[38;5;241m1\u001b[39m,\u001b[38;5;241m6\u001b[39m):\n\u001b[1;32m----> 5\u001b[0m     user_input \u001b[38;5;241m=\u001b[39m \u001b[38;5;28mint\u001b[39m(\u001b[38;5;28minput\u001b[39m(\u001b[38;5;124mf\u001b[39m\u001b[38;5;124m'\u001b[39m\u001b[38;5;124mEnter Temperature of Day \u001b[39m\u001b[38;5;132;01m{\u001b[39;00mcounter_var\u001b[38;5;132;01m}\u001b[39;00m\u001b[38;5;124m'\u001b[39m))\n\u001b[0;32m      6\u001b[0m     counter_var \u001b[38;5;241m+\u001b[39m\u001b[38;5;241m=\u001b[39m \u001b[38;5;241m1\u001b[39m\n\u001b[0;32m      7\u001b[0m     temperature\u001b[38;5;241m.\u001b[39mappend(user_input)\n",
      "File \u001b[1;32mc:\\ProgramData\\anaconda3\\Lib\\site-packages\\ipykernel\\kernelbase.py:1262\u001b[0m, in \u001b[0;36mKernel.raw_input\u001b[1;34m(self, prompt)\u001b[0m\n\u001b[0;32m   1260\u001b[0m     msg \u001b[38;5;241m=\u001b[39m \u001b[38;5;124m\"\u001b[39m\u001b[38;5;124mraw_input was called, but this frontend does not support input requests.\u001b[39m\u001b[38;5;124m\"\u001b[39m\n\u001b[0;32m   1261\u001b[0m     \u001b[38;5;28;01mraise\u001b[39;00m StdinNotImplementedError(msg)\n\u001b[1;32m-> 1262\u001b[0m \u001b[38;5;28;01mreturn\u001b[39;00m \u001b[38;5;28mself\u001b[39m\u001b[38;5;241m.\u001b[39m_input_request(\n\u001b[0;32m   1263\u001b[0m     \u001b[38;5;28mstr\u001b[39m(prompt),\n\u001b[0;32m   1264\u001b[0m     \u001b[38;5;28mself\u001b[39m\u001b[38;5;241m.\u001b[39m_parent_ident[\u001b[38;5;124m\"\u001b[39m\u001b[38;5;124mshell\u001b[39m\u001b[38;5;124m\"\u001b[39m],\n\u001b[0;32m   1265\u001b[0m     \u001b[38;5;28mself\u001b[39m\u001b[38;5;241m.\u001b[39mget_parent(\u001b[38;5;124m\"\u001b[39m\u001b[38;5;124mshell\u001b[39m\u001b[38;5;124m\"\u001b[39m),\n\u001b[0;32m   1266\u001b[0m     password\u001b[38;5;241m=\u001b[39m\u001b[38;5;28;01mFalse\u001b[39;00m,\n\u001b[0;32m   1267\u001b[0m )\n",
      "File \u001b[1;32mc:\\ProgramData\\anaconda3\\Lib\\site-packages\\ipykernel\\kernelbase.py:1305\u001b[0m, in \u001b[0;36mKernel._input_request\u001b[1;34m(self, prompt, ident, parent, password)\u001b[0m\n\u001b[0;32m   1302\u001b[0m \u001b[38;5;28;01mexcept\u001b[39;00m \u001b[38;5;167;01mKeyboardInterrupt\u001b[39;00m:\n\u001b[0;32m   1303\u001b[0m     \u001b[38;5;66;03m# re-raise KeyboardInterrupt, to truncate traceback\u001b[39;00m\n\u001b[0;32m   1304\u001b[0m     msg \u001b[38;5;241m=\u001b[39m \u001b[38;5;124m\"\u001b[39m\u001b[38;5;124mInterrupted by user\u001b[39m\u001b[38;5;124m\"\u001b[39m\n\u001b[1;32m-> 1305\u001b[0m     \u001b[38;5;28;01mraise\u001b[39;00m \u001b[38;5;167;01mKeyboardInterrupt\u001b[39;00m(msg) \u001b[38;5;28;01mfrom\u001b[39;00m \u001b[38;5;28;01mNone\u001b[39;00m\n\u001b[0;32m   1306\u001b[0m \u001b[38;5;28;01mexcept\u001b[39;00m \u001b[38;5;167;01mException\u001b[39;00m:\n\u001b[0;32m   1307\u001b[0m     \u001b[38;5;28mself\u001b[39m\u001b[38;5;241m.\u001b[39mlog\u001b[38;5;241m.\u001b[39mwarning(\u001b[38;5;124m\"\u001b[39m\u001b[38;5;124mInvalid Message:\u001b[39m\u001b[38;5;124m\"\u001b[39m, exc_info\u001b[38;5;241m=\u001b[39m\u001b[38;5;28;01mTrue\u001b[39;00m)\n",
      "\u001b[1;31mKeyboardInterrupt\u001b[0m: Interrupted by user"
     ]
    }
   ],
   "source": [
    "#Problem Statement: Finding higest temperature in the avg temperature of 5 days \n",
    "counter_var = 1\n",
    "temperature = []\n",
    "for i in range(1,6):\n",
    "    user_input = int(input(f'Enter Temperature of Day {counter_var}'))\n",
    "    counter_var += 1\n",
    "    temperature.append(user_input)\n",
    "\n",
    "print(temperature)\n",
    "\n",
    "avg_temp = int(sum(temperature)/len(temperature))\n",
    "print(avg_temp)\n",
    "for i in range(0, len(temperature)):\n",
    "    if temperature[i] >= avg_temp:\n",
    "        print(f'Temperature of day {i+1} is greater or equal to avg temperature')\n",
    "    else:\n",
    "        print(f'Temperature of day {i+1} is lesser than avg temperature')"
   ]
  },
  {
   "cell_type": "code",
   "execution_count": null,
   "id": "b0401336",
   "metadata": {},
   "outputs": [],
   "source": [
    "# Grade Program with nested lists"
   ]
  },
  {
   "cell_type": "markdown",
   "id": "8cef6bee",
   "metadata": {},
   "source": [
    "## Dictionaries (dict)\n",
    "The `dict` data type is used to store key-value pairs. Dictionaries are mutable and allow fast access to values using keys.\n",
    "\n",
    "### Examples:\n",
    "- Creating dictionaries\n",
    "- Accessing values by keys\n",
    "- Adding or removing key-value pairs"
   ]
  },
  {
   "cell_type": "code",
   "execution_count": null,
   "id": "bd65bb84",
   "metadata": {},
   "outputs": [],
   "source": [
    "# Dictionary Examples\n",
    "# Creating a dictionary\n",
    "person = {\"name\": \"Alice\", \"age\": 30, \"city\": \"New York\"}\n",
    "\n",
    "# Accessing values by keys\n",
    "name = person[\"name\"]\n",
    "\n",
    "# Adding or removing key-value pairs\n",
    "person[\"job\"] = \"Engineer\"\n",
    "del person[\"city\"]\n",
    "\n",
    "print(person)\n",
    "print(name)"
   ]
  },
  {
   "cell_type": "markdown",
   "id": "9bfd1e4e",
   "metadata": {},
   "source": [
    "## Tuples (tuple)\n",
    "The `tuple` data type is used to store ordered collections of items. Tuples are immutable, meaning their contents cannot be changed.\n",
    "\n",
    "### Examples:\n",
    "- Creating tuples\n",
    "- Accessing elements\n",
    "- Discussing immutability"
   ]
  },
  {
   "cell_type": "code",
   "execution_count": null,
   "id": "2c3f8312",
   "metadata": {},
   "outputs": [],
   "source": [
    "# Tuple Examples\n",
    "# Creating a tuple\n",
    "coordinates = (10, 20)\n",
    "\n",
    "# Accessing elements\n",
    "x = coordinates[0]\n",
    "y = coordinates[1]\n",
    "\n",
    "# Immutability\n",
    "# coordinates[0] = 15  # This will raise an error\n",
    "\n",
    "print(coordinates)\n",
    "print(x, y)"
   ]
  },
  {
   "cell_type": "markdown",
   "id": "c1a5e7e0",
   "metadata": {},
   "source": [
    "## Sets (set)\n",
    "The `set` data type is used to store unordered collections of unique items. Sets are mutable but do not allow duplicate elements.\n",
    "\n",
    "### Examples:\n",
    "- Creating sets\n",
    "- Performing set operations like union and intersection\n",
    "- Discussing uniqueness of elements"
   ]
  },
  {
   "cell_type": "code",
   "execution_count": null,
   "id": "bb72e90d",
   "metadata": {},
   "outputs": [],
   "source": [
    "# Set Examples\n",
    "# Creating a set\n",
    "unique_numbers = {1, 2, 3, 4}\n",
    "\n",
    "# Adding elements\n",
    "unique_numbers.add(5)\n",
    "\n",
    "# Performing set operations\n",
    "even_numbers = {2, 4, 6}\n",
    "union_set = unique_numbers.union(even_numbers)\n",
    "intersection_set = unique_numbers.intersection(even_numbers)\n",
    "\n",
    "print(unique_numbers)\n",
    "print(union_set)\n",
    "print(intersection_set)"
   ]
  }
 ],
 "metadata": {
  "kernelspec": {
   "display_name": "base",
   "language": "python",
   "name": "python3"
  },
  "language_info": {
   "codemirror_mode": {
    "name": "ipython",
    "version": 3
   },
   "file_extension": ".py",
   "mimetype": "text/x-python",
   "name": "python",
   "nbconvert_exporter": "python",
   "pygments_lexer": "ipython3",
   "version": "3.12.7"
  }
 },
 "nbformat": 4,
 "nbformat_minor": 5
}
