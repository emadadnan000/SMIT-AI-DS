{
 "cells": [
  {
   "cell_type": "markdown",
   "id": "f0c83625",
   "metadata": {},
   "source": [
    "# Conditional Statements\n"
   ]
  },
  {
   "cell_type": "markdown",
   "id": "31fc5f5e",
   "metadata": {},
   "source": [
    "## Syntax\n",
    "\n",
    "```python\n",
    "if condition:\n",
    "    # code\n",
    "elif condition:\n",
    "    # code\n",
    "else:\n",
    "    # code\n",
    "```"
   ]
  },
  {
   "cell_type": "code",
   "execution_count": 1,
   "id": "97eed3d2",
   "metadata": {},
   "outputs": [
    {
     "name": "stdout",
     "output_type": "stream",
     "text": [
      "Even Number\n"
     ]
    }
   ],
   "source": [
    "# Even Odd Program\n",
    "num = int(input(\"Enter a number: \"))\n",
    "if num % 2 == 0:\n",
    "    print(\"Even Number\")\n",
    "else:\n",
    "    print(\"Odd Number\")"
   ]
  },
  {
   "cell_type": "code",
   "execution_count": 2,
   "id": "0db82fc5",
   "metadata": {},
   "outputs": [
    {
     "name": "stdout",
     "output_type": "stream",
     "text": [
      "Failed\n"
     ]
    }
   ],
   "source": [
    "# Result Program\n",
    "percentage = int(input(\"Enter your percentage: \"))\n",
    "if percentage >= 70:\n",
    "    print(\"Passed\")\n",
    "else:\n",
    "    print(\"Failed\")"
   ]
  },
  {
   "cell_type": "code",
   "execution_count": 3,
   "id": "985b1f41",
   "metadata": {},
   "outputs": [
    {
     "name": "stdout",
     "output_type": "stream",
     "text": [
      "it's cold today\n"
     ]
    }
   ],
   "source": [
    "# Weather program\n",
    "weather = \"cold\"\n",
    "\n",
    "if weather == \"sunny\":\n",
    "    print(\"it's sunny today\")\n",
    "\n",
    "elif weather == \"cold\":\n",
    "    print(\"it's cold today\")\n",
    "\n",
    "else:\n",
    "    print(\"None\")"
   ]
  },
  {
   "cell_type": "code",
   "execution_count": 4,
   "id": "28a8dc83",
   "metadata": {},
   "outputs": [
    {
     "name": "stdout",
     "output_type": "stream",
     "text": [
      "Your discounted price is 19.0\n"
     ]
    }
   ],
   "source": [
    "# Discount program\n",
    "total_price = int(input(\"Enter any number: \"))\n",
    "if total_price >= 500:\n",
    "    discounted_price = total_price - (total_price * 10) / 100\n",
    "    print(f\"Your discounted price is {float(discounted_price)}\")\n",
    "else:\n",
    "    discounted_price = total_price - (total_price * 5) / 100\n",
    "    print(f\"Your discounted price is {float(discounted_price)}\")"
   ]
  },
  {
   "cell_type": "code",
   "execution_count": 5,
   "id": "986483fb",
   "metadata": {},
   "outputs": [],
   "source": [
    "# Vowel Checker in Sentence\n",
    "vowels = 'aeiouAEIOU'\n",
    "sentence = input(\"Enter any sentence: \")\n",
    "for i in sentence:\n",
    "    if i in vowels:\n",
    "        print(i, end=' ')"
   ]
  }
 ],
 "metadata": {
  "kernelspec": {
   "display_name": "Python 3",
   "language": "python",
   "name": "python3"
  },
  "language_info": {
   "codemirror_mode": {
    "name": "ipython",
    "version": 3
   },
   "file_extension": ".py",
   "mimetype": "text/x-python",
   "name": "python",
   "nbconvert_exporter": "python",
   "pygments_lexer": "ipython3",
   "version": "3.13.3"
  }
 },
 "nbformat": 4,
 "nbformat_minor": 5
}
