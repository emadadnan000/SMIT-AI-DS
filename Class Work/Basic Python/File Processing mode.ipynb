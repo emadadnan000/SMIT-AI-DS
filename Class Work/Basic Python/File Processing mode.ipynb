{
 "cells": [
  {
   "cell_type": "markdown",
   "id": "8b648eda",
   "metadata": {},
   "source": [
    "# Files and Their Processing Modes in Python\n",
    "It explains file handling in Python, including various file modes and examples of reading, writing, and appending to files."
   ]
  },
  {
   "cell_type": "markdown",
   "id": "f83468e9",
   "metadata": {},
   "source": [
    "## Import Required Libraries\n",
    "Import any necessary libraries, such as `os`, if needed for file handling."
   ]
  },
  {
   "cell_type": "code",
   "execution_count": 1,
   "id": "94e787c7",
   "metadata": {},
   "outputs": [],
   "source": [
    "# Import Required Libraries\n",
    "# The `os` module is imported for file handling operations if needed.\n",
    "# import os"
   ]
  },
  {
   "cell_type": "markdown",
   "id": "5691468c",
   "metadata": {},
   "source": [
    "## File Opening Modes\n",
    "Explain the different file modes in Python, such as `'r'`, `'w'`, `'a'`, `'rb'`, `'wb'`, etc., with brief descriptions."
   ]
  },
  {
   "cell_type": "markdown",
   "id": "1b4f2332",
   "metadata": {},
   "source": [
    "### Common File Modes in Python:\n",
    "- **`'r'`**: Open a file for reading (default mode). The file must exist.\n",
    "- **`'w'`**: Open a file for writing. Creates a new file if it doesn't exist or truncates the file if it exists.\n",
    "- **`'a'`**: Open a file for appending. Creates a new file if it doesn't exist.\n",
    "- **`'rb'`**: Open a file for reading in binary mode.\n",
    "- **`'wb'`**: Open a file for writing in binary mode."
   ]
  },
  {
   "cell_type": "markdown",
   "id": "cf148e45",
   "metadata": {},
   "source": [
    "## Reading from a File\n",
    "Provide an example of opening a file in `'r'` mode and reading its contents using `read()`, `readline()`, and `readlines()`."
   ]
  },
  {
   "cell_type": "code",
   "execution_count": null,
   "id": "fe252373",
   "metadata": {},
   "outputs": [],
   "source": [
    "# Reading from a File\n",
    "# Example file content: \"Hello\\nWorld\\nPython\\n\"\n",
    "file_path = \"example.txt\"\n",
    "\n",
    "# Ensure the file exists for demonstration\n",
    "with open(file_path, 'w') as f:\n",
    "    f.write(\"Hello\\nWorld\\nPython\\n\")\n",
    "\n",
    "# Open the file in 'r' mode\n",
    "with open(file_path, 'r') as file:\n",
    "    # Read the entire content\n",
    "    content = file.read()\n",
    "    print(\"Using read():\")\n",
    "    print(content)\n",
    "\n",
    "    # Reset the file pointer to the beginning\n",
    "    file.seek(0)\n",
    "\n",
    "    # Read one line at a time\n",
    "    print(\"\\nUsing readline():\")\n",
    "    print(file.readline().strip())\n",
    "\n",
    "    # Reset the file pointer to the beginning\n",
    "    file.seek(0)\n",
    "\n",
    "    # Read all lines into a list\n",
    "    print(\"\\nUsing readlines():\")\n",
    "    print(file.readlines())"
   ]
  },
  {
   "cell_type": "markdown",
   "id": "e1975490",
   "metadata": {},
   "source": [
    "## Writing to a File\n",
    "Demonstrate how to open a file in `'w'` mode and write data to it using the `write()` method."
   ]
  },
  {
   "cell_type": "code",
   "execution_count": null,
   "id": "291f1fdc",
   "metadata": {},
   "outputs": [],
   "source": [
    "# Writing to a File\n",
    "file_path = \"example_write.txt\"\n",
    "\n",
    "# Open the file in 'w' mode\n",
    "with open(file_path, 'w') as file:\n",
    "    file.write(\"This is a new file.\\n\")\n",
    "    file.write(\"Writing data to the file.\\n\")\n",
    "\n",
    "print(f\"Data written to {file_path}.\")"
   ]
  },
  {
   "cell_type": "markdown",
   "id": "51d59ff1",
   "metadata": {},
   "source": [
    "## Appending to a File\n",
    "Show how to open a file in `'a'` mode and append data to it."
   ]
  },
  {
   "cell_type": "code",
   "execution_count": null,
   "id": "a3e5b918",
   "metadata": {},
   "outputs": [],
   "source": [
    "# Appending to a File\n",
    "file_path = \"example_write.txt\"\n",
    "\n",
    "# Open the file in 'a' mode\n",
    "with open(file_path, 'a') as file:\n",
    "    file.write(\"Appending new data to the file.\\n\")\n",
    "\n",
    "print(f\"Data appended to {file_path}.\")"
   ]
  },
  {
   "cell_type": "markdown",
   "id": "221b9769",
   "metadata": {},
   "source": [
    "## Using `with` Statement for File Handling\n",
    "Explain and demonstrate the use of the `with` statement to handle files, ensuring proper resource management."
   ]
  },
  {
   "cell_type": "code",
   "execution_count": null,
   "id": "0d992238",
   "metadata": {},
   "outputs": [],
   "source": [
    "# Using `with` Statement for File Handling\n",
    "file_path = \"example_with.txt\"\n",
    "\n",
    "# Using 'with' ensures the file is properly closed after operations\n",
    "with open(file_path, 'w') as file:\n",
    "    file.write(\"Using 'with' statement for file handling.\\n\")\n",
    "\n",
    "print(f\"File {file_path} created and written using 'with' statement.\")"
   ]
  },
  {
   "cell_type": "markdown",
   "id": "a0d0fd10",
   "metadata": {},
   "source": [
    "## Handling File Exceptions\n",
    "Provide examples of handling exceptions, such as `FileNotFoundError`, using try-except blocks."
   ]
  },
  {
   "cell_type": "code",
   "execution_count": null,
   "id": "a52ec22b",
   "metadata": {},
   "outputs": [],
   "source": [
    "# Handling File Exceptions\n",
    "file_path = \"non_existent_file.txt\"\n",
    "\n",
    "try:\n",
    "    # Attempt to open a non-existent file\n",
    "    with open(file_path, 'r') as file:\n",
    "        content = file.read()\n",
    "except FileNotFoundError:\n",
    "    print(f\"Error: The file '{file_path}' does not exist.\")\n",
    "except Exception as e:\n",
    "    print(f\"An unexpected error occurred: {e}\")"
   ]
  }
 ],
 "metadata": {
  "kernelspec": {
   "display_name": "Python 3",
   "language": "python",
   "name": "python3"
  },
  "language_info": {
   "codemirror_mode": {
    "name": "ipython",
    "version": 3
   },
   "file_extension": ".py",
   "mimetype": "text/x-python",
   "name": "python",
   "nbconvert_exporter": "python",
   "pygments_lexer": "ipython3",
   "version": "3.13.3"
  }
 },
 "nbformat": 4,
 "nbformat_minor": 5
}
