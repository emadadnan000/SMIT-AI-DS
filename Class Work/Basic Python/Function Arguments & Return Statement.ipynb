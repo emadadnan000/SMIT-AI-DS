{
  "cells": [
    {
      "cell_type": "markdown",
      "metadata": {
        "id": "qtb2BWFOWqzG"
      },
      "source": [
        "# Function Arguments and return statement\n",
        "There are four types of arguments that we can provide in a function:\n",
        "\n",
        "1. Default Arguments\n",
        "2. Keyword Arguments\n",
        "3. Variable length Arguments\n",
        "4. Required Arguments\n",
        "\n",
        "\n",
        "\n",
        "1. Default arguments:\n",
        "\n",
        "We can provide a default value while creating a function. This way the function assumes a default value even if a value is not provided in the function call for that argument.\n",
        "\n",
        "**Example:**"
      ]
    },
    {
      "cell_type": "code",
      "execution_count": null,
      "metadata": {
        "colab": {
          "base_uri": "https://localhost:8080/",
          "height": 215
        },
        "id": "iKpDiA00tRbE",
        "outputId": "80061090-7d0e-4d5e-cab1-48763416d9b7"
      },
      "outputs": [],
      "source": [
        "def sum(a,b):\n",
        "  sum = a + b\n",
        "  print(sum)\n",
        "\n",
        "\n",
        "sum()\n",
        "\n",
        "\n"
      ]
    },
    {
      "cell_type": "code",
      "execution_count": null,
      "metadata": {
        "colab": {
          "base_uri": "https://localhost:8080/"
        },
        "id": "R2vz8nthWq7x",
        "outputId": "374aaf5d-2323-4b8e-ea2e-3825274f9111"
      },
      "outputs": [],
      "source": [
        "def name(fname):\n",
        "    print(\"Hello,\", fname)\n",
        "\n",
        "name(\"John\")"
      ]
    },
    {
      "cell_type": "markdown",
      "metadata": {
        "id": "qfPrwY2yWrDx"
      },
      "source": [
        "## Keyword arguments:\n",
        "We can provide arguments with key = value, this way the interpreter recognizes the arguments by the parameter name. Hence, the the order in which the arguments are passed does not matter.\n",
        "\n",
        "**Example:**"
      ]
    },
    {
      "cell_type": "code",
      "execution_count": 1,
      "metadata": {
        "colab": {
          "base_uri": "https://localhost:8080/"
        },
        "id": "cVpHS1dpWrLv",
        "outputId": "d6548d5f-5125-4472-987f-dfab601a35f8"
      },
      "outputs": [
        {
          "name": "stdout",
          "output_type": "stream",
          "text": [
            "Hello, Jade Peter Wesker\n"
          ]
        }
      ],
      "source": [
        "def name(fname, mname, lname):\n",
        "    print(\"Hello,\", fname, mname, lname)\n",
        "\n",
        "name(mname = \"Peter\",  lname = \"Wesker\", fname = \"Jade\")"
      ]
    },
    {
      "cell_type": "markdown",
      "metadata": {
        "id": "tJ7iy22BWrS5"
      },
      "source": [
        "## Required arguments:\n",
        "In case we don’t pass the arguments with a key = value syntax, then it is necessary to pass the arguments in the correct positional order and the number of arguments passed should match with actual function definition.\n",
        "\n",
        "**Example 1:**\n",
        "\n",
        "when number of arguments passed does not match to the actual function definition."
      ]
    },
    {
      "cell_type": "code",
      "execution_count": null,
      "metadata": {
        "colab": {
          "base_uri": "https://localhost:8080/",
          "height": 180
        },
        "id": "bGUkgvjKWra7",
        "outputId": "bc02d7a0-b1b1-438d-e2a2-06bc5fb958b9"
      },
      "outputs": [],
      "source": [
        "def name(fname, mname, lname):\n",
        "    print(\"Hello,\", fname, mname, lname)\n",
        "\n",
        "name(\"Peter\", \"Quill\")"
      ]
    },
    {
      "cell_type": "markdown",
      "metadata": {
        "id": "AB4B_ZNPWrif"
      },
      "source": [
        "**Example 2**:\n",
        "\n",
        "when number of arguments passed matches to the actual function definition."
      ]
    },
    {
      "cell_type": "code",
      "execution_count": null,
      "metadata": {
        "colab": {
          "base_uri": "https://localhost:8080/"
        },
        "id": "c3E78CWiYeO3",
        "outputId": "d018d96c-060f-4c72-bf32-b4f96cc1e1d2"
      },
      "outputs": [],
      "source": [
        "def name(fname, mname, lname):\n",
        "    print(\"Hello,\", fname, mname, lname)\n",
        "\n",
        "name(\"Peter\", \"Ego\", \"Quill\")"
      ]
    },
    {
      "cell_type": "code",
      "execution_count": null,
      "metadata": {
        "colab": {
          "base_uri": "https://localhost:8080/"
        },
        "id": "FqZY-GhWR6Tf",
        "outputId": "c341f1b8-d3bc-408a-bb16-c65a966b97f6"
      },
      "outputs": [],
      "source": [
        "def abc():\n",
        "  a = 9\n",
        "  print(a)\n",
        "\n",
        "abc()\n",
        "print(a)"
      ]
    },
    {
      "cell_type": "code",
      "execution_count": 2,
      "metadata": {
        "colab": {
          "base_uri": "https://localhost:8080/"
        },
        "id": "KQQcdBDP6tpe",
        "outputId": "64c4e102-d7dd-4382-f258-7663880ed2c7"
      },
      "outputs": [
        {
          "name": "stdout",
          "output_type": "stream",
          "text": [
            "Hello, Hammad Ahmed None\n"
          ]
        }
      ],
      "source": [
        "def name(fname = \"Ali\", mname = \"Ahmed\", lname = None):\n",
        "    print(\"Hello,\", fname, mname, lname)\n",
        "name(fname = \"Hammad\")\n",
        "\n",
        "\n"
      ]
    },
    {
      "cell_type": "markdown",
      "metadata": {
        "id": "fxWIAm1XWryI"
      },
      "source": [
        "## Variable-length arguments:\n",
        "Sometimes we may need to pass more arguments than those defined in the actual function. This can be done using variable-length arguments.\n",
        "\n",
        "There are two ways to achieve this:\n",
        "\n",
        "### Arbitrary Arguments:\n",
        "While creating a function, pass a * before the parameter name while defining the function. The function accesses the arguments by processing them in the form of tuple.\n",
        "\n",
        "**Example:**"
      ]
    },
    {
      "cell_type": "code",
      "execution_count": null,
      "metadata": {
        "colab": {
          "base_uri": "https://localhost:8080/"
        },
        "id": "wngYUys7Wr6M",
        "outputId": "1e1439fd-1d0e-4a52-c0a7-e0e4e4158d61"
      },
      "outputs": [],
      "source": [
        "def name(*name):\n",
        "    print(\"Hello,\", name)\n",
        "\n",
        "name(\"James\", \"Buchanan\", \"Barnes\")"
      ]
    },
    {
      "cell_type": "markdown",
      "metadata": {
        "id": "Xf-KbvQcWsBn"
      },
      "source": [
        "## return Statement\n",
        "The return statement is used to return the value of the expression back to the calling function."
      ]
    },
    {
      "cell_type": "code",
      "execution_count": null,
      "metadata": {
        "colab": {
          "base_uri": "https://localhost:8080/"
        },
        "id": "D-m8jz7SWsLd",
        "outputId": "7276c5c5-2cc6-482f-92b5-a4ade180b9f2"
      },
      "outputs": [],
      "source": [
        "def add(num1 , num2):\n",
        "  result = num1 + num2\n",
        "  return result\n",
        "  return 2\n",
        "  return 3\n",
        "\n",
        "a = add(2 , 4)\n",
        "print(a)"
      ]
    },
    {
      "cell_type": "code",
      "execution_count": null,
      "metadata": {
        "colab": {
          "base_uri": "https://localhost:8080/"
        },
        "id": "c7y9SHd0-Q1b",
        "outputId": "2f33743c-8e52-4de2-cd56-6f12e51ab44f"
      },
      "outputs": [],
      "source": [
        "def sum_of_two_number(a,b):\n",
        "  result = a + b\n",
        "  return result\n",
        "  return \"Hello\"\n",
        "\n",
        "sum_of_two_number(2,4)"
      ]
    },
    {
      "cell_type": "code",
      "execution_count": null,
      "metadata": {
        "colab": {
          "base_uri": "https://localhost:8080/"
        },
        "id": "V9on_fv0-96z",
        "outputId": "73bf109d-0cee-4457-f125-18e0e7c5f69f"
      },
      "outputs": [],
      "source": [
        "def find_the_max(a,b,c):\n",
        "  if a > b and a > c:\n",
        "    print(a)\n",
        "  elif b > a and b > c:\n",
        "    print(b)\n",
        "  else:\n",
        "    print(c)\n",
        "find_the_max(2,14,6)"
      ]
    },
    {
      "cell_type": "code",
      "execution_count": null,
      "metadata": {
        "id": "hQYUTEG5VofC"
      },
      "outputs": [],
      "source": [
        "def abc():\n",
        "  a = 9\n",
        "  "
      ]
    }
  ],
  "metadata": {
    "colab": {
      "provenance": []
    },
    "kernelspec": {
      "display_name": "Python 3",
      "name": "python3"
    },
    "language_info": {
      "codemirror_mode": {
        "name": "ipython",
        "version": 3
      },
      "file_extension": ".py",
      "mimetype": "text/x-python",
      "name": "python",
      "nbconvert_exporter": "python",
      "pygments_lexer": "ipython3",
      "version": "3.13.3"
    }
  },
  "nbformat": 4,
  "nbformat_minor": 0
}
