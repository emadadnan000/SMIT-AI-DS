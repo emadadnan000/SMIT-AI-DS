{
 "cells": [
  {
   "cell_type": "markdown",
   "id": "2a43a285",
   "metadata": {
    "id": "2a43a285"
   },
   "source": [
    "### List Functions By User Input"
   ]
  },
  {
   "cell_type": "code",
   "execution_count": 1,
   "id": "3956302d",
   "metadata": {
    "id": "3956302d",
    "outputId": "8f16d958-b957-43cc-a7a3-279990e770fd"
   },
   "outputs": [
    {
     "name": "stdout",
     "output_type": "stream",
     "text": [
      "\t\t\t====List Modification====\n",
      "1. To add an item at the end of a list\n",
      "2. to remove last item from the list\n",
      "3. To insert item from the specific position in the list\n",
      "4. To add more than one item of the list\n",
      "5. To copy List\n"
     ]
    },
    {
     "ename": "ValueError",
     "evalue": "invalid literal for int() with base 10: ''",
     "output_type": "error",
     "traceback": [
      "\u001b[31m---------------------------------------------------------------------------\u001b[39m",
      "\u001b[31mValueError\u001b[39m                                Traceback (most recent call last)",
      "\u001b[36mCell\u001b[39m\u001b[36m \u001b[39m\u001b[32mIn[1]\u001b[39m\u001b[32m, line 7\u001b[39m\n\u001b[32m      4\u001b[39m \u001b[38;5;28mprint\u001b[39m(\u001b[33m\"\u001b[39m\u001b[38;5;130;01m\\t\u001b[39;00m\u001b[38;5;130;01m\\t\u001b[39;00m\u001b[38;5;130;01m\\t\u001b[39;00m\u001b[33m====List Modification====\u001b[39m\u001b[33m\"\u001b[39m)\n\u001b[32m      6\u001b[39m \u001b[38;5;28mprint\u001b[39m(\u001b[33m\"\u001b[39m\u001b[33m1. To add an item at the end of a list\u001b[39m\u001b[38;5;130;01m\\n\u001b[39;00m\u001b[33m2. to remove last item from the list\u001b[39m\u001b[38;5;130;01m\\n\u001b[39;00m\u001b[33m3. To insert item from the specific position in the list\u001b[39m\u001b[38;5;130;01m\\n\u001b[39;00m\u001b[33m4. To add more than one item of the list\u001b[39m\u001b[38;5;130;01m\\n\u001b[39;00m\u001b[33m5. To copy List\u001b[39m\u001b[33m\"\u001b[39m)\n\u001b[32m----> \u001b[39m\u001b[32m7\u001b[39m mod_in_list = \u001b[38;5;28;43mint\u001b[39;49m\u001b[43m(\u001b[49m\u001b[38;5;28;43minput\u001b[39;49m\u001b[43m(\u001b[49m\u001b[33;43m\"\u001b[39;49m\u001b[33;43mWhat do you want to in a list: \u001b[39;49m\u001b[33;43m\"\u001b[39;49m\u001b[43m)\u001b[49m\u001b[43m)\u001b[49m\n\u001b[32m     10\u001b[39m                                      \u001b[38;5;66;03m# Add an Item at the end of the List\u001b[39;00m\n\u001b[32m     13\u001b[39m \u001b[38;5;28;01mif\u001b[39;00m mod_in_list == \u001b[32m1\u001b[39m:\n",
      "\u001b[31mValueError\u001b[39m: invalid literal for int() with base 10: ''"
     ]
    }
   ],
   "source": [
    "list_1 = [1,2,3,4,5]\n",
    "new_list = []\n",
    "\n",
    "print(\"\\t\\t\\t====List Modification====\")\n",
    "\n",
    "print(\"1. To add an item at the end of a list\\n2. to remove last item from the list\\n3. To insert item from the specific position in the list\\n4. To add more than one item of the list\\n5. To copy List\")\n",
    "mod_in_list = int(input(\"What do you want to in a list: \"))\n",
    "\n",
    "\n",
    "                                     # Add an Item at the end of the List\n",
    "\n",
    "\n",
    "if mod_in_list == 1:\n",
    "    add_item = int(input(\"Enter the item: \"))\n",
    "    list_1.append(add_item)\n",
    "    print(list_1)\n",
    "\n",
    "\n",
    "\n",
    "                                     # Remove Item at the end of the List\n",
    "elif mod_in_list == 2:\n",
    "    list_1.pop()\n",
    "    print(list_1)\n",
    "    print(\"LAST ITEM HAS BEEN REMOVED\")\n",
    "\n",
    "\n",
    "                                    # To inser items at the end of the list\n",
    "\n",
    "\n",
    "\n",
    "elif mod_in_list == 3:\n",
    "    ele_ind = int(input(\"Enter the index number in which you want to add: \"))\n",
    "    add_item = input(\"Enter item which you want to add: \")\n",
    "    list_1.insert(ele_ind,int(add_item))\n",
    "    print(list_1)\n",
    "    print(add_item + \" has been add at the\" , ele_ind , \"position\" )\n",
    "\n",
    "\n",
    "                                 # To add more than one item in the list\n",
    "\n",
    "elif mod_in_list == 4:\n",
    "\n",
    "    no_of_items = int(input(\"How many Items do you want to add: \"))\n",
    "\n",
    "    for i in range(1,no_of_items+1):\n",
    "        item = input(\"Enter item: \")\n",
    "        new_list.append(item)\n",
    "\n",
    "    list_1.extend(new_list)\n",
    "    print(list_1)\n",
    "    print(\"ITEMS HAS BEEN ADDED AT THE END OF THE LIST!!\")\n",
    "\n",
    "                                        # To Copy List\n",
    "\n",
    "elif mod_in_list == 5:\n",
    "    new_list = list_1.copy()\n",
    "    print(new_list)\n",
    "\n",
    "\n",
    "print(\"========================================================================================================================\")"
   ]
  },
  {
   "cell_type": "code",
   "execution_count": null,
   "id": "f571a542",
   "metadata": {
    "id": "f571a542",
    "outputId": "0cc2740e-b15e-4080-88bc-1e4dac80a53a"
   },
   "outputs": [],
   "source": [
    "num_list = []\n",
    "\n",
    "for i in range(1,51):\n",
    "    num_list.append(i)\n",
    "\n",
    "print(num_list)"
   ]
  },
  {
   "cell_type": "code",
   "execution_count": null,
   "id": "8c679a5e",
   "metadata": {
    "id": "8c679a5e",
    "outputId": "f96901b7-1e53-472b-b62a-c40b8823b08e"
   },
   "outputs": [],
   "source": [
    "even_list = []\n",
    "odd_list = []\n",
    "\n",
    "for i in num_list:\n",
    "\n",
    "    if i % 2 == 0 :\n",
    "        even_list.append(i)\n",
    "    elif i % 2 != 0:\n",
    "        odd_list.append(i)\n",
    "\n",
    "\n",
    "print(\"Even Numbers list: \" , even_list)\n",
    "print(\"Odd Numbers list: \" , odd_list)\n"
   ]
  }
 ],
 "metadata": {
  "colab": {
   "provenance": []
  },
  "kernelspec": {
   "display_name": "Python 3",
   "language": "python",
   "name": "python3"
  },
  "language_info": {
   "codemirror_mode": {
    "name": "ipython",
    "version": 3
   },
   "file_extension": ".py",
   "mimetype": "text/x-python",
   "name": "python",
   "nbconvert_exporter": "python",
   "pygments_lexer": "ipython3",
   "version": "3.13.3"
  }
 },
 "nbformat": 4,
 "nbformat_minor": 5
}
