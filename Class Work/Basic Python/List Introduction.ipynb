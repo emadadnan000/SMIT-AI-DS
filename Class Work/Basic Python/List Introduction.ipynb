{
  "cells": [
    {
      "cell_type": "markdown",
      "id": "71e16434",
      "metadata": {
        "id": "71e16434"
      },
      "source": [
        "# Python Lists\n",
        "\n",
        "1. Lists are ordered collection of data items.\n",
        "\n",
        "2. They store multiple items in a single variable.\n",
        "\n",
        "3. List items are separated by commas and enclosed within square brackets [].\n",
        "\n",
        "4. Lists are changeable meaning we can alter them after creation.\n"
      ]
    },
    {
      "cell_type": "code",
      "execution_count": null,
      "id": "a2bbd155",
      "metadata": {
        "id": "a2bbd155",
        "outputId": "125d4b95-6696-4033-e5bb-77c65b0ea046",
        "colab": {
          "base_uri": "https://localhost:8080/"
        }
      },
      "outputs": [
        {
          "output_type": "stream",
          "name": "stdout",
          "text": [
            "[1, 2, 3, 4, 5]\n"
          ]
        }
      ],
      "source": [
        "a = [1,2,3,4,5]\n",
        "print(a)"
      ]
    },
    {
      "cell_type": "code",
      "execution_count": null,
      "id": "8a6f5d69",
      "metadata": {
        "id": "8a6f5d69",
        "outputId": "fe77cca9-a166-4c64-e9ed-6648a2a9edb7",
        "colab": {
          "base_uri": "https://localhost:8080/"
        }
      },
      "outputs": [
        {
          "output_type": "stream",
          "name": "stdout",
          "text": [
            "[1, 2, 4, 6]\n"
          ]
        }
      ],
      "source": [
        "lst_1 = [1,2,4,6]\n",
        "print(lst_1)"
      ]
    },
    {
      "cell_type": "code",
      "execution_count": null,
      "id": "ea591080",
      "metadata": {
        "id": "ea591080",
        "outputId": "21b4480a-c2ee-4c66-dc9f-84d2505d89f7",
        "colab": {
          "base_uri": "https://localhost:8080/"
        }
      },
      "outputs": [
        {
          "output_type": "stream",
          "name": "stdout",
          "text": [
            "['Red', 'Green', 'Blue']\n"
          ]
        }
      ],
      "source": [
        "lst_2 = [\"Red\" , \"Green\" , \"Blue\"]\n",
        "print(lst_2)"
      ]
    },
    {
      "cell_type": "code",
      "execution_count": null,
      "id": "9851b27f",
      "metadata": {
        "id": "9851b27f",
        "outputId": "2f61ae54-9f40-4fb4-e077-398547f3a493",
        "colab": {
          "base_uri": "https://localhost:8080/"
        }
      },
      "outputs": [
        {
          "output_type": "execute_result",
          "data": {
            "text/plain": [
              "[1, 2, 4, 6]"
            ]
          },
          "metadata": {},
          "execution_count": 7
        }
      ],
      "source": [
        "lst_1"
      ]
    },
    {
      "cell_type": "code",
      "execution_count": null,
      "id": "37f85ca4",
      "metadata": {
        "id": "37f85ca4",
        "outputId": "c662bb77-18c8-45a5-9881-d0282e8efdf1",
        "colab": {
          "base_uri": "https://localhost:8080/"
        }
      },
      "outputs": [
        {
          "output_type": "execute_result",
          "data": {
            "text/plain": [
              "['Red', 'Green', 'Blue']"
            ]
          },
          "metadata": {},
          "execution_count": 6
        }
      ],
      "source": [
        "lst_2"
      ]
    },
    {
      "cell_type": "code",
      "execution_count": null,
      "id": "d7cb9f6b",
      "metadata": {
        "id": "d7cb9f6b",
        "outputId": "2516664b-3edc-4dcd-ae10-a38d8fef6c8d",
        "colab": {
          "base_uri": "https://localhost:8080/"
        }
      },
      "outputs": [
        {
          "output_type": "stream",
          "name": "stdout",
          "text": [
            "['Ali', 29, 'Ahmed', 21, 'Zaid', 26, True]\n"
          ]
        }
      ],
      "source": [
        "names_age = [\"Ali\" , 29 , \"Ahmed\" , 21 , \"Zaid\" , 26, True]\n",
        "print(names_age)"
      ]
    },
    {
      "cell_type": "markdown",
      "id": "4957857f",
      "metadata": {
        "id": "4957857f"
      },
      "source": [
        "As we can see, a single list can contain items of different data types.\n",
        "\n"
      ]
    },
    {
      "cell_type": "markdown",
      "id": "5ad9cb68",
      "metadata": {
        "id": "5ad9cb68"
      },
      "source": [
        "## List Index\n",
        "\n",
        "Each item/element in a list has its own unique index. This index can be used to access any particular item from the list. The first item has index [0], second item has index [1], third item has index [2] and so on."
      ]
    },
    {
      "cell_type": "code",
      "execution_count": null,
      "id": "c72f29ca",
      "metadata": {
        "id": "c72f29ca",
        "outputId": "4c9ff924-2b0b-4fd3-b247-30986222b7ec",
        "colab": {
          "base_uri": "https://localhost:8080/"
        }
      },
      "outputs": [
        {
          "output_type": "stream",
          "name": "stdout",
          "text": [
            "3\n",
            "Cupboard\n"
          ]
        }
      ],
      "source": [
        "lst_2 =  [\"Chair\" , \"Table\" , \"Cupboard\"]\n",
        "\n",
        "#         [0]       [1]        [2]\n",
        "\n",
        "print(len(lst_2))\n",
        "\n",
        "print(lst_2[2])"
      ]
    },
    {
      "cell_type": "markdown",
      "id": "1feb8663",
      "metadata": {
        "id": "1feb8663"
      },
      "source": [
        "## Accessing list items\n",
        "\n",
        "We can access list items by using its index with the square bracket syntax []. For example lst_2[0] will give \"Chair\", lst_2[1] will give \"Table\" and so on..."
      ]
    },
    {
      "cell_type": "markdown",
      "id": "1e2b1dd4",
      "metadata": {
        "id": "1e2b1dd4"
      },
      "source": [
        "### Positive Indexing:\n",
        "As we have seen that list items have index, as such we can access items using these indexes."
      ]
    },
    {
      "cell_type": "code",
      "execution_count": null,
      "id": "dc911acc",
      "metadata": {
        "id": "dc911acc",
        "outputId": "0751f6bc-3921-470a-eae3-1f2049372819",
        "colab": {
          "base_uri": "https://localhost:8080/",
          "height": 228
        }
      },
      "outputs": [
        {
          "output_type": "stream",
          "name": "stdout",
          "text": [
            "Chair\n",
            "Table\n",
            "Cupboard\n"
          ]
        },
        {
          "output_type": "error",
          "ename": "IndexError",
          "evalue": "list index out of range",
          "traceback": [
            "\u001b[0;31m---------------------------------------------------------------------------\u001b[0m",
            "\u001b[0;31mIndexError\u001b[0m                                Traceback (most recent call last)",
            "\u001b[0;32m<ipython-input-8-22d470c07174>\u001b[0m in \u001b[0;36m<cell line: 5>\u001b[0;34m()\u001b[0m\n\u001b[1;32m      3\u001b[0m \u001b[0mprint\u001b[0m\u001b[0;34m(\u001b[0m\u001b[0mlst_2\u001b[0m\u001b[0;34m[\u001b[0m\u001b[0;36m1\u001b[0m\u001b[0;34m]\u001b[0m\u001b[0;34m)\u001b[0m\u001b[0;34m\u001b[0m\u001b[0;34m\u001b[0m\u001b[0m\n\u001b[1;32m      4\u001b[0m \u001b[0mprint\u001b[0m\u001b[0;34m(\u001b[0m\u001b[0mlst_2\u001b[0m\u001b[0;34m[\u001b[0m\u001b[0;36m2\u001b[0m\u001b[0;34m]\u001b[0m\u001b[0;34m)\u001b[0m\u001b[0;34m\u001b[0m\u001b[0;34m\u001b[0m\u001b[0m\n\u001b[0;32m----> 5\u001b[0;31m \u001b[0mprint\u001b[0m\u001b[0;34m(\u001b[0m\u001b[0mlst_2\u001b[0m\u001b[0;34m[\u001b[0m\u001b[0;36m3\u001b[0m\u001b[0;34m]\u001b[0m\u001b[0;34m)\u001b[0m \u001b[0;31m# It generates error\u001b[0m\u001b[0;34m\u001b[0m\u001b[0;34m\u001b[0m\u001b[0m\n\u001b[0m",
            "\u001b[0;31mIndexError\u001b[0m: list index out of range"
          ]
        }
      ],
      "source": [
        "lst_2 =  [\"Chair\" , \"Table\" , \"Cupboard\"]\n",
        "print(lst_2[0])\n",
        "print(lst_2[1])\n",
        "print(lst_2[2])\n",
        "print(lst_2[3]) # It generates error"
      ]
    },
    {
      "cell_type": "markdown",
      "id": "4d8838fa",
      "metadata": {
        "id": "4d8838fa"
      },
      "source": [
        "# Negative Indexing:\n",
        "\n",
        "Similar to positive indexing, negative indexing is also used to access items, but from the end of the list. The last item has index [-1], second last item has index [-2], third last item has index [-3] and so on.\n"
      ]
    },
    {
      "cell_type": "code",
      "execution_count": null,
      "id": "3b4fd4d6",
      "metadata": {
        "id": "3b4fd4d6",
        "outputId": "9691299c-55a2-44f4-c1c6-716f9b8de4e0",
        "colab": {
          "base_uri": "https://localhost:8080/"
        }
      },
      "outputs": [
        {
          "output_type": "stream",
          "name": "stdout",
          "text": [
            "Purple\n",
            "Yellow\n",
            "Gray\n",
            "Blue\n",
            "Green\n",
            "Red\n"
          ]
        }
      ],
      "source": [
        "lst_3 = [\"Red\" , \"Green\" , \"Blue\" , \"Gray\" , \"Yellow\" , \"Purple\"]\n",
        "#        [-6]      [-5]     [-4]     [-3]      [-2]      [-1]\n",
        "\n",
        "print(lst_3[-1])\n",
        "print(lst_3[-2])\n",
        "print(lst_3[-3])\n",
        "print(lst_3[-4])\n",
        "print(lst_3[-5])\n",
        "print(lst_3[-6])"
      ]
    },
    {
      "cell_type": "code",
      "source": [
        "lst_3[-6]"
      ],
      "metadata": {
        "colab": {
          "base_uri": "https://localhost:8080/",
          "height": 35
        },
        "id": "ymvcbkU_inkO",
        "outputId": "20d351f5-4bca-4a6c-8f05-b0f2e694911c"
      },
      "id": "ymvcbkU_inkO",
      "execution_count": null,
      "outputs": [
        {
          "output_type": "execute_result",
          "data": {
            "text/plain": [
              "'Red'"
            ],
            "application/vnd.google.colaboratory.intrinsic+json": {
              "type": "string"
            }
          },
          "metadata": {},
          "execution_count": 20
        }
      ]
    },
    {
      "cell_type": "code",
      "source": [
        "list_1 = [ 6 , 8 , 9 , 11]\n",
        "list_1[1]"
      ],
      "metadata": {
        "colab": {
          "base_uri": "https://localhost:8080/"
        },
        "id": "bH0UMJsZVjrn",
        "outputId": "2b21dd30-0840-4d82-b077-cb11e24fd80a"
      },
      "id": "bH0UMJsZVjrn",
      "execution_count": null,
      "outputs": [
        {
          "output_type": "execute_result",
          "data": {
            "text/plain": [
              "8"
            ]
          },
          "metadata": {},
          "execution_count": 13
        }
      ]
    },
    {
      "cell_type": "code",
      "source": [
        "list_1 = [ 6 , 8 , 9 , 11]\n",
        "\n",
        "index_no = int(input(\"Enter your index no: \"))\n",
        "print(list_1[index_no])"
      ],
      "metadata": {
        "colab": {
          "base_uri": "https://localhost:8080/"
        },
        "id": "PWMYiXZNzLMb",
        "outputId": "8ddfa892-a655-41ac-fecc-171c907b7a49"
      },
      "id": "PWMYiXZNzLMb",
      "execution_count": null,
      "outputs": [
        {
          "output_type": "stream",
          "name": "stdout",
          "text": [
            "Enter your index no: 2\n",
            "9\n"
          ]
        }
      ]
    },
    {
      "cell_type": "code",
      "source": [
        "list_1 = [ 6 , 8 , 9 , 11]\n",
        "index_no = int(input(\"Enter your index no: \"))\n",
        "print(list_1[index_no-1])"
      ],
      "metadata": {
        "colab": {
          "base_uri": "https://localhost:8080/"
        },
        "id": "WSVeyG5dLT9b",
        "outputId": "eaab26d8-184c-4ca1-9732-c4459e998f8f"
      },
      "id": "WSVeyG5dLT9b",
      "execution_count": null,
      "outputs": [
        {
          "output_type": "stream",
          "name": "stdout",
          "text": [
            "Enter your index no: 3\n",
            "9\n"
          ]
        }
      ]
    },
    {
      "cell_type": "markdown",
      "id": "e1c7aee6",
      "metadata": {
        "id": "e1c7aee6"
      },
      "source": [
        "### Check whether an item in present in the list?\n",
        "We can check if a given item is present in the list. This is done using the in keyword.\n"
      ]
    },
    {
      "cell_type": "code",
      "execution_count": null,
      "id": "d36f0e19",
      "metadata": {
        "id": "d36f0e19",
        "outputId": "09ecb36f-9bf8-475a-bf92-d76a6973ea47",
        "colab": {
          "base_uri": "https://localhost:8080/"
        }
      },
      "outputs": [
        {
          "output_type": "stream",
          "name": "stdout",
          "text": [
            "True\n"
          ]
        }
      ],
      "source": [
        "lst_3 = [\"Red\" , \"Green\" , \"Blue\" , \"Gray\" , \"Yellow\" , \"Purple\"]\n",
        "print(\"Yellow\" in lst_3) # it generates True or False"
      ]
    },
    {
      "cell_type": "code",
      "execution_count": null,
      "id": "55564dc9",
      "metadata": {
        "id": "55564dc9",
        "outputId": "0d9c9b2b-d66b-4709-fcea-d54cf6a616d3"
      },
      "outputs": [
        {
          "name": "stdout",
          "output_type": "stream",
          "text": [
            "it is present\n"
          ]
        }
      ],
      "source": [
        "if \"Red\" in lst_3:\n",
        "    print(\"it is present\")\n",
        "else:\n",
        "    print(\"No it is not Present\")"
      ]
    },
    {
      "cell_type": "markdown",
      "source": [
        "**Modifying Elements in a List**"
      ],
      "metadata": {
        "id": "gn6mrZznfWiG"
      },
      "id": "gn6mrZznfWiG"
    },
    {
      "cell_type": "code",
      "source": [
        "numbers = [10, 20, 30, 40, 50]\n",
        "\n",
        "# Changing the value of the second element\n",
        "numbers[1] = 25\n",
        "print(\"Modified List:\", numbers)"
      ],
      "metadata": {
        "colab": {
          "base_uri": "https://localhost:8080/"
        },
        "id": "9UZ1cquKXONu",
        "outputId": "c49f5b41-e813-4264-d13d-5837974188b5"
      },
      "id": "9UZ1cquKXONu",
      "execution_count": null,
      "outputs": [
        {
          "output_type": "stream",
          "name": "stdout",
          "text": [
            "Modified List: [10, 25, 30, 40, 50]\n"
          ]
        }
      ]
    },
    {
      "cell_type": "code",
      "source": [
        "ages = [25 , 41 , 8 , 75]\n",
        "ages_2 = ages\n",
        "ages[0] = 26\n",
        "print(ages_2)"
      ],
      "metadata": {
        "colab": {
          "base_uri": "https://localhost:8080/"
        },
        "id": "emDdwy8x3H3x",
        "outputId": "dc2523ce-7f8b-4684-a593-efffd839294d"
      },
      "id": "emDdwy8x3H3x",
      "execution_count": null,
      "outputs": [
        {
          "output_type": "stream",
          "name": "stdout",
          "text": [
            "[26, 41, 8, 75]\n"
          ]
        }
      ]
    },
    {
      "cell_type": "markdown",
      "source": [
        "**Adding Elements to a List**"
      ],
      "metadata": {
        "id": "Z5w25K-afjqN"
      },
      "id": "Z5w25K-afjqN"
    },
    {
      "cell_type": "code",
      "source": [
        "fruits = [\"apple\", \"banana\"]"
      ],
      "metadata": {
        "id": "eCBFW00lfv7e"
      },
      "id": "eCBFW00lfv7e",
      "execution_count": null,
      "outputs": []
    },
    {
      "cell_type": "code",
      "source": [
        "# Using append() to add a single element\n",
        "fruits.append(\"cherry\")\n",
        "print(\"After append:\", fruits)"
      ],
      "metadata": {
        "colab": {
          "base_uri": "https://localhost:8080/"
        },
        "id": "IiqZQr16ffGG",
        "outputId": "9eb467bc-5d6b-4602-eb08-08fd4a01a39d"
      },
      "id": "IiqZQr16ffGG",
      "execution_count": null,
      "outputs": [
        {
          "output_type": "stream",
          "name": "stdout",
          "text": [
            "After append: ['apple', 'banana', 'cherry', 'cherry']\n"
          ]
        }
      ]
    },
    {
      "cell_type": "code",
      "source": [
        "# Using extend() to add multiple elements\n",
        "fruits = [\"apple\", \"banana\"]\n",
        "fruits.extend([\"orange\", \"grape\"])\n",
        "print(\"After extend:\", fruits)"
      ],
      "metadata": {
        "colab": {
          "base_uri": "https://localhost:8080/"
        },
        "id": "u5WLjiiqfs8t",
        "outputId": "68d9b01a-e3e2-4752-be4b-40448413c4cc"
      },
      "id": "u5WLjiiqfs8t",
      "execution_count": null,
      "outputs": [
        {
          "output_type": "stream",
          "name": "stdout",
          "text": [
            "After extend: ['apple', 'banana', 'orange', 'grape']\n"
          ]
        }
      ]
    },
    {
      "cell_type": "code",
      "source": [
        "# Using insert() to add an element at a specific position\n",
        "fruits.insert(1, \"kiwi\")\n",
        "print(\"After insert:\", fruits)"
      ],
      "metadata": {
        "colab": {
          "base_uri": "https://localhost:8080/"
        },
        "id": "B7ya6eOnf6W6",
        "outputId": "f4cc1af4-2c3e-4c7d-f143-2e9d1918e4a1"
      },
      "id": "B7ya6eOnf6W6",
      "execution_count": null,
      "outputs": [
        {
          "output_type": "stream",
          "name": "stdout",
          "text": [
            "After insert: ['apple', 'kiwi', 'kiwi', 'banana', 'orange', 'grape']\n"
          ]
        }
      ]
    },
    {
      "cell_type": "code",
      "source": [
        "fruits"
      ],
      "metadata": {
        "colab": {
          "base_uri": "https://localhost:8080/"
        },
        "id": "X1VgV8iM5tdl",
        "outputId": "84cb5615-8b39-4274-8292-fb607f1a19f3"
      },
      "id": "X1VgV8iM5tdl",
      "execution_count": null,
      "outputs": [
        {
          "output_type": "execute_result",
          "data": {
            "text/plain": [
              "['apple', 'kiwi', 'kiwi', 'banana', 'orange', 'grape']"
            ]
          },
          "metadata": {},
          "execution_count": 25
        }
      ]
    },
    {
      "cell_type": "code",
      "source": [
        "fruits = [\"apple\", \"banana\"]\n",
        "fruits.insert(1, \"kiwi\")\n",
        "print(\"After insert:\", fruits)"
      ],
      "metadata": {
        "colab": {
          "base_uri": "https://localhost:8080/"
        },
        "id": "OnQsveWRgHPm",
        "outputId": "c392410d-d915-45c4-fa07-e61f2282344d"
      },
      "id": "OnQsveWRgHPm",
      "execution_count": null,
      "outputs": [
        {
          "output_type": "stream",
          "name": "stdout",
          "text": [
            "After insert: ['apple', 'kiwi', 'banana']\n"
          ]
        }
      ]
    },
    {
      "cell_type": "markdown",
      "source": [
        "**Removing Elements from a List**"
      ],
      "metadata": {
        "id": "S0H7SPdigWDW"
      },
      "id": "S0H7SPdigWDW"
    },
    {
      "cell_type": "code",
      "source": [
        "fruits = [\"apple\", \"banana\", \"cherry\", \"banana\"]\n",
        "# Using remove() to remove the first occurrence of an element\n",
        "fruits.remove(\"banana\")\n",
        "print(\"After remove:\", fruits)"
      ],
      "metadata": {
        "colab": {
          "base_uri": "https://localhost:8080/"
        },
        "id": "NzTCNEQ9gQ9_",
        "outputId": "54b1b10b-c607-4f39-e193-688ea3306d97"
      },
      "id": "NzTCNEQ9gQ9_",
      "execution_count": null,
      "outputs": [
        {
          "output_type": "stream",
          "name": "stdout",
          "text": [
            "After remove: ['apple', 'cherry', 'banana']\n"
          ]
        }
      ]
    },
    {
      "cell_type": "code",
      "source": [
        "# Using pop() to remove an element by index\n",
        "# Note : If you do not provide an index, pop() will remove the last element by default.\n",
        "fruits = [\"apple\", \"banana\", \"cherry\", \"banana\"]\n",
        "fruits.pop(1)\n",
        "print(\"After pop:\", fruits)"
      ],
      "metadata": {
        "colab": {
          "base_uri": "https://localhost:8080/"
        },
        "id": "cGSBYLPpgdHy",
        "outputId": "49781da0-a8e5-4181-94d9-0aca9df90d21"
      },
      "id": "cGSBYLPpgdHy",
      "execution_count": null,
      "outputs": [
        {
          "output_type": "stream",
          "name": "stdout",
          "text": [
            "After pop: ['apple', 'cherry', 'banana']\n"
          ]
        }
      ]
    },
    {
      "cell_type": "code",
      "source": [
        "numbers = [10, 20, 30, 40, 50]\n",
        "\n",
        "# Removing and returning the last element\n",
        "removed_element = numbers.pop()\n",
        "print(\"Removed element:\", removed_element)  # Output: 50\n",
        "print(\"Updated list:\", numbers)"
      ],
      "metadata": {
        "colab": {
          "base_uri": "https://localhost:8080/"
        },
        "id": "0tcJOiIspl-L",
        "outputId": "0cd99d9b-6c1d-4c85-b639-6481219f9f9a"
      },
      "id": "0tcJOiIspl-L",
      "execution_count": null,
      "outputs": [
        {
          "output_type": "stream",
          "name": "stdout",
          "text": [
            "Removed element: 50\n",
            "Updated list: [10, 20, 30, 40]\n"
          ]
        }
      ]
    },
    {
      "cell_type": "code",
      "source": [
        "numbers = [10, 20, 30, 40, 50]\n",
        "\n",
        "# Removing and returning the last element\n",
        "removed_element = numbers.pop(1)\n",
        "print(\"Removed element:\", removed_element)  # Output: 50\n",
        "print(\"Updated list:\", numbers)"
      ],
      "metadata": {
        "colab": {
          "base_uri": "https://localhost:8080/"
        },
        "id": "jg_UeIiMpqQT",
        "outputId": "69016a84-5657-44ba-e4ca-8a4eb366015e"
      },
      "id": "jg_UeIiMpqQT",
      "execution_count": null,
      "outputs": [
        {
          "output_type": "stream",
          "name": "stdout",
          "text": [
            "Removed element: 20\n",
            "Updated list: [10, 30, 40, 50]\n"
          ]
        }
      ]
    },
    {
      "cell_type": "code",
      "source": [
        "# Using del to delete an element by index\n",
        "fruits = [\"apple\", \"banana\", \"cherry\", \"banana\"]\n",
        "del fruits[3]\n",
        "print(\"After del:\", fruits)"
      ],
      "metadata": {
        "colab": {
          "base_uri": "https://localhost:8080/"
        },
        "id": "u3x9RzBNgnvM",
        "outputId": "d2a6bd27-e368-4447-c60f-b550ea8e2dcc"
      },
      "id": "u3x9RzBNgnvM",
      "execution_count": null,
      "outputs": [
        {
          "output_type": "stream",
          "name": "stdout",
          "text": [
            "After del: ['apple', 'banana', 'cherry']\n"
          ]
        }
      ]
    },
    {
      "cell_type": "code",
      "source": [
        "# List of colors\n",
        "colors = [\"red\", \"blue\", \"green\", \"yellow\"]\n",
        "\n",
        "# Removing an element by index\n",
        "del colors\n",
        "print(\"Updated list:\", colors)  # Output: ['red', 'blue', 'yellow']"
      ],
      "metadata": {
        "colab": {
          "base_uri": "https://localhost:8080/",
          "height": 176
        },
        "id": "owibVCSSqWVG",
        "outputId": "8d137838-9b9c-49a8-c255-aad7f0f63a24"
      },
      "id": "owibVCSSqWVG",
      "execution_count": null,
      "outputs": [
        {
          "output_type": "error",
          "ename": "NameError",
          "evalue": "name 'colors' is not defined",
          "traceback": [
            "\u001b[0;31m---------------------------------------------------------------------------\u001b[0m",
            "\u001b[0;31mNameError\u001b[0m                                 Traceback (most recent call last)",
            "\u001b[0;32m<ipython-input-30-362b29dded05>\u001b[0m in \u001b[0;36m<cell line: 0>\u001b[0;34m()\u001b[0m\n\u001b[1;32m      4\u001b[0m \u001b[0;31m# Removing an element by index\u001b[0m\u001b[0;34m\u001b[0m\u001b[0;34m\u001b[0m\u001b[0m\n\u001b[1;32m      5\u001b[0m \u001b[0;32mdel\u001b[0m \u001b[0mcolors\u001b[0m\u001b[0;34m\u001b[0m\u001b[0;34m\u001b[0m\u001b[0m\n\u001b[0;32m----> 6\u001b[0;31m \u001b[0mprint\u001b[0m\u001b[0;34m(\u001b[0m\u001b[0;34m\"Updated list:\"\u001b[0m\u001b[0;34m,\u001b[0m \u001b[0mcolors\u001b[0m\u001b[0;34m)\u001b[0m  \u001b[0;31m# Output: ['red', 'blue', 'yellow']\u001b[0m\u001b[0;34m\u001b[0m\u001b[0;34m\u001b[0m\u001b[0m\n\u001b[0m",
            "\u001b[0;31mNameError\u001b[0m: name 'colors' is not defined"
          ]
        }
      ]
    },
    {
      "cell_type": "code",
      "source": [
        "# Deleting a slice of elements\n",
        "colors = [\"red\", \"blue\", \"green\", \"yellow\"]\n",
        "del colors[1:3]\n",
        "print(\"Updated list after slice deletion:\", colors)"
      ],
      "metadata": {
        "colab": {
          "base_uri": "https://localhost:8080/"
        },
        "id": "KKxdt2aNqivt",
        "outputId": "4e302a75-b373-4a5d-884a-72b9e64cecf6"
      },
      "id": "KKxdt2aNqivt",
      "execution_count": null,
      "outputs": [
        {
          "output_type": "stream",
          "name": "stdout",
          "text": [
            "Updated list after slice deletion: ['red', 'yellow']\n"
          ]
        }
      ]
    },
    {
      "cell_type": "code",
      "source": [
        "# Using clear() to remove all elements\n",
        "fruits = [\"apple\", \"banana\", \"cherry\", \"banana\"]\n",
        "fruits.clear()\n",
        "print(\"After clear:\", fruits)"
      ],
      "metadata": {
        "colab": {
          "base_uri": "https://localhost:8080/"
        },
        "id": "_E1h-Snlg8o7",
        "outputId": "73065bd3-2eb3-4d27-ac6b-917a0f6bec33"
      },
      "id": "_E1h-Snlg8o7",
      "execution_count": null,
      "outputs": [
        {
          "output_type": "stream",
          "name": "stdout",
          "text": [
            "After clear: []\n"
          ]
        }
      ]
    },
    {
      "cell_type": "markdown",
      "source": [
        "**Slicing a List**"
      ],
      "metadata": {
        "id": "h2coUkk1hP3Y"
      },
      "id": "h2coUkk1hP3Y"
    },
    {
      "cell_type": "code",
      "source": [
        "numbers = [1, 2, 3, 4, 5, 6, 7, 8, 9]\n",
        "\n",
        "# Getting a slice of the list (from index 2 to 5)\n",
        "slice1 = numbers[2:6]\n",
        "print(\"Slice1:\", slice1)"
      ],
      "metadata": {
        "colab": {
          "base_uri": "https://localhost:8080/"
        },
        "id": "yM8j9Ws4hExw",
        "outputId": "1075f3f5-a03b-4737-e173-62405a474ac0"
      },
      "id": "yM8j9Ws4hExw",
      "execution_count": null,
      "outputs": [
        {
          "output_type": "stream",
          "name": "stdout",
          "text": [
            "Slice1: [3, 4, 5, 6]\n"
          ]
        }
      ]
    },
    {
      "cell_type": "code",
      "source": [
        "# Getting a slice from the beginning to index 3\n",
        "numbers = [1, 2, 3, 4, 5, 6, 7, 8, 9]\n",
        "slice2 = numbers[:4]\n",
        "print(\"Slice2:\", slice2)"
      ],
      "metadata": {
        "colab": {
          "base_uri": "https://localhost:8080/"
        },
        "id": "fGdzE03zhWBO",
        "outputId": "676e6a9d-fb68-4eca-a9e8-008b8aaf0854"
      },
      "id": "fGdzE03zhWBO",
      "execution_count": null,
      "outputs": [
        {
          "output_type": "stream",
          "name": "stdout",
          "text": [
            "Slice2: [1, 2, 3, 4]\n"
          ]
        }
      ]
    },
    {
      "cell_type": "code",
      "source": [
        "# Getting a slice from index 4 to the end\n",
        "numbers = [1, 2, 3, 4, 5, 6, 7, 8, 9]\n",
        "slice3 = numbers[4:]\n",
        "print(\"Slice3:\", slice3)"
      ],
      "metadata": {
        "colab": {
          "base_uri": "https://localhost:8080/"
        },
        "id": "b-iz6iIfiDwy",
        "outputId": "5884c00b-503d-47a8-8c97-2ed4e947c214"
      },
      "id": "b-iz6iIfiDwy",
      "execution_count": null,
      "outputs": [
        {
          "output_type": "stream",
          "name": "stdout",
          "text": [
            "Slice3: [5, 6, 7, 8, 9]\n"
          ]
        }
      ]
    },
    {
      "cell_type": "code",
      "source": [
        "# Add elements in an empty list\n",
        "attendance = []\n",
        "attendance.append(\"Daniyal\")\n",
        "attendance.append(\"Ali\")\n",
        "attendance.append(\"Usman\")\n",
        "print(\"Today's attendance:\", attendance)"
      ],
      "metadata": {
        "colab": {
          "base_uri": "https://localhost:8080/"
        },
        "id": "sBeQOOYdiGnn",
        "outputId": "79bf27ce-c7bf-41cf-a359-3f6a09667648"
      },
      "id": "sBeQOOYdiGnn",
      "execution_count": null,
      "outputs": [
        {
          "output_type": "stream",
          "name": "stdout",
          "text": [
            "Today's attendance: ['Daniyal', 'Ali', 'Usman']\n"
          ]
        }
      ]
    },
    {
      "cell_type": "code",
      "source": [],
      "metadata": {
        "id": "6ETqrJ7Nk-E2"
      },
      "id": "6ETqrJ7Nk-E2",
      "execution_count": null,
      "outputs": []
    }
  ],
  "metadata": {
    "kernelspec": {
      "display_name": "Python 3 (ipykernel)",
      "language": "python",
      "name": "python3"
    },
    "language_info": {
      "codemirror_mode": {
        "name": "ipython",
        "version": 3
      },
      "file_extension": ".py",
      "mimetype": "text/x-python",
      "name": "python",
      "nbconvert_exporter": "python",
      "pygments_lexer": "ipython3",
      "version": "3.9.13"
    },
    "colab": {
      "provenance": []
    }
  },
  "nbformat": 4,
  "nbformat_minor": 5
}