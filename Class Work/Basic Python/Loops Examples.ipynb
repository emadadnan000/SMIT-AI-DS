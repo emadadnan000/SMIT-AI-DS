{
 "cells": [
  {
   "cell_type": "markdown",
   "id": "59945b0a",
   "metadata": {},
   "source": [
    "# Loops Examples\n"
   ]
  },
  {
   "cell_type": "markdown",
   "id": "dcbb6591",
   "metadata": {},
   "source": [
    "## for loop syntax\n",
    "\n",
    "```python\n",
    "for iterator in range(starting_number, ending_number):\n",
    "    # code\n",
    "```"
   ]
  },
  {
   "cell_type": "code",
   "execution_count": null,
   "id": "dfb76376",
   "metadata": {},
   "outputs": [],
   "source": [
    "for z in range(5,10):\n",
    "    print(z)"
   ]
  },
  {
   "cell_type": "code",
   "execution_count": null,
   "id": "0ad9906d",
   "metadata": {},
   "outputs": [],
   "source": [
    "for i in 'faisal amin':\n",
    "    print(i)         # prints in vertical"
   ]
  },
  {
   "cell_type": "code",
   "execution_count": null,
   "id": "97c4a5a6",
   "metadata": {},
   "outputs": [],
   "source": [
    "for i in 'faisal amin':\n",
    "    print(i, end=' ') # prints in horizontal"
   ]
  },
  {
   "cell_type": "code",
   "execution_count": null,
   "id": "8215cfaa",
   "metadata": {},
   "outputs": [],
   "source": [
    "# Sample Program\n",
    "first_names = [\"BlueRay \", \"Upchuck \", \"Lojack \",\"Gizmo \", \"Do-Rag \"]\n",
    "last_names = [\"Zzz\", \"Burp\", \"Dogbone\", \"Droop\"]\n",
    "full_names = []\n",
    "for a_first_name in first_names:\n",
    "  for a_last_name in last_names:\n",
    "        full_names.append(a_first_name + \" \" + a_last_name)\n",
    "\n",
    "full_names"
   ]
  }
 ],
 "metadata": {
  "language_info": {
   "name": "python"
  }
 },
 "nbformat": 4,
 "nbformat_minor": 5
}
