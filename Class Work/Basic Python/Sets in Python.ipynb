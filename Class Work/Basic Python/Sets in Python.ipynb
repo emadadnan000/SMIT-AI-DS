{
 "cells": [
  {
   "cell_type": "markdown",
   "id": "38e52c09",
   "metadata": {
    "id": "38e52c09"
   },
   "source": [
    "# Sets in Python\n",
    "\n",
    "Sets are unordered collection of data items. They store multiple items in a single variable. Set items are separated by commas and enclosed within curly brackets {}. Sets do not contain duplicate items."
   ]
  },
  {
   "cell_type": "code",
   "execution_count": 1,
   "id": "5a44cfdf",
   "metadata": {
    "colab": {
     "base_uri": "https://localhost:8080/"
    },
    "executionInfo": {
     "elapsed": 8,
     "status": "ok",
     "timestamp": 1744562156039,
     "user": {
      "displayName": "Faisal Amin",
      "userId": "07618200051041167646"
     },
     "user_tz": -300
    },
    "id": "5a44cfdf",
    "outputId": "b662671a-29bd-4c05-f98a-a180cb5079bc"
   },
   "outputs": [
    {
     "name": "stdout",
     "output_type": "stream",
     "text": [
      "{False, 19, 'Carla', 5.9}\n"
     ]
    }
   ],
   "source": [
    "info = {\"Carla\", 19, False, 5.9, 19}\n",
    "print(info)"
   ]
  },
  {
   "cell_type": "markdown",
   "id": "a0242df3",
   "metadata": {
    "id": "a0242df3"
   },
   "source": [
    "Here we see that the items of set occur in random order and hence they cannot be accessed using index numbers. Also sets do not allow duplicate values."
   ]
  },
  {
   "cell_type": "markdown",
   "id": "9c1ba202",
   "metadata": {
    "id": "9c1ba202"
   },
   "source": [
    "#### Quick Quiz:\n",
    "Try to create an empty set. Check using the type() function whether the type of your variable is a set"
   ]
  },
  {
   "cell_type": "code",
   "execution_count": 2,
   "id": "f95ba64f",
   "metadata": {
    "id": "f95ba64f"
   },
   "outputs": [],
   "source": [
    "# Write your code here"
   ]
  },
  {
   "cell_type": "markdown",
   "id": "773a1aa3",
   "metadata": {
    "id": "773a1aa3"
   },
   "source": [
    "## Accessing set items:\n",
    "\n",
    "#### Using a For loop\n",
    "\n",
    "You can access items of set using a for loop."
   ]
  },
  {
   "cell_type": "code",
   "execution_count": 3,
   "id": "3fb275eb",
   "metadata": {
    "colab": {
     "base_uri": "https://localhost:8080/"
    },
    "executionInfo": {
     "elapsed": 72,
     "status": "ok",
     "timestamp": 1744562305544,
     "user": {
      "displayName": "Faisal Amin",
      "userId": "07618200051041167646"
     },
     "user_tz": -300
    },
    "id": "3fb275eb",
    "outputId": "7cc18477-4108-4f9e-db12-a05c4e0275d3"
   },
   "outputs": [
    {
     "name": "stdout",
     "output_type": "stream",
     "text": [
      "False\n",
      "19\n",
      "Carla\n",
      "5.9\n"
     ]
    }
   ],
   "source": [
    "info = {\"Carla\", 19, False, 5.9}\n",
    "for item in info:\n",
    "    print(item)"
   ]
  },
  {
   "cell_type": "markdown",
   "id": "8947f8fa",
   "metadata": {
    "id": "8947f8fa"
   },
   "source": [
    "# Joining Sets\n",
    "Sets in python more or less work in the same way as sets in mathematics. We can perform operations like union and intersection on the sets just like in mathematics."
   ]
  },
  {
   "cell_type": "markdown",
   "id": "bf91e00e",
   "metadata": {
    "id": "bf91e00e"
   },
   "source": [
    "## union() and update():\n",
    "\n",
    "The union() and update() methods prints all items that are present in the two sets. The union() method returns a new set whereas update() method adds item into the existing set from another set."
   ]
  },
  {
   "cell_type": "code",
   "execution_count": 4,
   "id": "1de4e9bb",
   "metadata": {
    "colab": {
     "base_uri": "https://localhost:8080/"
    },
    "executionInfo": {
     "elapsed": 51,
     "status": "ok",
     "timestamp": 1744910000541,
     "user": {
      "displayName": "Faisal Amin",
      "userId": "07618200051041167646"
     },
     "user_tz": -300
    },
    "id": "1de4e9bb",
    "outputId": "e41cdc06-1fd3-47b2-8c5e-792755797c50"
   },
   "outputs": [
    {
     "name": "stdout",
     "output_type": "stream",
     "text": [
      "{'Kabul', 'Berlin', 'Madrid', 'Tokyo', 'Delhi', 'Seoul'}\n",
      "{'Delhi', 'Madrid', 'Berlin', 'Tokyo'}\n"
     ]
    }
   ],
   "source": [
    "cities = {\"Tokyo\", \"Madrid\", \"Berlin\", \"Delhi\"}\n",
    "cities2 = {\"Tokyo\", \"Seoul\", \"Kabul\", \"Madrid\"}\n",
    "cities3 = cities.union(cities2)\n",
    "print(cities3)\n",
    "print(cities)"
   ]
  },
  {
   "cell_type": "code",
   "execution_count": 5,
   "id": "88b9947b",
   "metadata": {
    "id": "88b9947b",
    "outputId": "25181d27-bf1b-4117-c02f-a5f3f57695e2"
   },
   "outputs": [
    {
     "name": "stdout",
     "output_type": "stream",
     "text": [
      "{'Kabul', 'Berlin', 'Madrid', 'Tokyo', 'Delhi', 'Seoul'}\n"
     ]
    }
   ],
   "source": [
    "cities = {\"Tokyo\", \"Madrid\", \"Berlin\", \"Delhi\"}\n",
    "cities2 = {\"Tokyo\", \"Seoul\", \"Kabul\", \"Madrid\"}\n",
    "cities.update(cities2)\n",
    "print(cities)"
   ]
  },
  {
   "cell_type": "markdown",
   "id": "29e44dad",
   "metadata": {
    "id": "29e44dad"
   },
   "source": [
    "### intersection and intersection_update():"
   ]
  },
  {
   "cell_type": "markdown",
   "id": "fdc3c4d2",
   "metadata": {
    "id": "fdc3c4d2"
   },
   "source": [
    "The intersection() and intersection_update() methods prints only items that are similar to both the sets. The intersection() method returns a new set whereas intersection_update() method updates into the existing set from another set."
   ]
  },
  {
   "cell_type": "code",
   "execution_count": 6,
   "id": "36b8da9e",
   "metadata": {
    "id": "36b8da9e",
    "outputId": "48ace12b-6fd9-4fc3-f803-bad6fe782716"
   },
   "outputs": [
    {
     "name": "stdout",
     "output_type": "stream",
     "text": [
      "{'Madrid', 'Tokyo'}\n"
     ]
    }
   ],
   "source": [
    "cities = {\"Tokyo\", \"Madrid\", \"Berlin\", \"Delhi\"}\n",
    "cities2 = {\"Tokyo\", \"Seoul\", \"Kabul\", \"Madrid\"}\n",
    "cities3 = cities.intersection(cities2)\n",
    "print(cities3)"
   ]
  },
  {
   "cell_type": "code",
   "execution_count": 7,
   "id": "nlkXquCTE5kd",
   "metadata": {
    "colab": {
     "base_uri": "https://localhost:8080/"
    },
    "executionInfo": {
     "elapsed": 54,
     "status": "ok",
     "timestamp": 1744563352857,
     "user": {
      "displayName": "Faisal Amin",
      "userId": "07618200051041167646"
     },
     "user_tz": -300
    },
    "id": "nlkXquCTE5kd",
    "outputId": "56cf48e7-17f5-472b-d7c2-7a52af4d35a6"
   },
   "outputs": [
    {
     "name": "stdout",
     "output_type": "stream",
     "text": [
      "{'Madrid', 'Tokyo'}\n",
      "{'Madrid', 'Tokyo'}\n"
     ]
    }
   ],
   "source": [
    "cities = {\"Tokyo\", \"Madrid\", \"Berlin\", \"Delhi\"}\n",
    "cities2 = {\"Tokyo\", \"Seoul\", \"Kabul\", \"Madrid\"}\n",
    "cities.intersection_update(cities2)\n",
    "print(cities)\n",
    "print(cities)"
   ]
  },
  {
   "cell_type": "markdown",
   "id": "5e2a7cd0",
   "metadata": {
    "id": "5e2a7cd0"
   },
   "source": [
    "## symmetric_difference and symmetric_difference_update():"
   ]
  },
  {
   "cell_type": "markdown",
   "id": "7ff84e54",
   "metadata": {
    "id": "7ff84e54"
   },
   "source": [
    "The symmetric_difference() and symmetric_difference_update() methods prints only items that are not similar to both the sets. The symmetric_difference() method returns a new set whereas symmetric_difference_update() method updates into the existing set from another set."
   ]
  },
  {
   "cell_type": "code",
   "execution_count": 8,
   "id": "2e2e0aec",
   "metadata": {
    "colab": {
     "base_uri": "https://localhost:8080/"
    },
    "executionInfo": {
     "elapsed": 19,
     "status": "ok",
     "timestamp": 1744563415342,
     "user": {
      "displayName": "Faisal Amin",
      "userId": "07618200051041167646"
     },
     "user_tz": -300
    },
    "id": "2e2e0aec",
    "outputId": "4743f2c4-ba07-4933-853d-cb535b7c9f82"
   },
   "outputs": [
    {
     "name": "stdout",
     "output_type": "stream",
     "text": [
      "{'Kabul', 'Berlin', 'Delhi', 'Seoul'}\n"
     ]
    }
   ],
   "source": [
    "cities = {\"Tokyo\", \"Madrid\", \"Berlin\", \"Delhi\"}\n",
    "cities2 = {\"Tokyo\", \"Seoul\", \"Kabul\", \"Madrid\"}\n",
    "cities3 = cities.symmetric_difference(cities2)\n",
    "print(cities3)"
   ]
  },
  {
   "cell_type": "code",
   "execution_count": 9,
   "id": "e461927d",
   "metadata": {
    "colab": {
     "base_uri": "https://localhost:8080/"
    },
    "executionInfo": {
     "elapsed": 49,
     "status": "ok",
     "timestamp": 1744563441588,
     "user": {
      "displayName": "Faisal Amin",
      "userId": "07618200051041167646"
     },
     "user_tz": -300
    },
    "id": "e461927d",
    "outputId": "427c6076-aed7-4530-bdc7-2ceb24f67bbf"
   },
   "outputs": [
    {
     "name": "stdout",
     "output_type": "stream",
     "text": [
      "{'Kabul', 'Berlin', 'Delhi', 'Seoul'}\n"
     ]
    }
   ],
   "source": [
    "cities = {\"Tokyo\", \"Madrid\", \"Berlin\", \"Delhi\"}\n",
    "cities2 = {\"Tokyo\", \"Seoul\", \"Kabul\", \"Madrid\"}\n",
    "cities.symmetric_difference_update(cities2)\n",
    "print(cities)"
   ]
  },
  {
   "cell_type": "markdown",
   "id": "57bf990c",
   "metadata": {
    "id": "57bf990c"
   },
   "source": [
    "## difference() and difference_update():\n",
    "\n",
    "The difference() and difference_update() methods prints only items that are only present in the original set and not in both the sets. The difference() method returns a new set whereas difference_update() method updates into the existing set from another set.\n",
    "\n"
   ]
  },
  {
   "cell_type": "code",
   "execution_count": 10,
   "id": "WonHSzq4Dki2",
   "metadata": {
    "colab": {
     "base_uri": "https://localhost:8080/"
    },
    "executionInfo": {
     "elapsed": 7,
     "status": "ok",
     "timestamp": 1723218457251,
     "user": {
      "displayName": "Faisal Amin",
      "userId": "07618200051041167646"
     },
     "user_tz": -300
    },
    "id": "WonHSzq4Dki2",
    "outputId": "72709df0-c95b-4d1f-aa79-d5c414845677"
   },
   "outputs": [
    {
     "name": "stdout",
     "output_type": "stream",
     "text": [
      "{'Berlin', 'Madrid', 'Tokyo'}\n"
     ]
    }
   ],
   "source": [
    "cities = {\"Tokyo\", \"Madrid\", \"Berlin\", \"Delhi\"}\n",
    "cities2 = {\"Seoul\", \"Kabul\", \"Delhi\"}\n",
    "cities3 = cities.difference(cities2)\n",
    "print(cities3)"
   ]
  },
  {
   "cell_type": "markdown",
   "id": "BIoSoH5SDx6C",
   "metadata": {
    "id": "BIoSoH5SDx6C"
   },
   "source": [
    "## Set Methods\n",
    "There are several in-built methods used for the manipulation of set.They are explained below\n",
    "\n",
    "### isdisjoint():\n",
    "The isdisjoint() method checks if items of given set are present in another set. This method returns False if items are present, else it returns True.\n",
    "\n",
    "Example:"
   ]
  },
  {
   "cell_type": "code",
   "execution_count": 11,
   "id": "jIqeo-4UD2Y4",
   "metadata": {
    "colab": {
     "base_uri": "https://localhost:8080/"
    },
    "executionInfo": {
     "elapsed": 365,
     "status": "ok",
     "timestamp": 1721293059318,
     "user": {
      "displayName": "Faisal Amin",
      "userId": "07618200051041167646"
     },
     "user_tz": 420
    },
    "id": "jIqeo-4UD2Y4",
    "outputId": "b64768f1-6a52-416e-e114-94625f7a4034"
   },
   "outputs": [
    {
     "name": "stdout",
     "output_type": "stream",
     "text": [
      "False\n"
     ]
    }
   ],
   "source": [
    "cities = {\"Tokyo\", \"Madrid\", \"Berlin\", \"Delhi\"}\n",
    "cities2 = {\"Tokyo\", \"Seoul\", \"Kabul\", \"Madrid\"}\n",
    "print(cities.isdisjoint(cities2))"
   ]
  },
  {
   "cell_type": "markdown",
   "id": "qMIwnxy-EKtK",
   "metadata": {
    "id": "qMIwnxy-EKtK"
   },
   "source": [
    "### issuperset():\n",
    "The issuperset() method checks if all the items of a particular set are present in the original set. It returns True if all the items are present, else it returns False.\n",
    "\n",
    "Example:"
   ]
  },
  {
   "cell_type": "code",
   "execution_count": 12,
   "id": "Jgj80WFxEPUn",
   "metadata": {
    "colab": {
     "base_uri": "https://localhost:8080/"
    },
    "executionInfo": {
     "elapsed": 395,
     "status": "ok",
     "timestamp": 1721293162272,
     "user": {
      "displayName": "Faisal Amin",
      "userId": "07618200051041167646"
     },
     "user_tz": 420
    },
    "id": "Jgj80WFxEPUn",
    "outputId": "fc474439-23a4-45b5-b629-35dfd3d0658b"
   },
   "outputs": [
    {
     "name": "stdout",
     "output_type": "stream",
     "text": [
      "False\n",
      "False\n"
     ]
    }
   ],
   "source": [
    "cities = {\"Tokyo\", \"Madrid\", \"Berlin\", \"Delhi\"}\n",
    "cities2 = {\"Seoul\", \"Kabul\"}\n",
    "print(cities.issuperset(cities2))\n",
    "cities3 = {\"Seoul\", \"Madrid\",\"Kabul\"}\n",
    "print(cities.issuperset(cities3))"
   ]
  },
  {
   "cell_type": "markdown",
   "id": "VCHHgS4eEbuV",
   "metadata": {
    "id": "VCHHgS4eEbuV"
   },
   "source": [
    "### issubset():\n",
    "The issubset() method checks if all the items of the original set are present in the particular set. It returns True if all the items are present, else it returns False.\n",
    "\n",
    "Example:"
   ]
  },
  {
   "cell_type": "code",
   "execution_count": 13,
   "id": "8Mk0LOl8Eb3F",
   "metadata": {
    "colab": {
     "base_uri": "https://localhost:8080/"
    },
    "executionInfo": {
     "elapsed": 366,
     "status": "ok",
     "timestamp": 1721293229954,
     "user": {
      "displayName": "Faisal Amin",
      "userId": "07618200051041167646"
     },
     "user_tz": 420
    },
    "id": "8Mk0LOl8Eb3F",
    "outputId": "4af9d895-a2b5-4ca7-8897-9527591025a5"
   },
   "outputs": [
    {
     "name": "stdout",
     "output_type": "stream",
     "text": [
      "True\n"
     ]
    }
   ],
   "source": [
    "cities = {\"Tokyo\", \"Madrid\", \"Berlin\", \"Delhi\"}\n",
    "cities2 = {\"Delhi\", \"Madrid\"}\n",
    "print(cities2.issubset(cities))"
   ]
  },
  {
   "cell_type": "markdown",
   "id": "A4zpYEl_EcBo",
   "metadata": {
    "id": "A4zpYEl_EcBo"
   },
   "source": [
    "### add()\n",
    "If you want to add a single item to the set use the add() method.\n",
    "\n",
    "Example:"
   ]
  },
  {
   "cell_type": "code",
   "execution_count": 14,
   "id": "Bi-3XzvnEcJz",
   "metadata": {
    "colab": {
     "base_uri": "https://localhost:8080/"
    },
    "executionInfo": {
     "elapsed": 399,
     "status": "ok",
     "timestamp": 1725292695382,
     "user": {
      "displayName": "Faisal Amin",
      "userId": "07618200051041167646"
     },
     "user_tz": -300
    },
    "id": "Bi-3XzvnEcJz",
    "outputId": "61282dc5-bd42-4f5a-ee9c-9244e226f24f"
   },
   "outputs": [
    {
     "name": "stdout",
     "output_type": "stream",
     "text": [
      "{'Helsinki', 'Berlin', 'Madrid', 'Tokyo', 'Delhi'}\n"
     ]
    }
   ],
   "source": [
    "cities = {\"Tokyo\", \"Madrid\", \"Berlin\", \"Delhi\"}\n",
    "cities.add(\"Helsinki\")\n",
    "print(cities)"
   ]
  },
  {
   "cell_type": "markdown",
   "id": "ofxZsCcuEcT_",
   "metadata": {
    "id": "ofxZsCcuEcT_"
   },
   "source": [
    "### update()\n",
    "If you want to add more than one item, simply create another set or any other iterable object(list, tuple, dictionary), and use the update() method to add it into the existing set.\n",
    "\n",
    "Example:"
   ]
  },
  {
   "cell_type": "code",
   "execution_count": 15,
   "id": "Ok7tggfjEcmn",
   "metadata": {
    "colab": {
     "base_uri": "https://localhost:8080/"
    },
    "executionInfo": {
     "elapsed": 423,
     "status": "ok",
     "timestamp": 1721293326993,
     "user": {
      "displayName": "Faisal Amin",
      "userId": "07618200051041167646"
     },
     "user_tz": 420
    },
    "id": "Ok7tggfjEcmn",
    "outputId": "ca4cc87b-956c-4f26-a0f3-3058a8635edf"
   },
   "outputs": [
    {
     "name": "stdout",
     "output_type": "stream",
     "text": [
      "{'Helsinki', 'Tokyo', 'Berlin', 'Delhi', 'Warsaw', 'Seoul', 'Madrid'}\n"
     ]
    }
   ],
   "source": [
    "cities = {\"Tokyo\", \"Madrid\", \"Berlin\", \"Delhi\"}\n",
    "cities2 = {\"Helsinki\", \"Warsaw\", \"Seoul\"}\n",
    "cities.update(cities2)\n",
    "print(cities)"
   ]
  },
  {
   "cell_type": "markdown",
   "id": "MiooXyvKEc5R",
   "metadata": {
    "id": "MiooXyvKEc5R"
   },
   "source": [
    "### remove()/discard()\n",
    "We can use remove() and discard() methods to remove items form list.\n",
    "\n",
    "Example :"
   ]
  },
  {
   "cell_type": "code",
   "execution_count": 16,
   "id": "GnG4B-qxEdCx",
   "metadata": {
    "colab": {
     "base_uri": "https://localhost:8080/"
    },
    "executionInfo": {
     "elapsed": 438,
     "status": "ok",
     "timestamp": 1725292821933,
     "user": {
      "displayName": "Faisal Amin",
      "userId": "07618200051041167646"
     },
     "user_tz": -300
    },
    "id": "GnG4B-qxEdCx",
    "outputId": "6f1a8245-1501-42f7-ad1b-9af39e71e143"
   },
   "outputs": [
    {
     "name": "stdout",
     "output_type": "stream",
     "text": [
      "{'Madrid', 'Berlin', 'Delhi'}\n"
     ]
    }
   ],
   "source": [
    "cities = {\"Tokyo\", \"Madrid\", \"Berlin\", \"Delhi\"}\n",
    "cities.remove(\"Tokyo\")\n",
    "print(cities)"
   ]
  },
  {
   "cell_type": "markdown",
   "id": "e8hH_VENEdK2",
   "metadata": {
    "id": "e8hH_VENEdK2"
   },
   "source": [
    "The main difference between remove and discard is that, if we try to delete an item which is not present in set, then remove() raises an error, whereas discard() does not raise any error."
   ]
  },
  {
   "cell_type": "code",
   "execution_count": 17,
   "id": "ALsImZpCEdSJ",
   "metadata": {
    "colab": {
     "base_uri": "https://localhost:8080/",
     "height": 176
    },
    "executionInfo": {
     "elapsed": 387,
     "status": "error",
     "timestamp": 1721293430747,
     "user": {
      "displayName": "Faisal Amin",
      "userId": "07618200051041167646"
     },
     "user_tz": 420
    },
    "id": "ALsImZpCEdSJ",
    "outputId": "848ba8e3-b302-4962-dcaf-fc914809153a"
   },
   "outputs": [
    {
     "ename": "KeyError",
     "evalue": "'Seoul'",
     "output_type": "error",
     "traceback": [
      "\u001b[31m---------------------------------------------------------------------------\u001b[39m",
      "\u001b[31mKeyError\u001b[39m                                  Traceback (most recent call last)",
      "\u001b[36mCell\u001b[39m\u001b[36m \u001b[39m\u001b[32mIn[17]\u001b[39m\u001b[32m, line 2\u001b[39m\n\u001b[32m      1\u001b[39m cities = {\u001b[33m\"\u001b[39m\u001b[33mTokyo\u001b[39m\u001b[33m\"\u001b[39m, \u001b[33m\"\u001b[39m\u001b[33mMadrid\u001b[39m\u001b[33m\"\u001b[39m, \u001b[33m\"\u001b[39m\u001b[33mBerlin\u001b[39m\u001b[33m\"\u001b[39m, \u001b[33m\"\u001b[39m\u001b[33mDelhi\u001b[39m\u001b[33m\"\u001b[39m}\n\u001b[32m----> \u001b[39m\u001b[32m2\u001b[39m \u001b[43mcities\u001b[49m\u001b[43m.\u001b[49m\u001b[43mremove\u001b[49m\u001b[43m(\u001b[49m\u001b[33;43m\"\u001b[39;49m\u001b[33;43mSeoul\u001b[39;49m\u001b[33;43m\"\u001b[39;49m\u001b[43m)\u001b[49m\n\u001b[32m      3\u001b[39m \u001b[38;5;28mprint\u001b[39m(cities)\n",
      "\u001b[31mKeyError\u001b[39m: 'Seoul'"
     ]
    }
   ],
   "source": [
    "cities = {\"Tokyo\", \"Madrid\", \"Berlin\", \"Delhi\"}\n",
    "cities.remove(\"Seoul\")\n",
    "print(cities)"
   ]
  },
  {
   "cell_type": "code",
   "execution_count": null,
   "id": "vwBMPyA5d3RA",
   "metadata": {
    "colab": {
     "base_uri": "https://localhost:8080/"
    },
    "executionInfo": {
     "elapsed": 406,
     "status": "ok",
     "timestamp": 1725292850078,
     "user": {
      "displayName": "Faisal Amin",
      "userId": "07618200051041167646"
     },
     "user_tz": -300
    },
    "id": "vwBMPyA5d3RA",
    "outputId": "032964d4-17fb-41e8-82a6-2b8fd3caf949"
   },
   "outputs": [
    {
     "name": "stdout",
     "output_type": "stream",
     "text": [
      "{'Tokyo', 'Berlin', 'Madrid', 'Delhi'}\n"
     ]
    }
   ],
   "source": [
    "cities = {\"Tokyo\", \"Madrid\", \"Berlin\", \"Delhi\"}\n",
    "cities.discard(\"Seoul\")\n",
    "print(cities)"
   ]
  },
  {
   "cell_type": "code",
   "execution_count": null,
   "id": "9wJIs7uAFe1G",
   "metadata": {
    "colab": {
     "base_uri": "https://localhost:8080/"
    },
    "executionInfo": {
     "elapsed": 444,
     "status": "ok",
     "timestamp": 1721293486014,
     "user": {
      "displayName": "Faisal Amin",
      "userId": "07618200051041167646"
     },
     "user_tz": 420
    },
    "id": "9wJIs7uAFe1G",
    "outputId": "591b48d6-7b57-48e8-a488-fcaefef0901a"
   },
   "outputs": [
    {
     "name": "stdout",
     "output_type": "stream",
     "text": [
      "{'Tokyo', 'Berlin', 'Madrid', 'Delhi'}\n"
     ]
    }
   ],
   "source": [
    "cities = {\"Tokyo\", \"Madrid\", \"Berlin\", \"Delhi\"}\n",
    "cities.discard(\"Seoul\")\n",
    "print(cities)"
   ]
  },
  {
   "cell_type": "markdown",
   "id": "4jfbdGvGEdan",
   "metadata": {
    "id": "4jfbdGvGEdan"
   },
   "source": [
    "### pop()\n",
    "This method removes the last item of the set but the catch is that we don’t know which item gets popped as sets are unordered. However, you can access the popped item if you assign the pop() method to a variable.\n",
    "\n",
    "Example:"
   ]
  },
  {
   "cell_type": "code",
   "execution_count": null,
   "id": "s_gcZEZgEdir",
   "metadata": {
    "colab": {
     "base_uri": "https://localhost:8080/"
    },
    "executionInfo": {
     "elapsed": 410,
     "status": "ok",
     "timestamp": 1721293686598,
     "user": {
      "displayName": "Faisal Amin",
      "userId": "07618200051041167646"
     },
     "user_tz": 420
    },
    "id": "s_gcZEZgEdir",
    "outputId": "d040f0e5-f22e-4b71-f981-90f88012c5bd"
   },
   "outputs": [
    {
     "name": "stdout",
     "output_type": "stream",
     "text": [
      "{'Berlin', 'Madrid', 'Delhi'}\n",
      "Tokyo\n"
     ]
    }
   ],
   "source": [
    "cities = {\"Tokyo\", \"Madrid\", \"Berlin\", \"Delhi\"}\n",
    "item = cities.pop()\n",
    "print(cities)\n",
    "print(item)"
   ]
  },
  {
   "cell_type": "markdown",
   "id": "D1Qh5-ZgEdr0",
   "metadata": {
    "id": "D1Qh5-ZgEdr0"
   },
   "source": [
    "### del\n",
    "del is not a method, rather it is a keyword which deletes the set entirely.\n",
    "\n",
    "Example:"
   ]
  },
  {
   "cell_type": "code",
   "execution_count": null,
   "id": "IB5kt-EAEd_a",
   "metadata": {
    "colab": {
     "base_uri": "https://localhost:8080/",
     "height": 176
    },
    "executionInfo": {
     "elapsed": 358,
     "status": "error",
     "timestamp": 1721293748851,
     "user": {
      "displayName": "Faisal Amin",
      "userId": "07618200051041167646"
     },
     "user_tz": 420
    },
    "id": "IB5kt-EAEd_a",
    "outputId": "b1bfeb83-70ec-4dc1-f058-0851de675ffd"
   },
   "outputs": [
    {
     "ename": "NameError",
     "evalue": "name 'cities' is not defined",
     "output_type": "error",
     "traceback": [
      "\u001b[0;31m---------------------------------------------------------------------------\u001b[0m",
      "\u001b[0;31mNameError\u001b[0m                                 Traceback (most recent call last)",
      "\u001b[0;32m<ipython-input-11-2b6132fafe6c>\u001b[0m in \u001b[0;36m<cell line: 3>\u001b[0;34m()\u001b[0m\n\u001b[1;32m      1\u001b[0m \u001b[0mcities\u001b[0m \u001b[0;34m=\u001b[0m \u001b[0;34m{\u001b[0m\u001b[0;34m\"Tokyo\"\u001b[0m\u001b[0;34m,\u001b[0m \u001b[0;34m\"Madrid\"\u001b[0m\u001b[0;34m,\u001b[0m \u001b[0;34m\"Berlin\"\u001b[0m\u001b[0;34m,\u001b[0m \u001b[0;34m\"Delhi\"\u001b[0m\u001b[0;34m}\u001b[0m\u001b[0;34m\u001b[0m\u001b[0;34m\u001b[0m\u001b[0m\n\u001b[1;32m      2\u001b[0m \u001b[0;32mdel\u001b[0m \u001b[0mcities\u001b[0m\u001b[0;34m\u001b[0m\u001b[0;34m\u001b[0m\u001b[0m\n\u001b[0;32m----> 3\u001b[0;31m \u001b[0mprint\u001b[0m\u001b[0;34m(\u001b[0m\u001b[0mcities\u001b[0m\u001b[0;34m)\u001b[0m\u001b[0;34m\u001b[0m\u001b[0;34m\u001b[0m\u001b[0m\n\u001b[0m",
      "\u001b[0;31mNameError\u001b[0m: name 'cities' is not defined"
     ]
    }
   ],
   "source": [
    "cities = {\"Tokyo\", \"Madrid\", \"Berlin\", \"Delhi\"}\n",
    "del cities\n",
    "print(cities)"
   ]
  },
  {
   "cell_type": "markdown",
   "id": "0_9RWScDGqbw",
   "metadata": {
    "id": "0_9RWScDGqbw"
   },
   "source": [
    "NameError: name 'cities' is not defined We get an error because our entire set has been deleted and there is no variable called cities which contains a set.\n",
    "\n",
    "What if we don’t want to delete the entire set, we just want to delete all items within that set?"
   ]
  },
  {
   "cell_type": "markdown",
   "id": "dy1cV1KjG01w",
   "metadata": {
    "id": "dy1cV1KjG01w"
   },
   "source": [
    "### clear():\n",
    "This method clears all items in the set and prints an empty set."
   ]
  },
  {
   "cell_type": "code",
   "execution_count": null,
   "id": "MqHjGjwuGqmG",
   "metadata": {
    "colab": {
     "base_uri": "https://localhost:8080/"
    },
    "executionInfo": {
     "elapsed": 371,
     "status": "ok",
     "timestamp": 1721293840359,
     "user": {
      "displayName": "Faisal Amin",
      "userId": "07618200051041167646"
     },
     "user_tz": 420
    },
    "id": "MqHjGjwuGqmG",
    "outputId": "418c79db-7abe-4a6c-be14-d1d355f45085"
   },
   "outputs": [
    {
     "name": "stdout",
     "output_type": "stream",
     "text": [
      "set()\n"
     ]
    }
   ],
   "source": [
    "cities = {\"Tokyo\", \"Madrid\", \"Berlin\", \"Delhi\"}\n",
    "cities.clear()\n",
    "print(cities)"
   ]
  },
  {
   "cell_type": "markdown",
   "id": "eT10e14CGqtO",
   "metadata": {
    "id": "eT10e14CGqtO"
   },
   "source": [
    "### Check if item exists\n",
    "You can also check if an item exists in the set or not.\n",
    "\n",
    "Example"
   ]
  },
  {
   "cell_type": "code",
   "execution_count": null,
   "id": "Xvb1NsP-Gq0M",
   "metadata": {
    "colab": {
     "base_uri": "https://localhost:8080/"
    },
    "executionInfo": {
     "elapsed": 387,
     "status": "ok",
     "timestamp": 1721293872658,
     "user": {
      "displayName": "Faisal Amin",
      "userId": "07618200051041167646"
     },
     "user_tz": 420
    },
    "id": "Xvb1NsP-Gq0M",
    "outputId": "ed07d681-9781-42a7-e455-3fe04804bd7d"
   },
   "outputs": [
    {
     "name": "stdout",
     "output_type": "stream",
     "text": [
      "Carla is present.\n"
     ]
    }
   ],
   "source": [
    "info = {\"Carla\", 19, False, 5.9}\n",
    "if \"Carla\" in info:\n",
    "    print(\"Carla is present.\")\n",
    "else:\n",
    "    print(\"Carla is absent.\")"
   ]
  }
 ],
 "metadata": {
  "colab": {
   "provenance": []
  },
  "kernelspec": {
   "display_name": "Python 3",
   "language": "python",
   "name": "python3"
  },
  "language_info": {
   "codemirror_mode": {
    "name": "ipython",
    "version": 3
   },
   "file_extension": ".py",
   "mimetype": "text/x-python",
   "name": "python",
   "nbconvert_exporter": "python",
   "pygments_lexer": "ipython3",
   "version": "3.13.3"
  }
 },
 "nbformat": 4,
 "nbformat_minor": 5
}
