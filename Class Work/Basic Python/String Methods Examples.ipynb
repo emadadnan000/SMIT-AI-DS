{
 "cells": [
  {
   "cell_type": "markdown",
   "id": "09948402",
   "metadata": {},
   "source": [
    "# String Methods Examples\n"
   ]
  },
  {
   "cell_type": "code",
   "execution_count": null,
   "id": "bbd8c541",
   "metadata": {},
   "outputs": [],
   "source": [
    "stp = \"123456789\"\n",
    "print(len(stp))\n",
    "print(stp[0]) # print the numbers index\n",
    "# Slicing\n",
    "# starting index is included whereas ending index is not included \n",
    "# third arg is for step\n",
    "print(stp[1:4])   # print the numbers from index 1 to 4\n",
    "print(stp[0:6:2])\n",
    "# reverse indexing\n",
    "print(stp[-1])\n",
    "# reverse slicing   \n",
    "print(stp[-1:-6:-1])\n",
    "# reverse the string\n",
    "print(stp[::-1])"
   ]
  },
  {
   "cell_type": "code",
   "execution_count": null,
   "id": "ecb234d7",
   "metadata": {},
   "outputs": [],
   "source": [
    "# formatted strings\n",
    "user_input = int(input(\"Enter any number: \"))\n",
    "if (user_input%2) == 0:\n",
    "    print(f\"{user_input} is even number \")\n",
    "else:\n",
    "    print(f\"{user_input} is odd number \")"
   ]
  }
 ],
 "metadata": {
  "language_info": {
   "name": "python"
  }
 },
 "nbformat": 4,
 "nbformat_minor": 5
}
