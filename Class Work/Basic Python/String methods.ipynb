{
 "cells": [
  {
   "cell_type": "markdown",
   "metadata": {},
   "source": [
    "### String Methods\n"
   ]
  },
  {
   "cell_type": "markdown",
   "metadata": {},
   "source": [
    "### upper():\n",
    "The `upper()` method returns a copy of the string with all the characters converted to uppercase."
   ]
  },
  {
   "cell_type": "code",
   "execution_count": 1,
   "metadata": {},
   "outputs": [
    {
     "name": "stdout",
     "output_type": "stream",
     "text": [
      "SAMPLE\n"
     ]
    }
   ],
   "source": [
    "str1 = \"Sample\"\n",
    "print(str1.upper())"
   ]
  },
  {
   "cell_type": "markdown",
   "metadata": {},
   "source": [
    "### lower()\n",
    "The `lower()` method returns a copy of the string with all the characters converted to lowercase."
   ]
  },
  {
   "cell_type": "code",
   "execution_count": 2,
   "metadata": {},
   "outputs": [
    {
     "name": "stdout",
     "output_type": "stream",
     "text": [
      "sample\n"
     ]
    }
   ],
   "source": [
    "str1 = \"Sample\"\n",
    "print(str1.lower())"
   ]
  },
  {
   "cell_type": "markdown",
   "metadata": {},
   "source": [
    "### replace()\n",
    "The `replace()` method returns a copy of the string with all occurrences of a substring replaced with another substring.\n",
    "\n"
   ]
  },
  {
   "cell_type": "code",
   "execution_count": 4,
   "metadata": {},
   "outputs": [
    {
     "name": "stdout",
     "output_type": "stream",
     "text": [
      "Umar Akmal Umar\n"
     ]
    }
   ],
   "source": [
    "name = \"Kamran Akmal Kamran\"\n",
    "replaced_text = name.replace(\"Kamran\", \"Umar\")\n",
    "print(replaced_text)  "
   ]
  },
  {
   "cell_type": "markdown",
   "metadata": {},
   "source": [
    "### split()\n",
    "The `split()` method splits the string into a list of substrings based on a delimiter.\n",
    "Usage: Searching for information within the text \n"
   ]
  },
  {
   "cell_type": "code",
   "execution_count": 6,
   "metadata": {},
   "outputs": [
    {
     "name": "stdout",
     "output_type": "stream",
     "text": [
      "['Hello', 'World']\n"
     ]
    }
   ],
   "source": [
    "text = \"Hello World\"\n",
    "split_text = text.split(\" \")\n",
    "print(split_text)  # Output: ['hello', 'world']"
   ]
  },
  {
   "cell_type": "markdown",
   "metadata": {},
   "source": [
    "### capitalize()\n",
    "The `capitalize()` method returns a copy of the string with the first character capitalized and the rest lowercased.\n",
    "\n"
   ]
  },
  {
   "cell_type": "code",
   "execution_count": null,
   "metadata": {},
   "outputs": [],
   "source": [
    "text = \"hello world\"\n",
    "capitalized_text = text.capitalize()\n",
    "print(capitalized_text)  # Output: Hello world"
   ]
  },
  {
   "cell_type": "markdown",
   "metadata": {},
   "source": [
    "### count()\n",
    "The `count()` method returns the number of occurrences of a substring in the string.\n",
    "\n"
   ]
  },
  {
   "cell_type": "code",
   "execution_count": null,
   "metadata": {},
   "outputs": [],
   "source": [
    "text = \"hello world\"\n",
    "count_l = text.count('l')\n",
    "print(count_l)  # Output: 3"
   ]
  },
  {
   "cell_type": "markdown",
   "metadata": {},
   "source": [
    "### endswith()\n",
    "The `endswith()` method returns `True` if the string ends with the specified suffix, otherwise it returns `False`.\n"
   ]
  },
  {
   "cell_type": "code",
   "execution_count": 8,
   "metadata": {},
   "outputs": [
    {
     "name": "stdout",
     "output_type": "stream",
     "text": [
      "True\n",
      "False\n",
      "True\n"
     ]
    }
   ],
   "source": [
    "text = \"hello world\"\n",
    "ends_with_world = text.endswith('world')\n",
    "print(ends_with_world)  \n",
    "\n",
    "ends_with_hello = text.endswith('hello')\n",
    "print(ends_with_hello)  \n",
    "str5 = \"Hello Pakistant !!!\"\n",
    "print(str5.endswith(\"i\",4,10))  #searching in a range (negative indexing is supported)"
   ]
  },
  {
   "cell_type": "markdown",
   "metadata": {},
   "source": [
    "### find()\n",
    "The `find()` method returns the lowest index of the substring if it is found in the string. If it is not found, it returns `-1`.\n",
    "No error is returned"
   ]
  },
  {
   "cell_type": "code",
   "execution_count": 9,
   "metadata": {},
   "outputs": [
    {
     "name": "stdout",
     "output_type": "stream",
     "text": [
      "6\n",
      "0\n",
      "-1\n"
     ]
    }
   ],
   "source": [
    "text = \"hello world\"\n",
    "index_of_world = text.find('world')\n",
    "print(index_of_world)  # Output: 6\n",
    "\n",
    "index_of_hello = text.find('hello')\n",
    "print(index_of_hello)  # Output: 0\n",
    "\n",
    "index_of_python = text.find('python')\n",
    "print(index_of_python)  # Output: -1"
   ]
  },
  {
   "cell_type": "markdown",
   "metadata": {},
   "source": [
    "## isalnum()\n",
    "The `isalnum()` method returns `True` if all characters in the string are alphanumeric (either letters or numbers or punctuations) and there is at least one character. Otherwise, it returns `False`.\n"
   ]
  },
  {
   "cell_type": "code",
   "execution_count": 10,
   "metadata": {},
   "outputs": [
    {
     "name": "stdout",
     "output_type": "stream",
     "text": [
      "True\n",
      "False\n",
      "False\n"
     ]
    }
   ],
   "source": [
    "text1 = \"hello123\"\n",
    "is_alnum1 = text1.isalnum()\n",
    "print(is_alnum1)  # Output: True\n",
    "\n",
    "text2 = \"hello 123\"\n",
    "is_alnum2 = text2.isalnum()\n",
    "print(is_alnum2)  # Output: False\n",
    "\n",
    "text3 = \"hello!\"\n",
    "is_alnum3 = text3.isalnum()\n",
    "print(is_alnum3)  # Output: False"
   ]
  },
  {
   "cell_type": "markdown",
   "metadata": {},
   "source": [
    "### isalpha()\n",
    "The `isalpha()` method returns `True` if all characters in the string are alphabetic and there is at least one character. Otherwise, it returns `False`.\n"
   ]
  },
  {
   "cell_type": "code",
   "execution_count": 12,
   "metadata": {},
   "outputs": [
    {
     "name": "stdout",
     "output_type": "stream",
     "text": [
      "True\n",
      "False\n"
     ]
    },
    {
     "data": {
      "text/plain": [
       "False"
      ]
     },
     "execution_count": 12,
     "metadata": {},
     "output_type": "execute_result"
    }
   ],
   "source": [
    "text1 = \"hello\"\n",
    "is_alpha1 = text1.isalpha()\n",
    "print(is_alpha1)  # Output: True\n",
    "\n",
    "text2 = \"hello123\"\n",
    "is_alpha2 = text2.isalpha()\n",
    "print(is_alpha2)  # Output: False\n",
    "\n",
    "text3 = \"hello world\"\n",
    "is_alpha3 = text3.isalpha()\n",
    "is_alpha3  # Output: False"
   ]
  },
  {
   "cell_type": "markdown",
   "metadata": {},
   "source": [
    "### islower()\n",
    "The `islower()` method returns `True` if all the alphabetic characters in the string are lowercase and there is at least one alphabetic character. Otherwise, it returns `False`.\n"
   ]
  },
  {
   "cell_type": "code",
   "execution_count": 13,
   "metadata": {},
   "outputs": [
    {
     "name": "stdout",
     "output_type": "stream",
     "text": [
      "True\n",
      "False\n",
      "True\n"
     ]
    }
   ],
   "source": [
    "text1 = \"hello\"\n",
    "is_lower1 = text1.islower()\n",
    "print(is_lower1)  # Output: True\n",
    "\n",
    "text2 = \"Hello\"\n",
    "is_lower2 = text2.islower()\n",
    "print(is_lower2)  # Output: False\n",
    "\n",
    "text3 = \"hello123\"\n",
    "is_lower3 = text3.islower()\n",
    "print(is_lower3)  # Output: True"
   ]
  },
  {
   "cell_type": "markdown",
   "metadata": {},
   "source": [
    "### isupper()\n",
    "The `isupper()` method returns True if all the alphabetic characters in the string are uppercase and there is at least one alphabetic character. Otherwise, it returns False.\n",
    "\n"
   ]
  },
  {
   "cell_type": "code",
   "execution_count": 1,
   "metadata": {},
   "outputs": [
    {
     "name": "stdout",
     "output_type": "stream",
     "text": [
      "True\n",
      "False\n",
      "True\n"
     ]
    }
   ],
   "source": [
    "text1 = \"HELLO\"\n",
    "is_upper1 = text1.isupper()\n",
    "print(is_upper1)  # Output: True\n",
    "\n",
    "text2 = \"Hello\"\n",
    "is_upper2 = text2.isupper()\n",
    "print(is_upper2)  # Output: False\n",
    "\n",
    "text3 = \"HELLO123\"\n",
    "is_upper3 = text3.isupper()\n",
    "print(is_upper3)  # Output: True"
   ]
  }
 ],
 "metadata": {
  "kernelspec": {
   "display_name": "base",
   "language": "python",
   "name": "python3"
  },
  "language_info": {
   "codemirror_mode": {
    "name": "ipython",
    "version": 3
   },
   "file_extension": ".py",
   "mimetype": "text/x-python",
   "name": "python",
   "nbconvert_exporter": "python",
   "pygments_lexer": "ipython3",
   "version": "3.12.7"
  }
 },
 "nbformat": 4,
 "nbformat_minor": 2
}
