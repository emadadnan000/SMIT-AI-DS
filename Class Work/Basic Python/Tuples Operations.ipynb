{
 "cells": [
  {
   "cell_type": "code",
   "execution_count": null,
   "id": "62c4d95b",
   "metadata": {
    "colab": {
     "base_uri": "https://localhost:8080/"
    },
    "executionInfo": {
     "elapsed": 29,
     "status": "ok",
     "timestamp": 1744479505022,
     "user": {
      "displayName": "Faisal Amin",
      "userId": "07618200051041167646"
     },
     "user_tz": -300
    },
    "id": "62c4d95b",
    "outputId": "df6697e4-42b8-40d5-d519-fdf2f2d242d9"
   },
   "outputs": [],
   "source": [
    "tuple1 = (0, 1, 2, 3, 2, 31, 1, 3, 2, 3)\n",
    "print(tuple1.count(3))\n",
    "print(tuple1.index(3))\n",
    "print(tuple1.index(3, 4, 8))\n",
    "print(len(tuple1))\n"
   ]
  },
  {
   "cell_type": "code",
   "execution_count": null,
   "id": "50b1854c",
   "metadata": {},
   "outputs": [],
   "source": []
  },
  {
   "cell_type": "markdown",
   "id": "8946814a",
   "metadata": {
    "id": "8946814a"
   },
   "source": [
    "# Manipulating Tuples\n",
    "Tuples are immutable, hence if you want to add, remove or change tuple items, then first you must convert the tuple to a list. Then perform operation on that list and convert it back to tuple."
   ]
  },
  {
   "cell_type": "code",
   "execution_count": null,
   "id": "fbeb9b1b",
   "metadata": {
    "id": "fbeb9b1b",
    "outputId": "784c9578-e77e-4f64-896f-f68954171ca7"
   },
   "outputs": [],
   "source": [
    "countries = (\"Spain\", \"Italy\", \"India\", \"England\", \"Germany\")\n",
    "temp = list(countries)\n",
    "temp.append(\"Russia\")\n",
    "temp.pop(3)\n",
    "temp[2] = \"Finland\" \n",
    "countries = tuple(temp)\n",
    "print(countries)"
   ]
  },
  {
   "cell_type": "markdown",
   "id": "f0d91c0f",
   "metadata": {
    "id": "f0d91c0f"
   },
   "source": [
    "Thus, we convert the tuple to a list, manipulate items of the list using list methods, then convert list back to a tuple.\n",
    "\n",
    "However, we can directly concatenate two tuples without converting them to list."
   ]
  },
  {
   "cell_type": "code",
   "execution_count": null,
   "id": "a1944346",
   "metadata": {
    "id": "a1944346",
    "outputId": "dbc45402-f8c7-44ef-9537-f50c07755601"
   },
   "outputs": [],
   "source": [
    "countries = (\"Pakistan\", \"Afghanistan\", \"Bangladesh\", \"SriLanka\")\n",
    "countries2 = (\"Vietnam\", \"India\", \"China\")\n",
    "southEastAsia = countries + countries2\n",
    "print(southEastAsia)"
   ]
  },
  {
   "cell_type": "code",
   "execution_count": null,
   "id": "64d94dbc",
   "metadata": {
    "id": "64d94dbc",
    "outputId": "87e19d9b-c473-4ad0-dc04-ffb01da3cb9e"
   },
   "outputs": [],
   "source": [
    "books = [\"Book1\" , \"Book2\" , \"Book3\"]\n",
    "ass_books = []\n",
    "\n",
    "user_name = input(\"Enter your name\")\n",
    "\n",
    "ass_ret_book = int(input(\"Enter  1 to assign and 2 to return: \"))\n",
    "\n",
    "if ass_ret_book == 1:\n",
    "    book_name = input(\"Which book you want: \")\n",
    "    for i in books:\n",
    "        if i == book_name:\n",
    "            ass_books.append(book_name)\n",
    "            books.remove(book_name)\n",
    "            print(\"Your book has been assigned\")\n",
    "            print(\"\\t ==== Details ==== \\t\")\n",
    "            print(\"User Name : \" + user_name + \"\\n\" + \"Book Assigned Name: \" + book_name + \"\\nDate : 13- August - 2023\")\n",
    "            print(books , ass_books)\n",
    "            break\n",
    "elif ass_ret_book == 2 :\n",
    "    ret_book_name = input(\"Enter Book name: \")\n",
    "    for i in ass_books:\n",
    "        if i == ret_book_name:\n",
    "            books.append(ret_book_name)\n",
    "            ass_books.remove(ret_book_name)\n",
    "            print(\"Your Book has been Returned\")\n",
    "            print(\"\\t ==== Details ==== \\t\")\n",
    "            print(\"User Name : \" + user_name + \"\\n\" + \"Book Return Nam`e: \" + book_name + \"\\nDate : 13- August - 2023\")\n",
    "            print(books , ass_books)\n",
    "            break\n",
    "        else:\n",
    "            print(\"No Book has been assigned with this name\")\n"
   ]
  }
 ],
 "metadata": {
  "colab": {
   "provenance": []
  },
  "kernelspec": {
   "display_name": "Python 3",
   "language": "python",
   "name": "python3"
  },
  "language_info": {
   "codemirror_mode": {
    "name": "ipython",
    "version": 3
   },
   "file_extension": ".py",
   "mimetype": "text/x-python",
   "name": "python",
   "nbconvert_exporter": "python",
   "pygments_lexer": "ipython3",
   "version": "3.13.3"
  }
 },
 "nbformat": 4,
 "nbformat_minor": 5
}
