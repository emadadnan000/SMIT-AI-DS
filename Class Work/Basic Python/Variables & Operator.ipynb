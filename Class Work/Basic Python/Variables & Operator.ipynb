{
 "cells": [
  {
   "cell_type": "markdown",
   "id": "6b4a7baf",
   "metadata": {},
   "source": [
    "# Variables & Operators\n"
   ]
  },
  {
   "cell_type": "code",
   "execution_count": null,
   "id": "100abfc5",
   "metadata": {},
   "outputs": [],
   "source": [
    "# variables value swapping\n",
    "a = 9\n",
    "b = 3\n",
    "\n",
    "c = a\n",
    "a = b\n",
    "b = c\n",
    "print(a)\n",
    "print(b)\n",
    "\n",
    "c , d = 9, 3\n",
    "c, d = d, c \n",
    "print(c)\n",
    "print(d)"
   ]
  },
  {
   "cell_type": "code",
   "execution_count": null,
   "id": "59142ae7",
   "metadata": {},
   "outputs": [],
   "source": [
    "# arithmetic operators\n",
    "print(a+b)\n",
    "print(a-b)\n",
    "print(a*b)\n",
    "print(a/b)\n",
    "print(9%11)\n",
    "print(9//11) # removes the point\n",
    "print(a**b) # power"
   ]
  },
  {
   "cell_type": "markdown",
   "id": "0db44c60",
   "metadata": {},
   "source": [
    "## Student Result Program with Grades\n",
    "Enter a numeric percentage when prompted."
   ]
  },
  {
   "cell_type": "code",
   "execution_count": null,
   "id": "485bd54c",
   "metadata": {},
   "outputs": [],
   "source": [
    "percentage = int(input(\"Enter your percentage: \"))\n",
    "\n",
    "if percentage >= 90 and percentage <= 100:\n",
    "    print(\"Grade: A+\")\n",
    "elif percentage >= 80 and percentage < 90:\n",
    "    print(\"Grade: A\")\n",
    "elif percentage >= 70 and percentage < 80:\n",
    "    print(\"Grade: B\")\n",
    "elif percentage >= 60 and percentage < 70:\n",
    "    print(\"Grade: C\")\n",
    "elif percentage >= 50 and percentage < 60:\n",
    "    print(\"Grade: D\")\n",
    "elif percentage >= 0 and percentage < 50:\n",
    "    print(\"Grade: F\")\n",
    "else:\n",
    "    print(\"Invalid percentage entered. Please enter a value between 0 and 100.\")"
   ]
  },
  {
   "cell_type": "markdown",
   "id": "9d753d5e",
   "metadata": {},
   "source": [
    "## Membership operators IN & NOT IN\n",
    "Check if a character is in a string."
   ]
  },
  {
   "cell_type": "code",
   "execution_count": null,
   "id": "29c65f69",
   "metadata": {},
   "outputs": [],
   "source": [
    "sentence = input(\"Enter a sentence: \")\n",
    "char = input(\"Enter a character to check: \")\n",
    "\n",
    "if char in sentence:\n",
    "    print(f\"The character '{char}' is present in the sentence.\")\n",
    "else:\n",
    "    print(f\"The character '{char}' is not present in the sentence.\")"
   ]
  },
  {
   "cell_type": "markdown",
   "id": "793428f4",
   "metadata": {},
   "source": [
    "## Identity Operator IS & IS NOT\n",
    "Demonstrates object identity vs equality."
   ]
  },
  {
   "cell_type": "code",
   "execution_count": null,
   "id": "27adef3b",
   "metadata": {},
   "outputs": [],
   "source": [
    "x = [\"apple\", \"banana\"]\n",
    "y = [\"apple\", \"banana\"]\n",
    "z = x\n",
    "\n",
    "print(x is z)\n",
    "# returns True because z is the same object as x\n",
    "print(x is y)\n",
    "print(x is not z)\n",
    "print(x is not y)"
   ]
  }
 ],
 "metadata": {
  "language_info": {
   "name": "python"
  }
 },
 "nbformat": 4,
 "nbformat_minor": 5
}
