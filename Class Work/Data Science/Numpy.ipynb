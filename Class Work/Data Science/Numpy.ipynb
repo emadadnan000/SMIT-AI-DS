{
  "cells": [
    {
      "cell_type": "code",
      "execution_count": null,
      "metadata": {
        "colab": {
          "base_uri": "https://localhost:8080/"
        },
        "id": "20a5d4G_nuVZ",
        "outputId": "b800b607-86f4-4918-a06f-4fe8a1cccb5c"
      },
      "outputs": [],
      "source": [
        "import numpy as np\n",
        "\n",
        "# arr = np.array([1, 2, 3, 4])\n",
        "# print(type(arr))\n",
        "# print(arr[0])\n",
        "\n",
        "list_1 = [1,3,5]\n",
        "print(type(list_1))\n",
        "x  = np.array(list_1)\n",
        "print(type(x))"
      ]
    },
    {
      "cell_type": "code",
      "execution_count": null,
      "metadata": {
        "colab": {
          "base_uri": "https://localhost:8080/"
        },
        "id": "UgQErGkbn5z0",
        "outputId": "a3440992-78f3-43a3-8318-c9f87d7cade0"
      },
      "outputs": [],
      "source": [
        "arr = np.array([1, 2, 3, 4])\n",
        "\n",
        "print(arr[1])"
      ]
    },
    {
      "cell_type": "code",
      "execution_count": null,
      "metadata": {
        "colab": {
          "base_uri": "https://localhost:8080/"
        },
        "id": "V7EcnxRdoBfX",
        "outputId": "0e3f5e1d-5a86-40bb-bc2d-b2127d9033d8"
      },
      "outputs": [],
      "source": [
        "arr = np.array([1, 2, 3, 4])\n",
        "\n",
        "print(arr[2] + arr[3])"
      ]
    },
    {
      "cell_type": "code",
      "execution_count": null,
      "metadata": {
        "colab": {
          "base_uri": "https://localhost:8080/"
        },
        "id": "VEKIHv24oFNq",
        "outputId": "6f6c5148-68f9-4134-c4f4-cf00fa388b8c"
      },
      "outputs": [],
      "source": [
        "arr = np.array([1,2,3,4,5])\n",
        "\n",
        "print(arr[0])\n",
        "print(arr[-1])\n"
      ]
    },
    {
      "cell_type": "code",
      "execution_count": null,
      "metadata": {
        "colab": {
          "base_uri": "https://localhost:8080/"
        },
        "id": "RuMWWYPr7VSu",
        "outputId": "5383a677-9234-4fc8-b92a-34b01423fde8"
      },
      "outputs": [],
      "source": [
        "arr = np.array([1,2,3,4,5,6,7,8,9,10])\n",
        "\n",
        "# print(arr.shape)\n",
        "print(arr[2:9])"
      ]
    },
    {
      "cell_type": "code",
      "execution_count": null,
      "metadata": {
        "colab": {
          "base_uri": "https://localhost:8080/"
        },
        "id": "OgfTeTkWoREm",
        "outputId": "a8838d13-83dd-427d-cd26-7913830b40cd"
      },
      "outputs": [],
      "source": [
        "# Slice elements from index 1 to index 5 from the following array:\n",
        "\n",
        "arr = np.array([1, 2, 3, 4, 5, 6, 7])\n",
        "\n",
        "print(arr[1:5])"
      ]
    },
    {
      "cell_type": "code",
      "execution_count": null,
      "metadata": {
        "colab": {
          "base_uri": "https://localhost:8080/"
        },
        "id": "0neWcCkwoft-",
        "outputId": "57870abb-bbe3-48ea-acb8-2bb07163a32a"
      },
      "outputs": [],
      "source": [
        "# Return every other element from index 1 to index 5:\n",
        "\n",
        "arr = np.array([1, 2, 3, 4, 5, 6, 7])\n",
        "\n",
        "print(arr[1:5:2])"
      ]
    },
    {
      "cell_type": "code",
      "execution_count": null,
      "metadata": {
        "colab": {
          "base_uri": "https://localhost:8080/"
        },
        "id": "wzEUGuf8oy22",
        "outputId": "e0002652-ab85-4f5e-893c-e1ba064db95e"
      },
      "outputs": [],
      "source": [
        "arr = np.array([[1, 2, 3, 4, 5],\n",
        "                [6, 7, 8, 9, 10]])\n",
        "\n",
        "print(arr[1:2 , 1:4])"
      ]
    },
    {
      "cell_type": "code",
      "execution_count": null,
      "metadata": {
        "colab": {
          "base_uri": "https://localhost:8080/"
        },
        "id": "pk7yYujFpAcb",
        "outputId": "a876286f-2acf-46ac-b3ee-e4660ce65e1a"
      },
      "outputs": [],
      "source": [
        "arr = np.array([[1, 2, 3, 4, 5],\n",
        "                [6, 7, 8, 9, 10]])\n",
        "\n",
        "print(arr.shape)"
      ]
    },
    {
      "cell_type": "code",
      "execution_count": null,
      "metadata": {
        "colab": {
          "base_uri": "https://localhost:8080/"
        },
        "id": "dXc58F1EpRHb",
        "outputId": "9b2e4cb5-be4e-4b48-8ce4-bc4cfbc89e67"
      },
      "outputs": [],
      "source": [
        "arr = np.array([1, 2, 3, 4, 5, 6, 7, 8, 9, 10, 11, 12])\n",
        "\n",
        "newarr = arr.reshape(4,3)\n",
        "\n",
        "print(newarr)"
      ]
    },
    {
      "cell_type": "code",
      "execution_count": null,
      "metadata": {
        "id": "Im2Ad7dJr_Ei"
      },
      "outputs": [],
      "source": [
        "np.arange()"
      ]
    },
    {
      "cell_type": "markdown",
      "metadata": {
        "id": "2CHiZ_b9qYBY"
      },
      "source": [
        "### Exercises:\n",
        "\n",
        "1. Create a 4X2 integer array and Prints its attributes\n",
        "\n",
        "The shape of an array.\n",
        "\n",
        "Array dimensions.\n",
        "\n",
        "The Length of each element of the array in bytes.\n",
        "\n",
        "2. Create a 5X2 integer array from a range between 100 to 200 such that the difference between each element is 10\n",
        "\\\n",
        "\n",
        "Creating 5X2 array using numpy.arange\n",
        "\n",
        "[[100 110]\n",
        " [120 130]\n",
        " [140 150]\n",
        " [160 170]\n",
        " [180 190]]\n",
        "\n",
        "3. Following is the provided numPy array. Return array of items by taking the third value from all rows\n",
        "\n",
        "sampleArray = numpy.array([[11 ,22, 33],\n",
        "                           [44, 55, 66],\n",
        "                          [77, 88, 99]])\n",
        "\n"
      ]
    },
    {
      "cell_type": "code",
      "execution_count": null,
      "metadata": {
        "colab": {
          "base_uri": "https://localhost:8080/"
        },
        "id": "_bRNgxQhqZ_P",
        "outputId": "03c1c066-3f82-4f7a-af0c-4de90dc48274"
      },
      "outputs": [],
      "source": [
        "firstArray = np.empty([4,2], dtype = np.uint16)\n",
        "print(\"Printing Array\")\n",
        "print(firstArray)\n",
        "\n",
        "print(\"Printing numpy array Attributes\")\n",
        "print(\"1> Array Shape is: \", firstArray.shape)\n",
        "print(\"2>. Array dimensions are \", firstArray.ndim)\n",
        "print(\"3>. Length of each element of array in bytes is \", firstArray.itemsize)"
      ]
    },
    {
      "cell_type": "code",
      "execution_count": null,
      "metadata": {
        "colab": {
          "base_uri": "https://localhost:8080/"
        },
        "id": "-gTLfYfdxtl6",
        "outputId": "d46ac481-56d2-470b-c1a9-a2df0ab0e70e"
      },
      "outputs": [],
      "source": [
        "import numpy as np\n",
        "print(\"Creating 5X2 array using numpy.arange\")\n",
        "sampleArray = np.arange(100, 200, 10).reshape(5,2)\n",
        "print(sampleArray)"
      ]
    },
    {
      "cell_type": "code",
      "execution_count": null,
      "metadata": {
        "id": "M-Uvcn32yHqt"
      },
      "outputs": [],
      "source": [
        "sampleArray = numpy.array([[11 ,22, 33], [44, 55, 66], [77, 88, 99]])\n",
        "print(\"Printing Input Array\")\n",
        "print(sampleArray)\n",
        "\n",
        "print(\"\\n Printing array of items in the third column from all rows\")\n",
        "newArray = sampleArray[...,2]\n",
        "print(newArray)"
      ]
    },
    {
      "cell_type": "markdown",
      "metadata": {},
      "source": [
        "1. Create a 4X2 integer array and Prints its attributes\n",
        "\n",
        "The shape of an array.\n",
        "\n",
        "Array dimensions.\n",
        "\n",
        "The Length of each element of the array in bytes."
      ]
    },
    {
      "cell_type": "code",
      "execution_count": null,
      "metadata": {},
      "outputs": [],
      "source": [
        "array_1 = np.array([\n",
        "    [1, 2],\n",
        "    [3, 4],\n",
        "    [5, 6],\n",
        "    [7, 8]\n",
        "])\n",
        "print(\"Shape of the array:\", array_1.shape)\n",
        "print(\"Data type of the array:\", array_1.dtype)\n",
        "print(\"Number of dimensions of the array:\", array_1.ndim)\n",
        "print(\"Total number of elements in the array:\", array_1.size)\n",
        "print(\"Size of each element in bytes:\", array_1.itemsize)\n",
        "print(\"Total number of bytes consumed by the elements of the array:\", array_1.nbytes)"
      ]
    },
    {
      "cell_type": "markdown",
      "metadata": {},
      "source": [
        "\n",
        "\n",
        "2. Create a 5X2 integer array from a range between 100 to 200 such that the difference between each element is 10\n",
        "\n",
        "\n"
      ]
    },
    {
      "cell_type": "code",
      "execution_count": null,
      "metadata": {},
      "outputs": [],
      "source": [
        "array_2 =  np.arange(100, 200, 10).reshape(5, 2)"
      ]
    },
    {
      "cell_type": "markdown",
      "metadata": {},
      "source": [
        "\n",
        "3. Following is the provided numPy array. Return array of items by taking the third value from all rows\n",
        "\n",
        "sampleArray = numpy.array([[11 ,22, 33],\n",
        "                           [44, 55, 66],\n",
        "                          [77, 88, 99]])"
      ]
    },
    {
      "cell_type": "code",
      "execution_count": null,
      "metadata": {},
      "outputs": [],
      "source": [
        "sampleArray = np.array([[11 ,22, 33],\n",
        "                           [44, 55, 66],\n",
        "                          [77, 88, 99]])\n",
        "print(\"Printing Sample Array\")\n",
        "print(sampleArray)\n",
        "\n",
        "print(\"\\n Printing array of items in the third column from all rows\")\n",
        "newArray = sampleArray[...,2]\n",
        "print(newArray)"
      ]
    }
  ],
  "metadata": {
    "colab": {
      "provenance": []
    },
    "kernelspec": {
      "display_name": "Python 3",
      "name": "python3"
    },
    "language_info": {
      "codemirror_mode": {
        "name": "ipython",
        "version": 3
      },
      "file_extension": ".py",
      "mimetype": "text/x-python",
      "name": "python",
      "nbconvert_exporter": "python",
      "pygments_lexer": "ipython3",
      "version": "3.13.3"
    }
  },
  "nbformat": 4,
  "nbformat_minor": 0
}
