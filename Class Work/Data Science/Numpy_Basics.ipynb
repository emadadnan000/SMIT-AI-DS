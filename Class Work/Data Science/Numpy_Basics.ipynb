{
  "cells": [
    {
      "cell_type": "markdown",
      "metadata": {
        "id": "DoHpl-CEkbGP"
      },
      "source": [
        "# What is Numpy"
      ]
    },
    {
      "cell_type": "code",
      "execution_count": null,
      "metadata": {
        "id": "QDhNb0ipkbGW"
      },
      "outputs": [],
      "source": [
        "# A numpy is a library of python which is used to do scientific operations using python\n",
        "# Abbrevation: Numerical Python"
      ]
    },
    {
      "cell_type": "markdown",
      "metadata": {
        "id": "RuNrbmBrkbGZ"
      },
      "source": [
        "# Diffrence Between List and Array"
      ]
    },
    {
      "cell_type": "code",
      "execution_count": null,
      "metadata": {
        "id": "evA4zGdJkbGa"
      },
      "outputs": [],
      "source": [
        "# In python we work with list and in Numpy we will work with array so First of all we will understand\n",
        "# the Diffrence between List and Array\n",
        "\n",
        "# There are two major Diffrences Between List and Array\n",
        "# 1. We cannot do Arthmetic operations with List but Array allow us to do Arttmetic operations\n",
        "# 2.Arrays allow both direct and sequential access, while lists allow only sequential access\n"
      ]
    }
  ],
  "metadata": {
    "kernelspec": {
      "display_name": "Python 3",
      "language": "python",
      "name": "python3"
    },
    "language_info": {
      "codemirror_mode": {
        "name": "ipython",
        "version": 3
      },
      "file_extension": ".py",
      "mimetype": "text/x-python",
      "name": "python",
      "nbconvert_exporter": "python",
      "pygments_lexer": "ipython3",
      "version": "3.7.3"
    },
    "colab": {
      "provenance": []
    }
  },
  "nbformat": 4,
  "nbformat_minor": 0
}