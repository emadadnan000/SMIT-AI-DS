{
 "cells": [
  {
   "cell_type": "markdown",
   "id": "d63ac663",
   "metadata": {},
   "source": [
    "# Combining DataFrames in Pandas — Merging, Joining, and Concatenation"
   ]
  },
  {
   "cell_type": "markdown",
   "id": "74a362d6",
   "metadata": {},
   "source": [
    "\n",
    "## 1️⃣ Introduction\n",
    "In real-world data analysis, we often work with multiple datasets that need to be combined.\n",
    "\n",
    "**Pandas** provides several methods:\n",
    "- **concat()** → Stack DataFrames\n",
    "- **merge()** → SQL-like join operations\n",
    "- **join()** → Easier merging on indices\n"
   ]
  },
  {
   "cell_type": "markdown",
   "id": "7e21a114",
   "metadata": {},
   "source": [
    "## 2️⃣ Concatenation using `pd.concat()`"
   ]
  },
  {
   "cell_type": "markdown",
   "id": "f320b999",
   "metadata": {},
   "source": [
    "\n",
    "**Theory:**\n",
    "\n",
    "- Concatenates along rows (`axis=0`) or columns (`axis=1`).\n",
    "- Indexes are preserved unless reset.\n"
   ]
  },
  {
   "cell_type": "code",
   "execution_count": null,
   "id": "42199785",
   "metadata": {},
   "outputs": [],
   "source": [
    "\n",
    "import pandas as pd\n",
    "\n",
    "# Sample DataFrames\n",
    "df1 = pd.DataFrame({'A': ['A0', 'A1', 'A2'],\n",
    "                    'B': ['B0', 'B1', 'B2']})\n",
    "\n",
    "df2 = pd.DataFrame({'A': ['A3', 'A4', 'A5'],\n",
    "                    'B': ['B3', 'B4', 'B5']})\n",
    "\n",
    "# Concatenate along rows\n",
    "result = pd.concat([df1, df2])\n",
    "print(result)\n"
   ]
  },
  {
   "cell_type": "markdown",
   "id": "8f7a1b19",
   "metadata": {},
   "source": [
    "\n",
    "### ✅ Student Task 1:\n",
    "- Create two DataFrames of your own with at least 3 rows each.\n",
    "- Concatenate them along rows and along columns.\n"
   ]
  },
  {
   "cell_type": "markdown",
   "id": "b542a623",
   "metadata": {},
   "source": [
    "## 3️⃣ Merging using `pd.merge()`"
   ]
  },
  {
   "cell_type": "markdown",
   "id": "67c31c9a",
   "metadata": {},
   "source": [
    "\n",
    "**Theory:**\n",
    "\n",
    "- Works like SQL joins: `inner`, `left`, `right`, `outer`.\n",
    "- Combines based on one or more keys.\n"
   ]
  },
  {
   "cell_type": "code",
   "execution_count": null,
   "id": "696ea4a5",
   "metadata": {},
   "outputs": [],
   "source": [
    "\n",
    "df_left = pd.DataFrame({'key': ['K0', 'K1', 'K2'],\n",
    "                        'A': ['A0', 'A1', 'A2']})\n",
    "\n",
    "df_right = pd.DataFrame({'key': ['K0', 'K1', 'K3'],\n",
    "                         'B': ['B0', 'B1', 'B3']})\n",
    "\n",
    "# Merge on 'key' column using inner join\n",
    "result = pd.merge(df_left, df_right, on='key', how='inner')\n",
    "print(result)\n"
   ]
  },
  {
   "cell_type": "markdown",
   "id": "69574c25",
   "metadata": {},
   "source": [
    "\n",
    "### ✅ Student Task 2:\n",
    "- Create two DataFrames with a common key column.\n",
    "- Perform inner, left, right, and outer joins using `pd.merge()`.\n"
   ]
  },
  {
   "cell_type": "markdown",
   "id": "05ab27f1",
   "metadata": {},
   "source": [
    "## 4️⃣ Joining using `DataFrame.join()`"
   ]
  },
  {
   "cell_type": "markdown",
   "id": "ee981dbd",
   "metadata": {},
   "source": [
    "\n",
    "**Theory:**\n",
    "\n",
    "- Easier syntax for merging using index or column.\n",
    "- Works like a left join by default.\n"
   ]
  },
  {
   "cell_type": "code",
   "execution_count": null,
   "id": "92a009ab",
   "metadata": {},
   "outputs": [],
   "source": [
    "\n",
    "df1 = pd.DataFrame({'A': ['A0', 'A1', 'A2']},\n",
    "                   index=['K0', 'K1', 'K2'])\n",
    "\n",
    "df2 = pd.DataFrame({'B': ['B0', 'B1', 'B2']},\n",
    "                   index=['K0', 'K1', 'K2'])\n",
    "\n",
    "# Joining on index\n",
    "result = df1.join(df2)\n",
    "print(result)\n"
   ]
  },
  {
   "cell_type": "markdown",
   "id": "d457fc91",
   "metadata": {},
   "source": [
    "\n",
    "### ✅ Student Task 3:\n",
    "- Create two DataFrames with different columns but the same index.\n",
    "- Join them using `join()`.\n"
   ]
  },
  {
   "cell_type": "markdown",
   "id": "ef2b3b96",
   "metadata": {},
   "source": [
    "\n",
    "## 6️⃣ Quick Summary\n",
    "\n",
    "| Function   | Usage                          |\n",
    "|------------|--------------------------------|\n",
    "| concat()   | Stack along rows or columns    |\n",
    "| merge()    | SQL-style joins                |\n",
    "| join()     | Easier merging using indices   |\n"
   ]
  },
  {
   "cell_type": "markdown",
   "id": "05564797",
   "metadata": {},
   "source": [
    "\n",
    "## 7️⃣ Assignment for Students\n",
    "\n",
    "**Task: Online Retail Data Simulation**\n",
    "\n",
    "1. Create three DataFrames:\n",
    "   - `customers` → Customer ID, Name, City  \n",
    "   - `orders` → Order ID, Customer ID, Product  \n",
    "   - `payments` → Payment ID, Order ID, Amount  \n",
    "\n",
    "2. Combine these DataFrames to create a consolidated table showing:\n",
    "   - Customer Name  \n",
    "   - City  \n",
    "   - Product  \n",
    "   - Amount Paid  \n",
    "\n",
    "**Rules:**\n",
    "- Use `pd.merge()` for combining tables based on keys.\n",
    "- Demonstrate at least **two types of joins** (inner and left).\n",
    "- Submit your Jupyter Notebook file in classroom by **[Insert Deadline]**.\n"
   ]
  }
 ],
 "metadata": {},
 "nbformat": 4,
 "nbformat_minor": 5
}
