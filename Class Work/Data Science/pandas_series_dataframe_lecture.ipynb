{
 "cells": [
  {
   "cell_type": "markdown",
   "metadata": {},
   "source": [
    "# 📘 Pandas Series and DataFrames Lecture\n",
    "\n",
    "## 🌟 Objective\n",
    "Understand and practice how to use Pandas Series and DataFrames for data analysis in Python."
   ]
  },
  {
   "cell_type": "markdown",
   "id": "f1cf7027",
   "metadata": {},
   "source": []
  },
  {
   "cell_type": "code",
   "execution_count": null,
   "metadata": {},
   "outputs": [],
   "source": [
    "# Importing the pandas library\n",
    "import pandas as pd"
   ]
  },
  {
   "cell_type": "markdown",
   "metadata": {},
   "source": [
    "## ✅ Part 1: Pandas Series\n",
    "\n",
    "### 🔍 What is a Series?\n",
    "A Series is a one-dimensional array-like object that holds data along with an associated index."
   ]
  },
  {
   "cell_type": "code",
   "execution_count": null,
   "metadata": {},
   "outputs": [],
   "source": [
    "# Example 1: Basic Series\n",
    "s = pd.Series([10, 20, 30, 40])\n",
    "print(s)"
   ]
  },
  {
   "cell_type": "code",
   "execution_count": null,
   "metadata": {},
   "outputs": [],
   "source": [
    "# Example 2: Custom Index\n",
    "s = pd.Series([100, 200, 300], index=['a', 'b', 'c'])\n",
    "print(s)"
   ]
  },
  {
   "cell_type": "code",
   "execution_count": null,
   "metadata": {},
   "outputs": [],
   "source": [
    "# Accessing Series Elements\n",
    "print(s['a'])  # By label\n",
    "print(s[0])    # By position"
   ]
  },
  {
   "cell_type": "code",
   "execution_count": null,
   "metadata": {},
   "outputs": [],
   "source": [
    "# Series from Dictionary\n",
    "data = {'Math': 90, 'Science': 85, 'English': 88}\n",
    "s = pd.Series(data)\n",
    "print(s)"
   ]
  },
  {
   "cell_type": "markdown",
   "metadata": {},
   "source": [
    "### 🎯 Task 1:\n",
    "Create a Series of 5 fruit names with prices."
   ]
  },
  {
   "cell_type": "code",
   "execution_count": null,
   "metadata": {},
   "outputs": [],
   "source": [
    "# Task 1 Solution\n",
    "fruit_prices = pd.Series([120, 80, 100, 150, 90],\n",
    "                         index=['Apple', 'Banana', 'Mango', 'Grapes', 'Orange'])\n",
    "print(fruit_prices)"
   ]
  },
  {
   "cell_type": "markdown",
   "metadata": {},
   "source": [
    "## 📈 Part 2: Pandas DataFrames\n",
    "\n",
    "### 📊 What is a DataFrame?\n",
    "A DataFrame is a 2D labeled data structure with columns of potentially different types."
   ]
  },
  {
   "cell_type": "code",
   "execution_count": null,
   "metadata": {},
   "outputs": [],
   "source": [
    "# Example 1: Create from Dictionary\n",
    "data = {\n",
    "    'Name': ['Ali', 'Sara', 'Ahmed'],\n",
    "    'Age': [22, 25, 23],\n",
    "    'Marks': [88, 92, 85]\n",
    "}\n",
    "df = pd.DataFrame(data)\n",
    "print(df)"
   ]
  },
  {
   "cell_type": "code",
   "execution_count": 1,
   "metadata": {},
   "outputs": [
    {
     "ename": "NameError",
     "evalue": "name 'pd' is not defined",
     "output_type": "error",
     "traceback": [
      "\u001b[31m---------------------------------------------------------------------------\u001b[39m",
      "\u001b[31mNameError\u001b[39m                                 Traceback (most recent call last)",
      "\u001b[36mCell\u001b[39m\u001b[36m \u001b[39m\u001b[32mIn[1]\u001b[39m\u001b[32m, line 6\u001b[39m\n\u001b[32m      1\u001b[39m \u001b[38;5;66;03m# Example 2: Create from List of Dictionaries\u001b[39;00m\n\u001b[32m      2\u001b[39m data = [\n\u001b[32m      3\u001b[39m     {\u001b[33m'\u001b[39m\u001b[33mName\u001b[39m\u001b[33m'\u001b[39m: \u001b[33m'\u001b[39m\u001b[33mZara\u001b[39m\u001b[33m'\u001b[39m, \u001b[33m'\u001b[39m\u001b[33mAge\u001b[39m\u001b[33m'\u001b[39m: \u001b[32m21\u001b[39m, \u001b[33m'\u001b[39m\u001b[33mMarks\u001b[39m\u001b[33m'\u001b[39m: \u001b[32m90\u001b[39m},\n\u001b[32m      4\u001b[39m     {\u001b[33m'\u001b[39m\u001b[33mName\u001b[39m\u001b[33m'\u001b[39m: \u001b[33m'\u001b[39m\u001b[33mHassan\u001b[39m\u001b[33m'\u001b[39m, \u001b[33m'\u001b[39m\u001b[33mAge\u001b[39m\u001b[33m'\u001b[39m: \u001b[32m24\u001b[39m, \u001b[33m'\u001b[39m\u001b[33mMarks\u001b[39m\u001b[33m'\u001b[39m: \u001b[32m80\u001b[39m}\n\u001b[32m      5\u001b[39m ]\n\u001b[32m----> \u001b[39m\u001b[32m6\u001b[39m df = \u001b[43mpd\u001b[49m.DataFrame(data)\n\u001b[32m      7\u001b[39m \u001b[38;5;28mprint\u001b[39m(df)\n",
      "\u001b[31mNameError\u001b[39m: name 'pd' is not defined"
     ]
    }
   ],
   "source": [
    "# Example 2: Create from List of Dictionaries\n",
    "data = [\n",
    "    {'Name': 'Zara', 'Age': 21, 'Marks': 90},\n",
    "    {'Name': 'Hassan', 'Age': 24, 'Marks': 80}\n",
    "]\n",
    "df = pd.DataFrame(data)\n",
    "print(df)"
   ]
  },
  {
   "cell_type": "code",
   "execution_count": null,
   "metadata": {},
   "outputs": [],
   "source": [
    "# Accessing Columns and Rows\n",
    "print(df['Name'])\n",
    "print(df[['Name', 'Marks']])\n",
    "print(df.loc[0])  # by label\n",
    "print(df.iloc[1]) # by position"
   ]
  },
  {
   "cell_type": "code",
   "execution_count": null,
   "metadata": {},
   "outputs": [],
   "source": [
    "# Adding a New Column\n",
    "df['Grade'] = ['A', 'A+']\n",
    "print(df)"
   ]
  },
  {
   "cell_type": "markdown",
   "metadata": {},
   "source": [
    "### 🎯 Task 2:\n",
    "Create a DataFrame for 3 students with Name, Subject, and Score."
   ]
  },
  {
   "cell_type": "code",
   "execution_count": null,
   "metadata": {},
   "outputs": [],
   "source": [
    "# Task 2 Solution\n",
    "student_data = {\n",
    "    'Name': ['Ayan', 'Zoya', 'Hamza'],\n",
    "    'Subject': ['Math', 'English', 'Science'],\n",
    "    'Score': [78, 82, 91]\n",
    "}\n",
    "df = pd.DataFrame(student_data)\n",
    "print(df)"
   ]
  },
  {
   "cell_type": "code",
   "execution_count": null,
   "metadata": {},
   "outputs": [],
   "source": [
    "# Filtering Rows\n",
    "print(df[df['Score'] > 80])"
   ]
  },
  {
   "cell_type": "code",
   "execution_count": null,
   "metadata": {},
   "outputs": [],
   "source": [
    "# Descriptive Statistics\n",
    "print(df.describe())"
   ]
  },
  {
   "cell_type": "code",
   "execution_count": null,
   "metadata": {},
   "outputs": [],
   "source": [
    "# Rename Column\n",
    "df.rename(columns={'Score': 'Marks'}, inplace=True)\n",
    "print(df)"
   ]
  },
  {
   "cell_type": "code",
   "execution_count": null,
   "metadata": {},
   "outputs": [],
   "source": [
    "# Drop a Column\n",
    "df.drop('Subject', axis=1, inplace=True)\n",
    "print(df)"
   ]
  },
  {
   "cell_type": "code",
   "execution_count": null,
   "metadata": {},
   "outputs": [],
   "source": [
    "# Sort by Column\n",
    "print(df.sort_values(by='Marks', ascending=False))"
   ]
  },
  {
   "cell_type": "markdown",
   "metadata": {},
   "source": [
    "### 🎯 Task 3:\n",
    "Add a column `Passed` with value `True` if Marks > 80."
   ]
  },
  {
   "cell_type": "code",
   "execution_count": null,
   "metadata": {},
   "outputs": [],
   "source": [
    "# Task 3 Solution\n",
    "df['Passed'] = df['Marks'] > 80\n",
    "print(df)"
   ]
  },
  {
   "cell_type": "markdown",
   "metadata": {},
   "source": [
    "## ⭐ Handy DataFrame Functions with Examples"
   ]
  },
  {
   "cell_type": "code",
   "execution_count": null,
   "metadata": {},
   "outputs": [],
   "source": [
    "print(df.head())\n",
    "print(df.tail())\n",
    "print(df.shape)\n",
    "print(df.columns)\n",
    "df.info()\n",
    "print(df.isnull())\n",
    "print(df.fillna(0))\n",
    "print(df.dropna())\n",
    "print(df.sort_values(by='Marks'))"
   ]
  },
  {
   "cell_type": "markdown",
   "metadata": {},
   "source": [
    "## 📚 Final Assignments\n",
    "1. Create a Pandas Series of 6 countries and their populations.\n",
    "2. Create a DataFrame for 5 employees with Name, Department, Salary, and Experience.\n",
    "3. Add a column `Bonus` = 15% of salary.\n",
    "4. Filter employees with more than 3 years of experience.\n",
    "5. Sort employees based on Salary in descending order."
   ]
  }
 ],
 "metadata": {
  "kernelspec": {
   "display_name": "Python 3",
   "language": "python",
   "name": "python3"
  },
  "language_info": {
   "codemirror_mode": {
    "name": "ipython",
    "version": 3
   },
   "file_extension": ".py",
   "mimetype": "text/x-python",
   "name": "python",
   "nbconvert_exporter": "python",
   "pygments_lexer": "ipython3",
   "version": "3.13.3"
  }
 },
 "nbformat": 4,
 "nbformat_minor": 5
}
