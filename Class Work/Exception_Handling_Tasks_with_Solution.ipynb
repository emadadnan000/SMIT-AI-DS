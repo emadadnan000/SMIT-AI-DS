{
  "nbformat": 4,
  "nbformat_minor": 0,
  "metadata": {
    "colab": {
      "provenance": []
    },
    "kernelspec": {
      "name": "python3",
      "display_name": "Python 3"
    },
    "language_info": {
      "name": "python"
    }
  },
  "cells": [
    {
      "cell_type": "markdown",
      "source": [
        "1. Write a Python program to handle a ZeroDivisionError exception when dividing a number by zero.\n",
        "\n",
        "2. Write a Python program that opens a file and handles a FileNotFoundError exception if the file does not exist.\n",
        "\n",
        "3. Write a Python program that prompts the user to input an integer and raises a ValueError exception if the input is not a valid integer.\n",
        "\n",
        "4. Write a Python program that prompts the user to input two numbers and raises a TypeError exception if the inputs are not numerical."
      ],
      "metadata": {
        "id": "O4eAs3bo_pPm"
      }
    },
    {
      "cell_type": "code",
      "source": [],
      "metadata": {
        "id": "WpT89TalAE6e"
      },
      "execution_count": null,
      "outputs": []
    },
    {
      "cell_type": "code",
      "source": [],
      "metadata": {
        "id": "SPa4zUGaAGna"
      },
      "execution_count": null,
      "outputs": []
    },
    {
      "cell_type": "code",
      "source": [],
      "metadata": {
        "id": "3XYllca8AGpq"
      },
      "execution_count": null,
      "outputs": []
    },
    {
      "cell_type": "code",
      "source": [],
      "metadata": {
        "id": "H9Dh7MLeAGr8"
      },
      "execution_count": null,
      "outputs": []
    },
    {
      "cell_type": "code",
      "source": [],
      "metadata": {
        "id": "ObetkwWcAGwT"
      },
      "execution_count": null,
      "outputs": []
    },
    {
      "cell_type": "code",
      "source": [],
      "metadata": {
        "id": "9xpRtnuAAGyu"
      },
      "execution_count": null,
      "outputs": []
    },
    {
      "cell_type": "code",
      "source": [],
      "metadata": {
        "id": "FptYxaR-AG0m"
      },
      "execution_count": null,
      "outputs": []
    },
    {
      "cell_type": "markdown",
      "source": [
        "## Solution:\n",
        "\n"
      ],
      "metadata": {
        "id": "qgtXjsI8AIT1"
      }
    },
    {
      "cell_type": "code",
      "source": [
        "def divide_numbers(x, y):\n",
        "    try:\n",
        "        result = x / y\n",
        "        print(\"Result:\", result)\n",
        "    except ZeroDivisionError:\n",
        "        print(\"The division by zero operation is not allowed.\")\n",
        "# Usage\n",
        "numerator = 100\n",
        "denominator = 0\n",
        "divide_numbers(numerator, denominator)"
      ],
      "metadata": {
        "colab": {
          "base_uri": "https://localhost:8080/"
        },
        "id": "fG89txNwAOz6",
        "outputId": "163fd909-ef8e-48d4-a74d-0bc2d1d4dd86"
      },
      "execution_count": null,
      "outputs": [
        {
          "output_type": "stream",
          "name": "stdout",
          "text": [
            "The division by zero operation is not allowed.\n"
          ]
        }
      ]
    },
    {
      "cell_type": "code",
      "source": [
        "def open_file(filename):\n",
        "    try:\n",
        "        file = open(filename, 'r')\n",
        "        contents = file.read()\n",
        "        print(\"File contents:\")\n",
        "        print(contents)\n",
        "        file.close()\n",
        "    except FileNotFoundError:\n",
        "        print(\"Error: File not found.\")\n",
        "# Usage\n",
        "file_name = input(\"Input a file name: \")\n",
        "open_file(file_name)"
      ],
      "metadata": {
        "colab": {
          "base_uri": "https://localhost:8080/"
        },
        "id": "wl9CecLVAW8l",
        "outputId": "cd3df303-152c-4111-e165-ac5f37ce4c7e"
      },
      "execution_count": null,
      "outputs": [
        {
          "output_type": "stream",
          "name": "stdout",
          "text": [
            "Input a file name: hello.txt\n",
            "Error: File not found.\n"
          ]
        }
      ]
    },
    {
      "cell_type": "code",
      "source": [
        "def get_integer_input(prompt):\n",
        "        try:\n",
        "            value = int(input(prompt))\n",
        "            return value\n",
        "        except ValueError:\n",
        "            print(\"Error: Invalid input, input a valid integer.\")\n",
        "# Usage\n",
        "n = get_integer_input(\"Input an integer: \")\n",
        "print(\"Input value:\", n)"
      ],
      "metadata": {
        "colab": {
          "base_uri": "https://localhost:8080/"
        },
        "id": "l7RciZr1AeDG",
        "outputId": "37db15ab-eabd-4ba1-b21e-c106e8cc0e8a"
      },
      "execution_count": null,
      "outputs": [
        {
          "output_type": "stream",
          "name": "stdout",
          "text": [
            "Input an integer: a\n",
            "Error: Invalid input, input a valid integer.\n",
            "Input value: None\n"
          ]
        }
      ]
    },
    {
      "cell_type": "code",
      "source": [
        "def get_numeric_input(prompt):\n",
        "    while True:\n",
        "        try:\n",
        "            value = float(input(prompt))\n",
        "            return value\n",
        "        except ValueError:\n",
        "            print(\"Error: Invalid input. Please Input a valid number.\")\n",
        "# Usage\n",
        "n1 = get_numeric_input(\"Input the first number: \")\n",
        "n2 = get_numeric_input(\"Input the second number: \")\n",
        "result = n1 * n2\n",
        "print(\"Product of the said two numbers:\", result)"
      ],
      "metadata": {
        "colab": {
          "base_uri": "https://localhost:8080/"
        },
        "id": "0PtXHhdWAo5C",
        "outputId": "3872acb7-b887-41ea-b4e5-2e73ad805df1"
      },
      "execution_count": null,
      "outputs": [
        {
          "output_type": "stream",
          "name": "stdout",
          "text": [
            "Input the first number: 2\n",
            "Input the second number: 2\n",
            "Product of the said two numbers: 4.0\n"
          ]
        }
      ]
    },
    {
      "cell_type": "code",
      "source": [],
      "metadata": {
        "id": "cJ2bQo8MAzPA"
      },
      "execution_count": null,
      "outputs": []
    }
  ]
}