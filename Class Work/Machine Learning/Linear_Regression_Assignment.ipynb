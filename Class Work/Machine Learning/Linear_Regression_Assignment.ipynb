{
 "cells": [
  {
   "cell_type": "markdown",
   "id": "fcc9f33c",
   "metadata": {},
   "source": [
    "\n",
    "## 5. Assignment  \n",
    "\n",
    "📌 **Assignment:**  \n",
    "\n",
    "- Use the **Boston Housing Dataset** (or California Housing if Boston is unavailable in sklearn).  \n",
    "- Build a **Multiple Linear Regression model** to predict **house prices** using available features (like number of rooms, crime rate, etc.).  \n",
    "- Evaluate your model using **MSE**.  \n",
    "- Interpret results:  \n",
    "  - Which features influence housing prices the most?  \n",
    "  - Was the MSE low or high? What does it mean for your model?  \n",
    "\n"
   ]
  }
 ],
 "metadata": {
  "language_info": {
   "name": "python"
  }
 },
 "nbformat": 4,
 "nbformat_minor": 5
}
