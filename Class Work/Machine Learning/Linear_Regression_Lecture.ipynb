{
  "nbformat": 4,
  "nbformat_minor": 5,
  "metadata": {
    "colab": {
      "provenance": []
    },
    "language_info": {
      "name": "python"
    },
    "kernelspec": {
      "name": "python3",
      "display_name": "Python 3"
    }
  },
  "cells": [
    {
      "id": "0a961535",
      "cell_type": "markdown",
      "source": [
        "# 📘 Lecture: Linear Regression"
      ],
      "metadata": {
        "id": "0a961535"
      }
    },
    {
      "id": "22b2c64c",
      "cell_type": "markdown",
      "source": [
        "\n",
        "## 1. Introduction  \n",
        "\n",
        "**Linear Regression** is one of the simplest and most widely used **supervised machine learning algorithms**.  \n",
        "\n",
        "It helps us understand the relationship between **input features (independent variables)** and a **continuous target variable (dependent variable)**.  \n",
        "\n",
        "### 🌍 Real-World Applications  \n",
        "- Predicting **house prices** based on area, location, and number of rooms.  \n",
        "- Estimating **sales** based on advertising budget.  \n",
        "- Forecasting **stock prices** or product demand.  \n"
      ],
      "metadata": {
        "id": "22b2c64c"
      }
    },
    {
      "id": "78e769f5",
      "cell_type": "markdown",
      "source": [
        "\n",
        "## 2. Theoretical Concepts  \n",
        "\n",
        "### 2.1 What is Regression?  \n",
        "Regression is a method used to **model the relationship** between a **dependent variable (Y)** and one or more **independent variables (X)**.  \n",
        "\n",
        "👉 **Linear Regression assumes this relationship is linear.**  \n"
      ],
      "metadata": {
        "id": "78e769f5"
      }
    },
    {
      "id": "541a16e1",
      "cell_type": "markdown",
      "source": [
        "\n",
        "### 2.2 Types of Linear Regression  \n",
        "\n",
        "#### 🔹 Simple Linear Regression  \n",
        "- Uses **one independent variable**.  \n",
        "- **Equation:**  \n",
        "\n",
        "\\[\n",
        "Y = \\beta_0 + \\beta_1 X + \\epsilon\n",
        "\\]  \n",
        "\n",
        "Where:  \n",
        "- \\( Y \\) = dependent variable  \n",
        "- \\( X \\) = independent variable  \n",
        "- \\( \\beta_0 \\) = intercept  \n",
        "- \\( \\beta_1 \\) = slope  \n",
        "- \\( \\epsilon \\) = error term  \n",
        "\n",
        "---\n",
        "\n",
        "#### 🔹 Multiple Linear Regression  \n",
        "- Uses **two or more independent variables**.  \n",
        "- **Equation:**  \n",
        "\n",
        "\\[\n",
        "Y = \\beta_0 + \\beta_1 X_1 + \\beta_2 X_2 + \\dots + \\beta_n X_n + \\epsilon\n",
        "\\]  \n"
      ],
      "metadata": {
        "id": "541a16e1"
      }
    },
    {
      "id": "313c5e83",
      "cell_type": "markdown",
      "source": [
        "\n",
        "### 2.3 Cost Function (Error Measurement)  \n",
        "\n",
        "To find the **best fit line**, we measure how far predictions are from actual values.  \n",
        "The most common cost function is **Mean Squared Error (MSE):**  \n",
        "\n",
        "\\[\n",
        "MSE = \\frac{1}{n} \\sum_{i=1}^{n} (y_i - \\hat{y_i})^2\n",
        "\\]  \n",
        "\n",
        "- \\( y_i \\) = actual values  \n",
        "- \\( \\hat{y_i} \\) = predicted values  \n",
        "- \\( n \\) = number of observations  \n",
        "\n",
        "👉 **Purpose of MSE:**  \n",
        "- It measures the **average squared error** between predictions and actual values.  \n",
        "- **Lower MSE = better model.**  \n",
        "- Squaring ensures no negative errors and penalizes large mistakes more.  \n"
      ],
      "metadata": {
        "id": "313c5e83"
      }
    },
    {
      "id": "6bc7cf37",
      "cell_type": "markdown",
      "source": [
        "\n",
        "### 2.4 Assumptions of Linear Regression  \n",
        "\n",
        "For Linear Regression to work properly:  \n",
        "1. **Linearity** – Relationship between X and Y is linear.  \n",
        "2. **Homoscedasticity** – Constant variance of errors.  \n",
        "3. **Independence** – Errors are independent of each other.  \n",
        "4. **Normality** – Errors follow a normal distribution.  \n",
        "5. **No Multicollinearity** – Independent variables should not be highly correlated (for multiple regression).  \n"
      ],
      "metadata": {
        "id": "6bc7cf37"
      }
    },
    {
      "id": "a75b8330",
      "cell_type": "markdown",
      "source": [
        "## 3. Practical Implementation (Python)"
      ],
      "metadata": {
        "id": "a75b8330"
      }
    },
    {
      "id": "509d7d9d",
      "cell_type": "code",
      "metadata": {
        "colab": {
          "base_uri": "https://localhost:8080/",
          "height": 206
        },
        "id": "509d7d9d",
        "outputId": "9f96645a-851a-4e3c-e667-98041086e58d"
      },
      "execution_count": null,
      "source": [
        "\n",
        "# Step 1: Import libraries\n",
        "import pandas as pd\n",
        "import numpy as np\n",
        "import matplotlib.pyplot as plt\n",
        "import seaborn as sns\n",
        "from sklearn.model_selection import train_test_split\n",
        "from sklearn.linear_model import LinearRegression\n",
        "from sklearn.metrics import mean_squared_error\n",
        "\n",
        "# Step 2: Load dataset (Advertising dataset)\n",
        "url = \"https://raw.githubusercontent.com/selva86/datasets/master/Advertising.csv\"\n",
        "data = pd.read_csv(url)\n",
        "data.head()\n"
      ],
      "outputs": [
        {
          "output_type": "execute_result",
          "data": {
            "text/plain": [
              "   Unnamed: 0     TV  radio  newspaper  sales\n",
              "0           1  230.1   37.8       69.2   22.1\n",
              "1           2   44.5   39.3       45.1   10.4\n",
              "2           3   17.2   45.9       69.3    9.3\n",
              "3           4  151.5   41.3       58.5   18.5\n",
              "4           5  180.8   10.8       58.4   12.9"
            ],
            "text/html": [
              "\n",
              "  <div id=\"df-c45f642a-395e-436a-9eff-810fbfdc2657\" class=\"colab-df-container\">\n",
              "    <div>\n",
              "<style scoped>\n",
              "    .dataframe tbody tr th:only-of-type {\n",
              "        vertical-align: middle;\n",
              "    }\n",
              "\n",
              "    .dataframe tbody tr th {\n",
              "        vertical-align: top;\n",
              "    }\n",
              "\n",
              "    .dataframe thead th {\n",
              "        text-align: right;\n",
              "    }\n",
              "</style>\n",
              "<table border=\"1\" class=\"dataframe\">\n",
              "  <thead>\n",
              "    <tr style=\"text-align: right;\">\n",
              "      <th></th>\n",
              "      <th>Unnamed: 0</th>\n",
              "      <th>TV</th>\n",
              "      <th>radio</th>\n",
              "      <th>newspaper</th>\n",
              "      <th>sales</th>\n",
              "    </tr>\n",
              "  </thead>\n",
              "  <tbody>\n",
              "    <tr>\n",
              "      <th>0</th>\n",
              "      <td>1</td>\n",
              "      <td>230.1</td>\n",
              "      <td>37.8</td>\n",
              "      <td>69.2</td>\n",
              "      <td>22.1</td>\n",
              "    </tr>\n",
              "    <tr>\n",
              "      <th>1</th>\n",
              "      <td>2</td>\n",
              "      <td>44.5</td>\n",
              "      <td>39.3</td>\n",
              "      <td>45.1</td>\n",
              "      <td>10.4</td>\n",
              "    </tr>\n",
              "    <tr>\n",
              "      <th>2</th>\n",
              "      <td>3</td>\n",
              "      <td>17.2</td>\n",
              "      <td>45.9</td>\n",
              "      <td>69.3</td>\n",
              "      <td>9.3</td>\n",
              "    </tr>\n",
              "    <tr>\n",
              "      <th>3</th>\n",
              "      <td>4</td>\n",
              "      <td>151.5</td>\n",
              "      <td>41.3</td>\n",
              "      <td>58.5</td>\n",
              "      <td>18.5</td>\n",
              "    </tr>\n",
              "    <tr>\n",
              "      <th>4</th>\n",
              "      <td>5</td>\n",
              "      <td>180.8</td>\n",
              "      <td>10.8</td>\n",
              "      <td>58.4</td>\n",
              "      <td>12.9</td>\n",
              "    </tr>\n",
              "  </tbody>\n",
              "</table>\n",
              "</div>\n",
              "    <div class=\"colab-df-buttons\">\n",
              "\n",
              "  <div class=\"colab-df-container\">\n",
              "    <button class=\"colab-df-convert\" onclick=\"convertToInteractive('df-c45f642a-395e-436a-9eff-810fbfdc2657')\"\n",
              "            title=\"Convert this dataframe to an interactive table.\"\n",
              "            style=\"display:none;\">\n",
              "\n",
              "  <svg xmlns=\"http://www.w3.org/2000/svg\" height=\"24px\" viewBox=\"0 -960 960 960\">\n",
              "    <path d=\"M120-120v-720h720v720H120Zm60-500h600v-160H180v160Zm220 220h160v-160H400v160Zm0 220h160v-160H400v160ZM180-400h160v-160H180v160Zm440 0h160v-160H620v160ZM180-180h160v-160H180v160Zm440 0h160v-160H620v160Z\"/>\n",
              "  </svg>\n",
              "    </button>\n",
              "\n",
              "  <style>\n",
              "    .colab-df-container {\n",
              "      display:flex;\n",
              "      gap: 12px;\n",
              "    }\n",
              "\n",
              "    .colab-df-convert {\n",
              "      background-color: #E8F0FE;\n",
              "      border: none;\n",
              "      border-radius: 50%;\n",
              "      cursor: pointer;\n",
              "      display: none;\n",
              "      fill: #1967D2;\n",
              "      height: 32px;\n",
              "      padding: 0 0 0 0;\n",
              "      width: 32px;\n",
              "    }\n",
              "\n",
              "    .colab-df-convert:hover {\n",
              "      background-color: #E2EBFA;\n",
              "      box-shadow: 0px 1px 2px rgba(60, 64, 67, 0.3), 0px 1px 3px 1px rgba(60, 64, 67, 0.15);\n",
              "      fill: #174EA6;\n",
              "    }\n",
              "\n",
              "    .colab-df-buttons div {\n",
              "      margin-bottom: 4px;\n",
              "    }\n",
              "\n",
              "    [theme=dark] .colab-df-convert {\n",
              "      background-color: #3B4455;\n",
              "      fill: #D2E3FC;\n",
              "    }\n",
              "\n",
              "    [theme=dark] .colab-df-convert:hover {\n",
              "      background-color: #434B5C;\n",
              "      box-shadow: 0px 1px 3px 1px rgba(0, 0, 0, 0.15);\n",
              "      filter: drop-shadow(0px 1px 2px rgba(0, 0, 0, 0.3));\n",
              "      fill: #FFFFFF;\n",
              "    }\n",
              "  </style>\n",
              "\n",
              "    <script>\n",
              "      const buttonEl =\n",
              "        document.querySelector('#df-c45f642a-395e-436a-9eff-810fbfdc2657 button.colab-df-convert');\n",
              "      buttonEl.style.display =\n",
              "        google.colab.kernel.accessAllowed ? 'block' : 'none';\n",
              "\n",
              "      async function convertToInteractive(key) {\n",
              "        const element = document.querySelector('#df-c45f642a-395e-436a-9eff-810fbfdc2657');\n",
              "        const dataTable =\n",
              "          await google.colab.kernel.invokeFunction('convertToInteractive',\n",
              "                                                    [key], {});\n",
              "        if (!dataTable) return;\n",
              "\n",
              "        const docLinkHtml = 'Like what you see? Visit the ' +\n",
              "          '<a target=\"_blank\" href=https://colab.research.google.com/notebooks/data_table.ipynb>data table notebook</a>'\n",
              "          + ' to learn more about interactive tables.';\n",
              "        element.innerHTML = '';\n",
              "        dataTable['output_type'] = 'display_data';\n",
              "        await google.colab.output.renderOutput(dataTable, element);\n",
              "        const docLink = document.createElement('div');\n",
              "        docLink.innerHTML = docLinkHtml;\n",
              "        element.appendChild(docLink);\n",
              "      }\n",
              "    </script>\n",
              "  </div>\n",
              "\n",
              "\n",
              "    <div id=\"df-733c04f3-4fba-4ba7-8391-556c6ff15706\">\n",
              "      <button class=\"colab-df-quickchart\" onclick=\"quickchart('df-733c04f3-4fba-4ba7-8391-556c6ff15706')\"\n",
              "                title=\"Suggest charts\"\n",
              "                style=\"display:none;\">\n",
              "\n",
              "<svg xmlns=\"http://www.w3.org/2000/svg\" height=\"24px\"viewBox=\"0 0 24 24\"\n",
              "     width=\"24px\">\n",
              "    <g>\n",
              "        <path d=\"M19 3H5c-1.1 0-2 .9-2 2v14c0 1.1.9 2 2 2h14c1.1 0 2-.9 2-2V5c0-1.1-.9-2-2-2zM9 17H7v-7h2v7zm4 0h-2V7h2v10zm4 0h-2v-4h2v4z\"/>\n",
              "    </g>\n",
              "</svg>\n",
              "      </button>\n",
              "\n",
              "<style>\n",
              "  .colab-df-quickchart {\n",
              "      --bg-color: #E8F0FE;\n",
              "      --fill-color: #1967D2;\n",
              "      --hover-bg-color: #E2EBFA;\n",
              "      --hover-fill-color: #174EA6;\n",
              "      --disabled-fill-color: #AAA;\n",
              "      --disabled-bg-color: #DDD;\n",
              "  }\n",
              "\n",
              "  [theme=dark] .colab-df-quickchart {\n",
              "      --bg-color: #3B4455;\n",
              "      --fill-color: #D2E3FC;\n",
              "      --hover-bg-color: #434B5C;\n",
              "      --hover-fill-color: #FFFFFF;\n",
              "      --disabled-bg-color: #3B4455;\n",
              "      --disabled-fill-color: #666;\n",
              "  }\n",
              "\n",
              "  .colab-df-quickchart {\n",
              "    background-color: var(--bg-color);\n",
              "    border: none;\n",
              "    border-radius: 50%;\n",
              "    cursor: pointer;\n",
              "    display: none;\n",
              "    fill: var(--fill-color);\n",
              "    height: 32px;\n",
              "    padding: 0;\n",
              "    width: 32px;\n",
              "  }\n",
              "\n",
              "  .colab-df-quickchart:hover {\n",
              "    background-color: var(--hover-bg-color);\n",
              "    box-shadow: 0 1px 2px rgba(60, 64, 67, 0.3), 0 1px 3px 1px rgba(60, 64, 67, 0.15);\n",
              "    fill: var(--button-hover-fill-color);\n",
              "  }\n",
              "\n",
              "  .colab-df-quickchart-complete:disabled,\n",
              "  .colab-df-quickchart-complete:disabled:hover {\n",
              "    background-color: var(--disabled-bg-color);\n",
              "    fill: var(--disabled-fill-color);\n",
              "    box-shadow: none;\n",
              "  }\n",
              "\n",
              "  .colab-df-spinner {\n",
              "    border: 2px solid var(--fill-color);\n",
              "    border-color: transparent;\n",
              "    border-bottom-color: var(--fill-color);\n",
              "    animation:\n",
              "      spin 1s steps(1) infinite;\n",
              "  }\n",
              "\n",
              "  @keyframes spin {\n",
              "    0% {\n",
              "      border-color: transparent;\n",
              "      border-bottom-color: var(--fill-color);\n",
              "      border-left-color: var(--fill-color);\n",
              "    }\n",
              "    20% {\n",
              "      border-color: transparent;\n",
              "      border-left-color: var(--fill-color);\n",
              "      border-top-color: var(--fill-color);\n",
              "    }\n",
              "    30% {\n",
              "      border-color: transparent;\n",
              "      border-left-color: var(--fill-color);\n",
              "      border-top-color: var(--fill-color);\n",
              "      border-right-color: var(--fill-color);\n",
              "    }\n",
              "    40% {\n",
              "      border-color: transparent;\n",
              "      border-right-color: var(--fill-color);\n",
              "      border-top-color: var(--fill-color);\n",
              "    }\n",
              "    60% {\n",
              "      border-color: transparent;\n",
              "      border-right-color: var(--fill-color);\n",
              "    }\n",
              "    80% {\n",
              "      border-color: transparent;\n",
              "      border-right-color: var(--fill-color);\n",
              "      border-bottom-color: var(--fill-color);\n",
              "    }\n",
              "    90% {\n",
              "      border-color: transparent;\n",
              "      border-bottom-color: var(--fill-color);\n",
              "    }\n",
              "  }\n",
              "</style>\n",
              "\n",
              "      <script>\n",
              "        async function quickchart(key) {\n",
              "          const quickchartButtonEl =\n",
              "            document.querySelector('#' + key + ' button');\n",
              "          quickchartButtonEl.disabled = true;  // To prevent multiple clicks.\n",
              "          quickchartButtonEl.classList.add('colab-df-spinner');\n",
              "          try {\n",
              "            const charts = await google.colab.kernel.invokeFunction(\n",
              "                'suggestCharts', [key], {});\n",
              "          } catch (error) {\n",
              "            console.error('Error during call to suggestCharts:', error);\n",
              "          }\n",
              "          quickchartButtonEl.classList.remove('colab-df-spinner');\n",
              "          quickchartButtonEl.classList.add('colab-df-quickchart-complete');\n",
              "        }\n",
              "        (() => {\n",
              "          let quickchartButtonEl =\n",
              "            document.querySelector('#df-733c04f3-4fba-4ba7-8391-556c6ff15706 button');\n",
              "          quickchartButtonEl.style.display =\n",
              "            google.colab.kernel.accessAllowed ? 'block' : 'none';\n",
              "        })();\n",
              "      </script>\n",
              "    </div>\n",
              "\n",
              "    </div>\n",
              "  </div>\n"
            ],
            "application/vnd.google.colaboratory.intrinsic+json": {
              "type": "dataframe",
              "variable_name": "data",
              "summary": "{\n  \"name\": \"data\",\n  \"rows\": 200,\n  \"fields\": [\n    {\n      \"column\": \"Unnamed: 0\",\n      \"properties\": {\n        \"dtype\": \"number\",\n        \"std\": 57,\n        \"min\": 1,\n        \"max\": 200,\n        \"num_unique_values\": 200,\n        \"samples\": [\n          96,\n          16,\n          31\n        ],\n        \"semantic_type\": \"\",\n        \"description\": \"\"\n      }\n    },\n    {\n      \"column\": \"TV\",\n      \"properties\": {\n        \"dtype\": \"number\",\n        \"std\": 85.8542363149081,\n        \"min\": 0.7,\n        \"max\": 296.4,\n        \"num_unique_values\": 190,\n        \"samples\": [\n          287.6,\n          286.0,\n          78.2\n        ],\n        \"semantic_type\": \"\",\n        \"description\": \"\"\n      }\n    },\n    {\n      \"column\": \"radio\",\n      \"properties\": {\n        \"dtype\": \"number\",\n        \"std\": 14.846809176168723,\n        \"min\": 0.0,\n        \"max\": 49.6,\n        \"num_unique_values\": 167,\n        \"samples\": [\n          8.2,\n          36.9,\n          44.5\n        ],\n        \"semantic_type\": \"\",\n        \"description\": \"\"\n      }\n    },\n    {\n      \"column\": \"newspaper\",\n      \"properties\": {\n        \"dtype\": \"number\",\n        \"std\": 21.778620838522833,\n        \"min\": 0.3,\n        \"max\": 114.0,\n        \"num_unique_values\": 172,\n        \"samples\": [\n          22.3,\n          5.7,\n          17.0\n        ],\n        \"semantic_type\": \"\",\n        \"description\": \"\"\n      }\n    },\n    {\n      \"column\": \"sales\",\n      \"properties\": {\n        \"dtype\": \"number\",\n        \"std\": 5.217456565710477,\n        \"min\": 1.6,\n        \"max\": 27.0,\n        \"num_unique_values\": 121,\n        \"samples\": [\n          11.4,\n          21.2,\n          12.9\n        ],\n        \"semantic_type\": \"\",\n        \"description\": \"\"\n      }\n    }\n  ]\n}"
            }
          },
          "metadata": {},
          "execution_count": 1
        }
      ]
    },
    {
      "id": "6d838bc1",
      "cell_type": "code",
      "metadata": {
        "colab": {
          "base_uri": "https://localhost:8080/"
        },
        "id": "6d838bc1",
        "outputId": "aa690be1-832f-4c63-ac5f-2ed7e696d35f"
      },
      "execution_count": null,
      "source": [
        "\n",
        "# Step 3: Define features (X) and target (y)\n",
        "X = data[['TV']]       # independent variable\n",
        "y = data['sales']      # dependent variable\n",
        "\n",
        "# Step 4: Split into train/test sets\n",
        "X_train, X_test, y_train, y_test = train_test_split(X, y, test_size=0.2, random_state=42)\n",
        "\n",
        "# Step 5: Train model\n",
        "model = LinearRegression()\n",
        "model.fit(X_train, y_train)\n",
        "\n",
        "# Step 6: Make predictions\n",
        "y_pred = model.predict(X_test)\n",
        "\n",
        "# Step 7: Evaluate model using MSE\n",
        "mse = mean_squared_error(y_test, y_pred)\n",
        "print(\"Mean Squared Error:\", mse)\n"
      ],
      "outputs": [
        {
          "output_type": "stream",
          "name": "stdout",
          "text": [
            "Mean Squared Error: 10.204654118800956\n"
          ]
        }
      ]
    },
    {
      "cell_type": "code",
      "source": [
        "model.predict(X_test)"
      ],
      "metadata": {
        "colab": {
          "base_uri": "https://localhost:8080/"
        },
        "id": "1LF1PYTVBlzN",
        "outputId": "c215561a-cffc-45aa-f65c-618415df1f1a"
      },
      "id": "1LF1PYTVBlzN",
      "execution_count": null,
      "outputs": [
        {
          "output_type": "execute_result",
          "data": {
            "text/plain": [
              "array([14.71794394, 16.2115484 , 20.74819743,  7.66403631, 17.37013877,\n",
              "       10.61402143, 17.2072847 ,  9.44612512, 17.46785121, 15.2669948 ,\n",
              "        8.58532504,  9.73460946, 18.03086098,  7.37089899, 13.61053628,\n",
              "       15.03899911,  7.45930549, 16.31391381, 10.62332738, 18.16579721,\n",
              "       17.79821232, 10.27435438,  8.88776831, 18.79394862, 10.33019006,\n",
              "        9.60897918, 17.05373658, 13.60123034, 11.17703121,  7.51048819,\n",
              "       16.41627922, 10.339496  , 16.37440246,  7.90599093, 20.18053468,\n",
              "       18.203021  ,  9.36702457, 19.85482655, 12.57292322,  8.39920611])"
            ]
          },
          "metadata": {},
          "execution_count": 5
        }
      ]
    },
    {
      "cell_type": "code",
      "source": [
        "from sklearn.metrics import r2_score\n",
        "print('R2 Score:', r2_score(y_test, y_pred))"
      ],
      "metadata": {
        "colab": {
          "base_uri": "https://localhost:8080/"
        },
        "id": "8gLo1dlQCArh",
        "outputId": "7605888c-b0de-4e17-9c68-4ee4e029798f"
      },
      "id": "8gLo1dlQCArh",
      "execution_count": null,
      "outputs": [
        {
          "output_type": "stream",
          "name": "stdout",
          "text": [
            "R2 Score: 0.6766954295627076\n"
          ]
        }
      ]
    },
    {
      "id": "d9d4a13b",
      "cell_type": "code",
      "metadata": {
        "colab": {
          "base_uri": "https://localhost:8080/",
          "height": 449
        },
        "id": "d9d4a13b",
        "outputId": "0a23ddd6-5fce-4d86-e1e4-a050d86ec429"
      },
      "execution_count": null,
      "source": [
        "\n",
        "# Step 8: Visualization\n",
        "plt.scatter(X_test, y_test, color='blue', label=\"Actual\")\n",
        "plt.plot(X_test, y_pred, color='red', linewidth=2, label=\"Predicted\")\n",
        "plt.xlabel(\"TV Advertising Budget\")\n",
        "plt.ylabel(\"Sales\")\n",
        "plt.legend()\n",
        "plt.show()\n"
      ],
      "outputs": [
        {
          "output_type": "display_data",
          "data": {
            "text/plain": [
              "<Figure size 640x480 with 1 Axes>"
            ],
            "image/png": "[encoded data removed]"
          },
          "metadata": {}
        }
      ]
    },
    {
      "id": "ce0ec098",
      "cell_type": "markdown",
      "source": [
        "\n",
        "## 4. Student Tasks  \n",
        "\n",
        "1. Train a **Simple Linear Regression model** to predict **sales from Radio advertising budget**.  \n",
        "2. Extend it to a **Multiple Linear Regression** using **TV, Radio, and Newspaper advertising budgets** as predictors.  \n",
        "3. Compare **MSE values** of simple vs multiple regression. Which performs better?  \n"
      ],
      "metadata": {
        "id": "ce0ec098"
      }
    },
    {
      "id": "f42f4fb3",
      "cell_type": "markdown",
      "source": [
        "\n",
        "## 5. Assignment  \n",
        "\n",
        "📌 **Assignment:**  \n",
        "\n",
        "- Use the **Boston Housing Dataset** (or California Housing if Boston is unavailable in sklearn).  \n",
        "- Build a **Multiple Linear Regression model** to predict **house prices** using available features (like number of rooms, crime rate, etc.).  \n",
        "- Evaluate your model using **MSE**.  \n",
        "- Interpret results:  \n",
        "  - Which features influence housing prices the most?  \n",
        "  - Was the MSE low or high? What does it mean for your model?  \n"
      ],
      "metadata": {
        "id": "f42f4fb3"
      }
    },
    {
      "id": "f97065ed",
      "cell_type": "markdown",
      "source": [
        "\n",
        "## 6. Why & When to Use Linear Regression?  \n",
        "\n",
        "### ✅ Why we used Linear Regression in this lecture?  \n",
        "- It is **simple, intuitive, and easy to implement**.  \n",
        "- Provides a **baseline model** for regression problems.  \n",
        "- Helps us **understand relationships** between variables (e.g., how TV ads affect sales).  \n",
        "\n",
        "### ✅ When should we use Linear Regression?  \n",
        "- When the **dependent variable is continuous** (not categorical).  \n",
        "- When there is a **linear relationship** between input(s) and output.  \n",
        "- When you need a **quick, interpretable model**.  \n",
        "- For making **predictions** and **understanding feature importance**.  \n",
        "\n",
        "⚠️ Avoid Linear Regression if:  \n",
        "- The relationship is **non-linear**.  \n",
        "- Data has **a lot of outliers**.  \n",
        "- Features are highly **correlated** (multicollinearity).  \n"
      ],
      "metadata": {
        "id": "f97065ed"
      }
    }
  ]
}