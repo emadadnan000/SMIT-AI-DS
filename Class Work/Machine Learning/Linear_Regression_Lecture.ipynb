{
  "cells": [
    {
      "cell_type": "markdown",
      "id": "0a961535",
      "metadata": {
        "id": "0a961535"
      },
      "source": [
        "# 📘 Lecture: Linear Regression"
      ]
    },
    {
      "cell_type": "markdown",
      "id": "22b2c64c",
      "metadata": {
        "id": "22b2c64c"
      },
      "source": [
        "\n",
        "## 1. Introduction  \n",
        "\n",
        "**Linear Regression** is one of the simplest and most widely used **supervised machine learning algorithms**.  \n",
        "\n",
        "It helps us understand the relationship between **input features (independent variables)** and a **continuous target variable (dependent variable)**.  \n",
        "\n",
        "### 🌍 Real-World Applications  \n",
        "- Predicting **house prices** based on area, location, and number of rooms.  \n",
        "- Estimating **sales** based on advertising budget.  \n",
        "- Forecasting **stock prices** or product demand.  \n"
      ]
    },
    {
      "cell_type": "markdown",
      "id": "78e769f5",
      "metadata": {
        "id": "78e769f5"
      },
      "source": [
        "\n",
        "## 2. Theoretical Concepts  \n",
        "\n",
        "### 2.1 What is Regression?  \n",
        "Regression is a method used to **model the relationship** between a **dependent variable (Y)** and one or more **independent variables (X)**.  \n",
        "\n",
        "👉 **Linear Regression assumes this relationship is linear.**  \n"
      ]
    },
    {
      "cell_type": "markdown",
      "id": "541a16e1",
      "metadata": {
        "id": "541a16e1"
      },
      "source": [
        "\n",
        "### 2.2 Types of Linear Regression  \n",
        "\n",
        "#### 🔹 Simple Linear Regression  \n",
        "- Uses **one independent variable**.  \n",
        "- **Equation:**  \n",
        "\n",
        "\\[\n",
        "Y = \\beta_0 + \\beta_1 X + \\epsilon\n",
        "\\]  \n",
        "\n",
        "Where:  \n",
        "- \\( Y \\) = dependent variable  \n",
        "- \\( X \\) = independent variable  \n",
        "- \\( \\beta_0 \\) = intercept  \n",
        "- \\( \\beta_1 \\) = slope  \n",
        "- \\( \\epsilon \\) = error term  \n",
        "\n",
        "---\n",
        "\n",
        "#### 🔹 Multiple Linear Regression  \n",
        "- Uses **two or more independent variables**.  \n",
        "- **Equation:**  \n",
        "\n",
        "\\[\n",
        "Y = \\beta_0 + \\beta_1 X_1 + \\beta_2 X_2 + \\dots + \\beta_n X_n + \\epsilon\n",
        "\\]  \n"
      ]
    },
    {
      "cell_type": "markdown",
      "id": "313c5e83",
      "metadata": {
        "id": "313c5e83"
      },
      "source": [
        "\n",
        "### 2.3 Cost Function (Error Measurement)  \n",
        "\n",
        "To find the **best fit line**, we measure how far predictions are from actual values.  \n",
        "The most common cost function is **Mean Squared Error (MSE):**  \n",
        "\n",
        "\\[\n",
        "MSE = \\frac{1}{n} \\sum_{i=1}^{n} (y_i - \\hat{y_i})^2\n",
        "\\]  \n",
        "\n",
        "- \\( y_i \\) = actual values  \n",
        "- \\( \\hat{y_i} \\) = predicted values  \n",
        "- \\( n \\) = number of observations  \n",
        "\n",
        "👉 **Purpose of MSE:**  \n",
        "- It measures the **average squared error** between predictions and actual values.  \n",
        "- **Lower MSE = better model.**  \n",
        "- Squaring ensures no negative errors and penalizes large mistakes more.  \n"
      ]
    },
    {
      "cell_type": "markdown",
      "id": "6bc7cf37",
      "metadata": {
        "id": "6bc7cf37"
      },
      "source": [
        "\n",
        "### 2.4 Assumptions of Linear Regression  \n",
        "\n",
        "For Linear Regression to work properly:  \n",
        "1. **Linearity** – Relationship between X and Y is linear.  \n",
        "2. **Homoscedasticity** – Constant variance of errors.  \n",
        "3. **Independence** – Errors are independent of each other.  \n",
        "4. **Normality** – Errors follow a normal distribution.  \n",
        "5. **No Multicollinearity** – Independent variables should not be highly correlated (for multiple regression).  \n"
      ]
    },
    {
      "cell_type": "markdown",
      "id": "a75b8330",
      "metadata": {
        "id": "a75b8330"
      },
      "source": [
        "## 3. Practical Implementation (Python)"
      ]
    },
    {
      "cell_type": "code",
      "execution_count": 1,
      "id": "509d7d9d",
      "metadata": {
        "colab": {
          "base_uri": "https://localhost:8080/",
          "height": 206
        },
        "id": "509d7d9d",
        "outputId": "9f96645a-851a-4e3c-e667-98041086e58d"
      },
      "outputs": [
        {
          "data": {
            "text/html": [
              "<div>\n",
              "<style scoped>\n",
              "    .dataframe tbody tr th:only-of-type {\n",
              "        vertical-align: middle;\n",
              "    }\n",
              "\n",
              "    .dataframe tbody tr th {\n",
              "        vertical-align: top;\n",
              "    }\n",
              "\n",
              "    .dataframe thead th {\n",
              "        text-align: right;\n",
              "    }\n",
              "</style>\n",
              "<table border=\"1\" class=\"dataframe\">\n",
              "  <thead>\n",
              "    <tr style=\"text-align: right;\">\n",
              "      <th></th>\n",
              "      <th>Unnamed: 0</th>\n",
              "      <th>TV</th>\n",
              "      <th>radio</th>\n",
              "      <th>newspaper</th>\n",
              "      <th>sales</th>\n",
              "    </tr>\n",
              "  </thead>\n",
              "  <tbody>\n",
              "    <tr>\n",
              "      <th>0</th>\n",
              "      <td>1</td>\n",
              "      <td>230.1</td>\n",
              "      <td>37.8</td>\n",
              "      <td>69.2</td>\n",
              "      <td>22.1</td>\n",
              "    </tr>\n",
              "    <tr>\n",
              "      <th>1</th>\n",
              "      <td>2</td>\n",
              "      <td>44.5</td>\n",
              "      <td>39.3</td>\n",
              "      <td>45.1</td>\n",
              "      <td>10.4</td>\n",
              "    </tr>\n",
              "    <tr>\n",
              "      <th>2</th>\n",
              "      <td>3</td>\n",
              "      <td>17.2</td>\n",
              "      <td>45.9</td>\n",
              "      <td>69.3</td>\n",
              "      <td>9.3</td>\n",
              "    </tr>\n",
              "    <tr>\n",
              "      <th>3</th>\n",
              "      <td>4</td>\n",
              "      <td>151.5</td>\n",
              "      <td>41.3</td>\n",
              "      <td>58.5</td>\n",
              "      <td>18.5</td>\n",
              "    </tr>\n",
              "    <tr>\n",
              "      <th>4</th>\n",
              "      <td>5</td>\n",
              "      <td>180.8</td>\n",
              "      <td>10.8</td>\n",
              "      <td>58.4</td>\n",
              "      <td>12.9</td>\n",
              "    </tr>\n",
              "  </tbody>\n",
              "</table>\n",
              "</div>"
            ],
            "text/plain": [
              "   Unnamed: 0     TV  radio  newspaper  sales\n",
              "0           1  230.1   37.8       69.2   22.1\n",
              "1           2   44.5   39.3       45.1   10.4\n",
              "2           3   17.2   45.9       69.3    9.3\n",
              "3           4  151.5   41.3       58.5   18.5\n",
              "4           5  180.8   10.8       58.4   12.9"
            ]
          },
          "execution_count": 1,
          "metadata": {},
          "output_type": "execute_result"
        }
      ],
      "source": [
        "\n",
        "# Step 1: Import libraries\n",
        "import pandas as pd\n",
        "import numpy as np\n",
        "import matplotlib.pyplot as plt\n",
        "import seaborn as sns\n",
        "from sklearn.model_selection import train_test_split\n",
        "from sklearn.linear_model import LinearRegression\n",
        "from sklearn.metrics import mean_squared_error\n",
        "\n",
        "# Step 2: Load dataset (Advertising dataset)\n",
        "url = \"https://raw.githubusercontent.com/selva86/datasets/master/Advertising.csv\"\n",
        "data = pd.read_csv(url)\n",
        "data.head()\n"
      ]
    },
    {
      "cell_type": "code",
      "execution_count": 2,
      "id": "6d838bc1",
      "metadata": {
        "colab": {
          "base_uri": "https://localhost:8080/"
        },
        "id": "6d838bc1",
        "outputId": "aa690be1-832f-4c63-ac5f-2ed7e696d35f"
      },
      "outputs": [
        {
          "name": "stdout",
          "output_type": "stream",
          "text": [
            "Mean Squared Error: 10.204654118800956\n"
          ]
        }
      ],
      "source": [
        "\n",
        "# Step 3: Define features (X) and target (y)\n",
        "X = data[['TV']]       # independent variable\n",
        "y = data['sales']      # dependent variable\n",
        "\n",
        "# Step 4: Split into train/test sets\n",
        "X_train, X_test, y_train, y_test = train_test_split(X, y, test_size=0.2, random_state=42)\n",
        "\n",
        "# Step 5: Train model\n",
        "model = LinearRegression()\n",
        "model.fit(X_train, y_train)\n",
        "\n",
        "# Step 6: Make predictions\n",
        "y_pred = model.predict(X_test)\n",
        "\n",
        "# Step 7: Evaluate model using MSE\n",
        "mse = mean_squared_error(y_test, y_pred)\n",
        "print(\"Mean Squared Error:\", mse)\n"
      ]
    },
    {
      "cell_type": "code",
      "execution_count": 3,
      "id": "1LF1PYTVBlzN",
      "metadata": {
        "colab": {
          "base_uri": "https://localhost:8080/"
        },
        "id": "1LF1PYTVBlzN",
        "outputId": "c215561a-cffc-45aa-f65c-618415df1f1a"
      },
      "outputs": [
        {
          "data": {
            "text/plain": [
              "array([14.71794394, 16.2115484 , 20.74819743,  7.66403631, 17.37013877,\n",
              "       10.61402143, 17.2072847 ,  9.44612512, 17.46785121, 15.2669948 ,\n",
              "        8.58532504,  9.73460946, 18.03086098,  7.37089899, 13.61053628,\n",
              "       15.03899911,  7.45930549, 16.31391381, 10.62332738, 18.16579721,\n",
              "       17.79821232, 10.27435438,  8.88776831, 18.79394862, 10.33019006,\n",
              "        9.60897918, 17.05373658, 13.60123034, 11.17703121,  7.51048819,\n",
              "       16.41627922, 10.339496  , 16.37440246,  7.90599093, 20.18053468,\n",
              "       18.203021  ,  9.36702457, 19.85482655, 12.57292322,  8.39920611])"
            ]
          },
          "execution_count": 3,
          "metadata": {},
          "output_type": "execute_result"
        }
      ],
      "source": [
        "model.predict(X_test)"
      ]
    },
    {
      "cell_type": "code",
      "execution_count": 4,
      "id": "8gLo1dlQCArh",
      "metadata": {
        "colab": {
          "base_uri": "https://localhost:8080/"
        },
        "id": "8gLo1dlQCArh",
        "outputId": "7605888c-b0de-4e17-9c68-4ee4e029798f"
      },
      "outputs": [
        {
          "name": "stdout",
          "output_type": "stream",
          "text": [
            "R2 Score: 0.6766954295627076\n"
          ]
        }
      ],
      "source": [
        "from sklearn.metrics import r2_score\n",
        "print('R2 Score:', r2_score(y_test, y_pred))"
      ]
    },
    {
      "cell_type": "code",
      "execution_count": 5,
      "id": "d9d4a13b",
      "metadata": {
        "colab": {
          "base_uri": "https://localhost:8080/",
          "height": 449
        },
        "id": "d9d4a13b",
        "outputId": "0a23ddd6-5fce-4d86-e1e4-a050d86ec429"
      },
      "outputs": [
        {
          "data": {
            "image/png": "[encoded data removed]",
            "text/plain": [
              "<Figure size 640x480 with 1 Axes>"
            ]
          },
          "metadata": {},
          "output_type": "display_data"
        }
      ],
      "source": [
        "\n",
        "# Step 8: Visualization\n",
        "plt.scatter(X_test, y_test, color='blue', label=\"Actual\")\n",
        "plt.plot(X_test, y_pred, color='red', linewidth=2, label=\"Predicted\")\n",
        "plt.xlabel(\"TV Advertising Budget\")\n",
        "plt.ylabel(\"Sales\")\n",
        "plt.legend()\n",
        "plt.show()\n"
      ]
    },
    {
      "cell_type": "markdown",
      "id": "ce0ec098",
      "metadata": {
        "id": "ce0ec098"
      },
      "source": [
        "\n",
        "## 4. Student Tasks  \n",
        "\n",
        "1. Train a **Simple Linear Regression model** to predict **sales from Radio advertising budget**.  \n",
        "2. Extend it to a **Multiple Linear Regression** using **TV, Radio, and Newspaper advertising budgets** as predictors.  \n",
        "3. Compare **MSE values** of simple vs multiple regression. Which performs better?  \n"
      ]
    },
    {
      "cell_type": "code",
      "execution_count": null,
      "id": "cae9477c",
      "metadata": {},
      "outputs": [],
      "source": []
    },
    {
      "cell_type": "markdown",
      "id": "f42f4fb3",
      "metadata": {
        "id": "f42f4fb3"
      },
      "source": [
        "\n",
        "## 5. Assignment  \n",
        "\n",
        "📌 **Assignment:**  \n",
        "\n",
        "- Use the **Boston Housing Dataset** (or California Housing if Boston is unavailable in sklearn).  \n",
        "- Build a **Multiple Linear Regression model** to predict **house prices** using available features (like number of rooms, crime rate, etc.).  \n",
        "- Evaluate your model using **MSE**.  \n",
        "- Interpret results:  \n",
        "  - Which features influence housing prices the most?  \n",
        "  - Was the MSE low or high? What does it mean for your model?  \n"
      ]
    },
    {
      "cell_type": "markdown",
      "id": "f97065ed",
      "metadata": {
        "id": "f97065ed"
      },
      "source": [
        "\n",
        "## 6. Why & When to Use Linear Regression?  \n",
        "\n",
        "### ✅ Why we used Linear Regression in this lecture?  \n",
        "- It is **simple, intuitive, and easy to implement**.  \n",
        "- Provides a **baseline model** for regression problems.  \n",
        "- Helps us **understand relationships** between variables (e.g., how TV ads affect sales).  \n",
        "\n",
        "### ✅ When should we use Linear Regression?  \n",
        "- When the **dependent variable is continuous** (not categorical).  \n",
        "- When there is a **linear relationship** between input(s) and output.  \n",
        "- When you need a **quick, interpretable model**.  \n",
        "- For making **predictions** and **understanding feature importance**.  \n",
        "\n",
        "⚠️ Avoid Linear Regression if:  \n",
        "- The relationship is **non-linear**.  \n",
        "- Data has **a lot of outliers**.  \n",
        "- Features are highly **correlated** (multicollinearity).  \n"
      ]
    }
  ],
  "metadata": {
    "colab": {
      "provenance": []
    },
    "kernelspec": {
      "display_name": "Python 3",
      "name": "python3"
    },
    "language_info": {
      "codemirror_mode": {
        "name": "ipython",
        "version": 3
      },
      "file_extension": ".py",
      "mimetype": "text/x-python",
      "name": "python",
      "nbconvert_exporter": "python",
      "pygments_lexer": "ipython3",
      "version": "3.13.3"
    }
  },
  "nbformat": 4,
  "nbformat_minor": 5
}
