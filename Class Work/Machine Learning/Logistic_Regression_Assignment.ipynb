{
 "cells": [
  {
   "cell_type": "markdown",
   "id": "98408677",
   "metadata": {},
   "source": [
    "\n",
    "## 5. Assignment  \n",
    "\n",
    "📌 **Problem Statement:**  \n",
    "A bank wants to predict whether a customer will **subscribe to a term deposit** based on customer attributes.  \n",
    "\n",
    "📂 Dataset: [Bank Marketing Dataset (UCI)](https://archive.ics.uci.edu/ml/datasets/bank+marketing)  \n",
    "\n",
    "### Tasks:  \n",
    "1. Load the dataset using **Pandas**.  \n",
    "2. Preprocess categorical variables (use `pd.get_dummies` or `LabelEncoder`).  \n",
    "3. Train a **Logistic Regression model**.  \n",
    "4. Evaluate using:  \n",
    "   - Accuracy  \n",
    "   - Confusion Matrix  \n",
    "   - Classification Report  \n",
    "5. Write a conclusion:  \n",
    "   - Which features are most important?  \n",
    "   - How well does logistic regression perform?  \n",
    "\n",
    "---\n",
    "\n",
    "✅ By the end of this lecture, you should:  \n",
    "- Understand the **theory of Logistic Regression**.  \n",
    "- Implement it in **Python**.  \n",
    "- Work with probabilities and decision boundaries.  \n",
    "- Apply Logistic Regression to a **real-world dataset**.  \n"
   ]
  }
 ],
 "metadata": {
  "language_info": {
   "name": "python"
  }
 },
 "nbformat": 4,
 "nbformat_minor": 5
}
