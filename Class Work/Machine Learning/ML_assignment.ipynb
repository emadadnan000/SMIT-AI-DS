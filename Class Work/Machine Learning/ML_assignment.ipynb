{
 "cells": [
  {
   "cell_type": "markdown",
   "id": "897365a6",
   "metadata": {},
   "source": [
    "## 📂 Assignment\n",
    "Dataset: [Student Performance Dataset (Kaggle)](https://www.kaggle.com/datasets/spscientist/students-performance-in-exams)\n",
    "\n",
    "- Load dataset and check for null values\n",
    "- Perform summary statistics\n",
    "- Train a Linear Regression model to predict math score from reading and writing scores\n",
    "- Evaluate model with MSE and R² score\n",
    "- Visualize reading vs math scores using scatter plot\n",
    "- Submit Jupyter Notebook with explanations"
   ]
  },
  {
   "cell_type": "code",
   "execution_count": null,
   "id": "9f3c97fa",
   "metadata": {},
   "outputs": [],
   "source": []
  }
 ],
 "metadata": {
  "language_info": {
   "name": "python"
  }
 },
 "nbformat": 4,
 "nbformat_minor": 5
}
