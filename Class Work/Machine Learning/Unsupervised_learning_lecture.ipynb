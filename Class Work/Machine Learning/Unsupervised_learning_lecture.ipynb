{
  "cells": [
    {
      "cell_type": "markdown",
      "id": "fb43876c",
      "metadata": {
        "id": "fb43876c"
      },
      "source": [
        "# Unsupervised Learning — Lecture\n",
        "\n",
        "Comprehensive lecture with theory, practical code, and detailed explanations after every code cell.\n",
        "\n",
        "**Contents**:\n",
        "- Introduction and definitions\n",
        "- Types and examples\n",
        "- K-Means practical implementation (with explanations)\n",
        "- Exercises and next steps\n",
        "\n",
        "---"
      ]
    },
    {
      "cell_type": "markdown",
      "id": "7a8270ef",
      "metadata": {
        "id": "7a8270ef"
      },
      "source": [
        "## 1. What is Unsupervised Learning?\n",
        "\n",
        "**Unsupervised Learning** trains models on data **without labels**. The algorithm discovers patterns, structures, or groupings in the data without being given a target output. Examples include clustering, dimensionality reduction, anomaly detection, and association.\n",
        "\n",
        "**Key points:**\n",
        "- Works with only input features `X` (no `y`).\n",
        "- Goal: find hidden structure (clusters, components).\n",
        "- Output: descriptive models rather than predictive models."
      ]
    },
    {
      "cell_type": "markdown",
      "id": "1fb1fe52",
      "metadata": {
        "id": "1fb1fe52"
      },
      "source": [
        "## 2. Supervised vs Unsupervised Learning\n",
        "\n",
        "| Feature | Supervised | Unsupervised |\n",
        "|---|---:|---:|\n",
        "| Labels | Required (X and y) | Not required (only X) |\n",
        "| Goal | Predict outputs | Discover structure |\n",
        "| Examples | Regression, Classification | Clustering, PCA |\n",
        "\n"
      ]
    },
    {
      "cell_type": "markdown",
      "id": "7cba9128",
      "metadata": {
        "id": "7cba9128"
      },
      "source": [
        "## 3. Real-World Examples\n",
        "\n",
        "- **Customer Segmentation** (retail): cluster customers by behavior.\n",
        "- **Document Clustering**: group articles by topics.\n",
        "- **Image compression / feature extraction**: reduce dimensions while preserving information.\n",
        "- **Anomaly detection**: fraud detection, unusual activity identification."
      ]
    },
    {
      "cell_type": "markdown",
      "id": "5f6ec160",
      "metadata": {
        "id": "5f6ec160"
      },
      "source": [
        "## 4. Types of Unsupervised Learning\n",
        "\n",
        "1. **Clustering** (K-Means, Hierarchical, DBSCAN)\n",
        "2. **Dimensionality Reduction** (PCA, t-SNE, Autoencoders)\n",
        "3. **Association** (Apriori)\n",
        "4. **Anomaly Detection** (Isolation Forest, One-Class SVM)\n",
        "\n"
      ]
    },
    {
      "cell_type": "markdown",
      "id": "6c762fd5",
      "metadata": {
        "id": "6c762fd5"
      },
      "source": [
        "## 5. Basic Workflow\n",
        "\n",
        "1. Collect unlabeled data\n",
        "2. Preprocess (cleaning, scaling)\n",
        "3. Choose algorithm\n",
        "4. Train\n",
        "5. Visualize and interpret\n",
        "\n",
        "---"
      ]
    },
    {
      "cell_type": "code",
      "execution_count": 8,
      "id": "5e7913e5",
      "metadata": {
        "colab": {
          "base_uri": "https://localhost:8080/"
        },
        "id": "5e7913e5",
        "outputId": "bc4ebaec-08b5-49b8-fd0b-342d59578226"
      },
      "outputs": [
        {
          "name": "stdout",
          "output_type": "stream",
          "text": [
            "Libraries imported successfully\n"
          ]
        }
      ],
      "source": [
        "# Step 1: Import libraries\n",
        "import numpy as np\n",
        "import pandas as pd\n",
        "import matplotlib.pyplot as plt\n",
        "from sklearn.cluster import KMeans\n",
        "from sklearn.datasets import make_blobs\n",
        "\n",
        "# Ensure plots show inline in notebooks (if executing interactively)\n",
        "%matplotlib inline\n",
        "\n",
        "print('Libraries imported successfully')"
      ]
    },
    {
      "cell_type": "markdown",
      "id": "622af343",
      "metadata": {
        "id": "622af343"
      },
      "source": [
        "**Explanation:**\n",
        "\n",
        "- `numpy`, `pandas` for numerical and tabular data handling.\n",
        "- `matplotlib` for visualization.\n",
        "- `KMeans` is the clustering algorithm from scikit-learn.\n",
        "- `make_blobs` generates synthetic clusterable data for demonstrations.\n",
        "- `%matplotlib inline` makes plots display inside the notebook when executed."
      ]
    },
    {
      "cell_type": "code",
      "execution_count": 9,
      "id": "a7e53569",
      "metadata": {
        "colab": {
          "base_uri": "https://localhost:8080/",
          "height": 206
        },
        "id": "a7e53569",
        "outputId": "79c57425-b457-4114-d529-47cfb9bd8fa3"
      },
      "outputs": [
        {
          "data": {
            "text/html": [
              "<div>\n",
              "<style scoped>\n",
              "    .dataframe tbody tr th:only-of-type {\n",
              "        vertical-align: middle;\n",
              "    }\n",
              "\n",
              "    .dataframe tbody tr th {\n",
              "        vertical-align: top;\n",
              "    }\n",
              "\n",
              "    .dataframe thead th {\n",
              "        text-align: right;\n",
              "    }\n",
              "</style>\n",
              "<table border=\"1\" class=\"dataframe\">\n",
              "  <thead>\n",
              "    <tr style=\"text-align: right;\">\n",
              "      <th></th>\n",
              "      <th>Feature_1</th>\n",
              "      <th>Feature_2</th>\n",
              "    </tr>\n",
              "  </thead>\n",
              "  <tbody>\n",
              "    <tr>\n",
              "      <th>0</th>\n",
              "      <td>-9.113944</td>\n",
              "      <td>6.813616</td>\n",
              "    </tr>\n",
              "    <tr>\n",
              "      <th>1</th>\n",
              "      <td>-9.354576</td>\n",
              "      <td>7.092790</td>\n",
              "    </tr>\n",
              "    <tr>\n",
              "      <th>2</th>\n",
              "      <td>-2.015671</td>\n",
              "      <td>8.281780</td>\n",
              "    </tr>\n",
              "    <tr>\n",
              "      <th>3</th>\n",
              "      <td>-7.010236</td>\n",
              "      <td>-6.220843</td>\n",
              "    </tr>\n",
              "    <tr>\n",
              "      <th>4</th>\n",
              "      <td>-10.061202</td>\n",
              "      <td>6.718671</td>\n",
              "    </tr>\n",
              "  </tbody>\n",
              "</table>\n",
              "</div>"
            ],
            "text/plain": [
              "   Feature_1  Feature_2\n",
              "0  -9.113944   6.813616\n",
              "1  -9.354576   7.092790\n",
              "2  -2.015671   8.281780\n",
              "3  -7.010236  -6.220843\n",
              "4 -10.061202   6.718671"
            ]
          },
          "execution_count": 9,
          "metadata": {},
          "output_type": "execute_result"
        }
      ],
      "source": [
        "# Step 2: Generate synthetic data with make_blobs\n",
        "# n_samples: total number of points\n",
        "# centers: number of clusters to generate\n",
        "# cluster_std: standard deviation (spread) of each cluster\n",
        "# random_state: reproducible randomness\n",
        "\n",
        "X, y = make_blobs(n_samples=300, centers=4, cluster_std=0.60, random_state=42)\n",
        "df = pd.DataFrame(X, columns=['Feature_1', 'Feature_2'])\n",
        "df.head()"
      ]
    },
    {
      "cell_type": "markdown",
      "id": "d9ae34d5",
      "metadata": {
        "id": "d9ae34d5"
      },
      "source": [
        "**Explanation of parameters:**\n",
        "\n",
        "- `n_samples=300`: creates 300 data points in total.\n",
        "- `centers=4`: asks `make_blobs` to generate data around **4 distinct centers** (i.e., 4 clusters). Each center acts like a centroid for a group of points.\n",
        "  - If you change `centers` to 3 or 5, you will get 3 or 5 groups respectively.\n",
        "- `cluster_std=0.60`: controls the **spread** of points around each center (the standard deviation).\n",
        "  - Smaller values (e.g., 0.2) → tight, compact clusters.\n",
        "  - Larger values (e.g., 1.5) → clusters are more spread and may overlap.\n",
        "\n",
        "**Analogy:** `centers=4` is like telling the generator to place 4 groups of people in a field. `cluster_std` controls how tightly each group stands together."
      ]
    },
    {
      "cell_type": "code",
      "execution_count": 10,
      "id": "06779227",
      "metadata": {
        "colab": {
          "base_uri": "https://localhost:8080/",
          "height": 487
        },
        "id": "06779227",
        "outputId": "e16b54c2-d636-4ee6-b4c7-ce5cae8d0fcc"
      },
      "outputs": [
        {
          "data": {
            "image/png": "[encoded data removed]",
            "text/plain": [
              "<Figure size 700x500 with 1 Axes>"
            ]
          },
          "metadata": {},
          "output_type": "display_data"
        }
      ],
      "source": [
        "# Step 3: Visualize the raw, unlabeled data\n",
        "plt.figure(figsize=(7,5))\n",
        "plt.scatter(df['Feature_1'], df['Feature_2'])\n",
        "plt.title(\"Unlabeled Data Distribution\")\n",
        "plt.xlabel(\"Feature 1\")\n",
        "plt.ylabel(\"Feature 2\")\n",
        "plt.grid(True)\n",
        "plt.show()"
      ]
    },
    {
      "cell_type": "markdown",
      "id": "df34072a",
      "metadata": {
        "id": "df34072a"
      },
      "source": [
        "**Explanation:**\n",
        "\n",
        "- This plot shows the data before clustering.\n",
        "- Even without labels, you can visually inspect the potential groups.\n",
        "- Visualization helps to form intuition about the number of clusters and cluster separability."
      ]
    },
    {
      "cell_type": "code",
      "execution_count": 11,
      "id": "2d71508f",
      "metadata": {
        "colab": {
          "base_uri": "https://localhost:8080/"
        },
        "id": "2d71508f",
        "outputId": "2fce5b79-1ead-456a-9ff9-c09ba8136c7e"
      },
      "outputs": [
        {
          "name": "stdout",
          "output_type": "stream",
          "text": [
            "K-Means fitted. Inertia (sum of squared distances to centroids): 203.8907468405834\n"
          ]
        }
      ],
      "source": [
        "# Step 4: Initialize and fit K-Means\n",
        "kmeans = KMeans(n_clusters=4, random_state=42)\n",
        "kmeans.fit(df)\n",
        "\n",
        "print(\"K-Means fitted. Inertia (sum of squared distances to centroids):\", kmeans.inertia_)"
      ]
    },
    {
      "cell_type": "markdown",
      "id": "8610d40e",
      "metadata": {
        "id": "8610d40e"
      },
      "source": [
        "**Explanation:**\n",
        "\n",
        "- `KMeans(n_clusters=4)` sets the algorithm to find 4 clusters.\n",
        "- `.fit(df)` runs the K-Means algorithm which:\n",
        "  1. Initializes centroids (randomly or via k-means++).\n",
        "  2. Assigns each point to the nearest centroid.\n",
        "  3. Recomputes centroids as the mean of assigned points.\n",
        "  4. Repeats until convergence.\n",
        "\n",
        "- `inertia_` is the within-cluster sum-of-squares (a measure of compactness). Lower is generally better for a given `k`."
      ]
    },
    {
      "cell_type": "code",
      "execution_count": 12,
      "id": "e9a857ec",
      "metadata": {
        "colab": {
          "base_uri": "https://localhost:8080/",
          "height": 206
        },
        "id": "e9a857ec",
        "outputId": "01eebf1f-a4dd-4fc1-fa50-fee11d405687"
      },
      "outputs": [
        {
          "data": {
            "text/html": [
              "<div>\n",
              "<style scoped>\n",
              "    .dataframe tbody tr th:only-of-type {\n",
              "        vertical-align: middle;\n",
              "    }\n",
              "\n",
              "    .dataframe tbody tr th {\n",
              "        vertical-align: top;\n",
              "    }\n",
              "\n",
              "    .dataframe thead th {\n",
              "        text-align: right;\n",
              "    }\n",
              "</style>\n",
              "<table border=\"1\" class=\"dataframe\">\n",
              "  <thead>\n",
              "    <tr style=\"text-align: right;\">\n",
              "      <th></th>\n",
              "      <th>Feature_1</th>\n",
              "      <th>Feature_2</th>\n",
              "      <th>Cluster</th>\n",
              "    </tr>\n",
              "  </thead>\n",
              "  <tbody>\n",
              "    <tr>\n",
              "      <th>0</th>\n",
              "      <td>-9.113944</td>\n",
              "      <td>6.813616</td>\n",
              "      <td>3</td>\n",
              "    </tr>\n",
              "    <tr>\n",
              "      <th>1</th>\n",
              "      <td>-9.354576</td>\n",
              "      <td>7.092790</td>\n",
              "      <td>3</td>\n",
              "    </tr>\n",
              "    <tr>\n",
              "      <th>2</th>\n",
              "      <td>-2.015671</td>\n",
              "      <td>8.281780</td>\n",
              "      <td>0</td>\n",
              "    </tr>\n",
              "    <tr>\n",
              "      <th>3</th>\n",
              "      <td>-7.010236</td>\n",
              "      <td>-6.220843</td>\n",
              "      <td>1</td>\n",
              "    </tr>\n",
              "    <tr>\n",
              "      <th>4</th>\n",
              "      <td>-10.061202</td>\n",
              "      <td>6.718671</td>\n",
              "      <td>3</td>\n",
              "    </tr>\n",
              "  </tbody>\n",
              "</table>\n",
              "</div>"
            ],
            "text/plain": [
              "   Feature_1  Feature_2  Cluster\n",
              "0  -9.113944   6.813616        3\n",
              "1  -9.354576   7.092790        3\n",
              "2  -2.015671   8.281780        0\n",
              "3  -7.010236  -6.220843        1\n",
              "4 -10.061202   6.718671        3"
            ]
          },
          "execution_count": 12,
          "metadata": {},
          "output_type": "execute_result"
        }
      ],
      "source": [
        "# Step 5: Attach cluster labels to the DataFrame\n",
        "df['Cluster'] = kmeans.labels_\n",
        "df.head()"
      ]
    },
    {
      "cell_type": "markdown",
      "id": "0e7babab",
      "metadata": {
        "id": "0e7babab"
      },
      "source": [
        "**Explanation:**\n",
        "\n",
        "- `kmeans.labels_` contains the assigned cluster index for each data point (0 to k-1).\n",
        "- Adding the labels to the DataFrame allows further analysis per cluster (counts, statistics, etc.)."
      ]
    },
    {
      "cell_type": "code",
      "execution_count": 13,
      "id": "d341409d",
      "metadata": {
        "colab": {
          "base_uri": "https://localhost:8080/",
          "height": 487
        },
        "id": "d341409d",
        "outputId": "4853473c-d950-42c2-d70d-f84d33e11f71"
      },
      "outputs": [
        {
          "data": {
            "image/png": "[encoded data removed]",
            "text/plain": [
              "<Figure size 700x500 with 1 Axes>"
            ]
          },
          "metadata": {},
          "output_type": "display_data"
        }
      ],
      "source": [
        "# Step 6: Plot clusters with centroids\n",
        "plt.figure(figsize=(7,5))\n",
        "plt.scatter(df['Feature_1'], df['Feature_2'], c=df['Cluster'])\n",
        "plt.scatter(kmeans.cluster_centers_[:, 0], kmeans.cluster_centers_[:, 1],\n",
        "            s=250, c='red', marker='X', edgecolor='k', linewidth=1.5)\n",
        "plt.title(\"Clusters Identified by K-Means\")\n",
        "plt.xlabel(\"Feature 1\")\n",
        "plt.ylabel(\"Feature 2\")\n",
        "plt.grid(True)\n",
        "plt.show()"
      ]
    },
    {
      "cell_type": "markdown",
      "id": "0ee2e18c",
      "metadata": {
        "id": "0ee2e18c"
      },
      "source": [
        "**Explanation:**\n",
        "\n",
        "- Points are color-coded by the cluster assigned by K-Means.\n",
        "- Red 'X' markers are the learned centroids (`kmeans.cluster_centers_`).\n",
        "- This visualization helps validate whether clustering aligns with human intuition."
      ]
    },
    {
      "cell_type": "code",
      "execution_count": 14,
      "id": "ec9e8988",
      "metadata": {
        "colab": {
          "base_uri": "https://localhost:8080/",
          "height": 410
        },
        "id": "ec9e8988",
        "outputId": "dbcda1b0-8dcf-4397-fb37-b659583664e5"
      },
      "outputs": [
        {
          "data": {
            "image/png": "[encoded data removed]",
            "text/plain": [
              "<Figure size 700x400 with 1 Axes>"
            ]
          },
          "metadata": {},
          "output_type": "display_data"
        }
      ],
      "source": [
        "# Optional: Elbow method to choose number of clusters\n",
        "inertias = []\n",
        "K_range = range(2, 11)\n",
        "for k in K_range:\n",
        "    km = KMeans(n_clusters=k, random_state=42)\n",
        "    km.fit(df[['Feature_1', 'Feature_2']])\n",
        "    inertias.append(km.inertia_)\n",
        "\n",
        "import matplotlib.pyplot as plt\n",
        "plt.figure(figsize=(7,4))\n",
        "plt.plot(list(K_range), inertias, marker='o')\n",
        "plt.xticks(list(K_range))\n",
        "plt.xlabel('Number of clusters k')\n",
        "plt.ylabel('Inertia (Within-cluster sum of squares)')\n",
        "plt.title('Elbow Method For Optimal k')\n",
        "plt.grid(True)\n",
        "plt.show()"
      ]
    },
    {
      "cell_type": "markdown",
      "id": "902c0a60",
      "metadata": {
        "id": "902c0a60"
      },
      "source": [
        "**Explanation:**\n",
        "\n",
        "- The Elbow method runs K-Means for multiple `k` values and plots the inertia.\n",
        "- Look for the 'elbow' point where inertia reduction slows — that suggests a reasonable `k`.\n",
        "- The elbow is heuristic, not exact; domain knowledge is important."
      ]
    },
    {
      "cell_type": "markdown",
      "id": "141679a2",
      "metadata": {
        "id": "141679a2"
      },
      "source": [
        "## Real-World Interpretation\n",
        "\n",
        "If clusters correspond to customer groups, each cluster can inform marketing strategies, product recommendations, or customer retention tactics.\n",
        "\n",
        "---\n",
        "\n",
        "## Student Practical Tasks\n",
        "\n",
        "1. **Experiment with cluster count:** Change `n_clusters` in the KMeans call (3, 4, 5) and re-run the notebook. Observe changes.\n",
        "\n",
        "2. **Iris dataset exercise:** Load Iris from `sklearn.datasets`, apply KMeans, and compare clusters with true species labels (use confusion matrix or scatter plot with colors by species).\n",
        "\n",
        "3. **Custom data:** Generate `make_blobs(n_samples=400, centers=5, cluster_std=1.2)` and cluster.\n",
        "\n",
        "4. **Anomaly detection (advanced):** Create a dataset where most points are clustered but include a few far-away points; compute distance to centroid and flag points with large distance as anomalies.\n",
        "\n",
        "5. **Explain parameters:** Write a short paragraph explaining `centers` and `cluster_std` and how they affect the generated dataset (use visuals from this notebook)."
      ]
    },
    {
      "cell_type": "markdown",
      "id": "dc8c9f2c",
      "metadata": {
        "id": "dc8c9f2c"
      },
      "source": [
        "## Key Takeaways\n",
        "\n",
        "- Unsupervised learning uncovers hidden structure in unlabeled data.\n",
        "- K-Means partitions data into `k` groups by minimizing within-cluster variance.\n",
        "- `centers` determines how many group centers to generate when using `make_blobs`.\n",
        "- `cluster_std` controls how spread out each generated cluster is.\n",
        "\n"
      ]
    },
    {
      "cell_type": "code",
      "execution_count": null,
      "id": "hySg1I85NVzP",
      "metadata": {
        "id": "hySg1I85NVzP"
      },
      "outputs": [],
      "source": []
    }
  ],
  "metadata": {
    "colab": {
      "provenance": []
    },
    "kernelspec": {
      "display_name": "Python 3",
      "name": "python3"
    },
    "language_info": {
      "codemirror_mode": {
        "name": "ipython",
        "version": 3
      },
      "file_extension": ".py",
      "mimetype": "text/x-python",
      "name": "python",
      "nbconvert_exporter": "python",
      "pygments_lexer": "ipython3",
      "version": "3.13.7"
    }
  },
  "nbformat": 4,
  "nbformat_minor": 5
}
