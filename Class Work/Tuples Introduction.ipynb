{
 "cells": [
  {
   "cell_type": "markdown",
   "id": "837304da",
   "metadata": {
    "id": "837304da"
   },
   "source": [
    "## Python Tuples\n",
    "\n",
    "Tuples are ordered collection of data items. They store multiple items in a single variable. Tuple items are separated by commas and enclosed within round brackets (). Tuples are unchangeable meaning we can not alter them after creation."
   ]
  },
  {
   "cell_type": "code",
   "execution_count": null,
   "id": "7Mdg5C55lAK6",
   "metadata": {
    "colab": {
     "base_uri": "https://localhost:8080/"
    },
    "executionInfo": {
     "elapsed": 64,
     "status": "ok",
     "timestamp": 1744909063802,
     "user": {
      "displayName": "Faisal Amin",
      "userId": "07618200051041167646"
     },
     "user_tz": -300
    },
    "id": "7Mdg5C55lAK6",
    "outputId": "612c9e66-0e65-404e-90bf-6f39e35a47bd"
   },
   "outputs": [],
   "source": [
    "a = (5 ,)\n",
    "print(a)\n",
    "print(type(a))"
   ]
  },
  {
   "cell_type": "code",
   "execution_count": null,
   "id": "0ab7599b",
   "metadata": {
    "colab": {
     "base_uri": "https://localhost:8080/"
    },
    "executionInfo": {
     "elapsed": 46,
     "status": "ok",
     "timestamp": 1744548966204,
     "user": {
      "displayName": "Faisal Amin",
      "userId": "07618200051041167646"
     },
     "user_tz": -300
    },
    "id": "0ab7599b",
    "outputId": "4d0f22a2-a3e0-49aa-efd6-e55f2af6f79f"
   },
   "outputs": [],
   "source": [
    "\n",
    "tuple1 = (1,2,2,3,5,4,6)\n",
    "tuple2 = (\"Red\", \"Green\", \"Blue\")\n",
    "print(tuple1)\n",
    "print(tuple2)"
   ]
  },
  {
   "cell_type": "code",
   "execution_count": null,
   "id": "50a75ac0",
   "metadata": {
    "colab": {
     "base_uri": "https://localhost:8080/"
    },
    "executionInfo": {
     "elapsed": 13,
     "status": "ok",
     "timestamp": 1744548988123,
     "user": {
      "displayName": "Faisal Amin",
      "userId": "07618200051041167646"
     },
     "user_tz": -300
    },
    "id": "50a75ac0",
    "outputId": "7cf21113-8359-4743-b688-8309ef426fe5"
   },
   "outputs": [],
   "source": [
    "details = (\"Abdullah\", 18, \"Score\", 9.8)\n",
    "print(details)"
   ]
  },
  {
   "cell_type": "code",
   "execution_count": null,
   "id": "f1298792",
   "metadata": {
    "colab": {
     "base_uri": "https://localhost:8080/"
    },
    "executionInfo": {
     "elapsed": 22,
     "status": "ok",
     "timestamp": 1744477433168,
     "user": {
      "displayName": "Faisal Amin",
      "userId": "07618200051041167646"
     },
     "user_tz": -300
    },
    "id": "f1298792",
    "outputId": "b7fcc9ab-80da-4979-83b9-5c8fa5b6718b"
   },
   "outputs": [],
   "source": [
    "tuple = (1,)\n",
    "print(tuple)\n",
    "print(type(tuple))"
   ]
  },
  {
   "cell_type": "markdown",
   "id": "2e8b56bd",
   "metadata": {
    "id": "2e8b56bd"
   },
   "source": [
    "## Tuple Indexes\n",
    "Each item/element in a tuple has its own unique index. This index can be used to access any particular item from the tuple. The first item has index [0], second item has index [1], third item has index [2] and so on."
   ]
  },
  {
   "cell_type": "code",
   "execution_count": null,
   "id": "8ba3456d",
   "metadata": {
    "id": "8ba3456d"
   },
   "outputs": [],
   "source": [
    "country = (\"Spain\", \"Italy\", \"India\",)\n",
    "#            [0]      [1]      [2]"
   ]
  },
  {
   "cell_type": "markdown",
   "id": "020cbe99",
   "metadata": {
    "id": "020cbe99"
   },
   "source": [
    "## Accessing tuple items:\n",
    "\n",
    "####  I. Positive Indexing:\n",
    "As we have seen that tuple items have index, as such we can access items using these indexes."
   ]
  },
  {
   "cell_type": "code",
   "execution_count": null,
   "id": "18167662",
   "metadata": {
    "id": "18167662",
    "outputId": "f608483e-0021-4174-d3ec-28b516ea4920"
   },
   "outputs": [],
   "source": [
    "country = (\"Spain\", \"Italy\", \"India\",)\n",
    "#            [0]      [1]      [2]\n",
    "print(country[0])\n",
    "print(country[1])\n",
    "print(country[2])"
   ]
  },
  {
   "cell_type": "markdown",
   "id": "a8d9cc1e",
   "metadata": {
    "id": "a8d9cc1e"
   },
   "source": [
    "### II. Negative Indexing:\n",
    "\n",
    "Similar to positive indexing, negative indexing is also used to access items, but from the end of the tuple. The last item has index [-1], second last item has index [-2], third last item has index [-3] and so on."
   ]
  },
  {
   "cell_type": "code",
   "execution_count": null,
   "id": "bfb7de14",
   "metadata": {
    "colab": {
     "base_uri": "https://localhost:8080/"
    },
    "executionInfo": {
     "elapsed": 369,
     "status": "ok",
     "timestamp": 1720111102668,
     "user": {
      "displayName": "Faisal Amin",
      "userId": "07618200051041167646"
     },
     "user_tz": -300
    },
    "id": "bfb7de14",
    "outputId": "5d85204d-246c-4e13-8c68-84c3cc7f86dd"
   },
   "outputs": [],
   "source": [
    "country = (\"Spain\", \"Italy\", \"India\", \"England\", \"Germany\")\n",
    "#            [0]      [1]      [2]       [3]        [4]\n",
    "print(country[-1]) # Similar to print(country[len(country) - 1])\n",
    "print(country[-3])\n",
    "print(country[-4])"
   ]
  },
  {
   "cell_type": "markdown",
   "id": "5c2ff602",
   "metadata": {
    "id": "5c2ff602"
   },
   "source": [
    "### III. Check for item:\n",
    "\n",
    "We can check if a given item is present in the tuple. This is done using the in keyword."
   ]
  },
  {
   "cell_type": "code",
   "execution_count": null,
   "id": "88eca4ca",
   "metadata": {
    "colab": {
     "base_uri": "https://localhost:8080/"
    },
    "executionInfo": {
     "elapsed": 48,
     "status": "ok",
     "timestamp": 1744477624271,
     "user": {
      "displayName": "Faisal Amin",
      "userId": "07618200051041167646"
     },
     "user_tz": -300
    },
    "id": "88eca4ca",
    "outputId": "73cb2cba-6118-4135-f4a2-6d3e66ab1b3c"
   },
   "outputs": [],
   "source": [
    "country = (\"Spain\", \"Italy\", \"India\", \"England\", \"Germany\")\n",
    "if \"Russia\" in country:\n",
    "    print(\"Russia is present.\")\n",
    "else:\n",
    "    print(\"Russia is absent.\")"
   ]
  },
  {
   "cell_type": "code",
   "execution_count": null,
   "id": "vjvfE57E-Q2q",
   "metadata": {
    "colab": {
     "base_uri": "https://localhost:8080/"
    },
    "executionInfo": {
     "elapsed": 20,
     "status": "ok",
     "timestamp": 1744477700970,
     "user": {
      "displayName": "Faisal Amin",
      "userId": "07618200051041167646"
     },
     "user_tz": -300
    },
    "id": "vjvfE57E-Q2q",
    "outputId": "5ccb1e94-afe3-4a32-8391-decad524a785"
   },
   "outputs": [],
   "source": [
    "\"Russia\" in country"
   ]
  },
  {
   "cell_type": "code",
   "execution_count": null,
   "id": "a96ab049",
   "metadata": {
    "colab": {
     "base_uri": "https://localhost:8080/"
    },
    "executionInfo": {
     "elapsed": 345,
     "status": "ok",
     "timestamp": 1720111244998,
     "user": {
      "displayName": "Faisal Amin",
      "userId": "07618200051041167646"
     },
     "user_tz": -300
    },
    "id": "a96ab049",
    "outputId": "1b3f7361-cf0f-4e48-e0b0-865dea0def89"
   },
   "outputs": [],
   "source": [
    "print(\"Russia\" in country)"
   ]
  },
  {
   "cell_type": "markdown",
   "id": "09498ee5",
   "metadata": {
    "id": "09498ee5"
   },
   "source": [
    "### IV. Range of Index:\n",
    "You can print a range of tuple items by specifying where do you want to start, where do you want to end and if you want to skip elements in between the range."
   ]
  },
  {
   "cell_type": "markdown",
   "id": "0a7c6c89",
   "metadata": {
    "id": "0a7c6c89"
   },
   "source": [
    "###### Syntax\n",
    "Tuple[start : end : jumpIndex]\n",
    "\n",
    "Note: jump Index is optional. We will see this in given examples.\n",
    "\n"
   ]
  },
  {
   "cell_type": "code",
   "execution_count": null,
   "id": "7ca49a67",
   "metadata": {
    "colab": {
     "base_uri": "https://localhost:8080/"
    },
    "executionInfo": {
     "elapsed": 350,
     "status": "ok",
     "timestamp": 1720111395368,
     "user": {
      "displayName": "Faisal Amin",
      "userId": "07618200051041167646"
     },
     "user_tz": -300
    },
    "id": "7ca49a67",
    "outputId": "9f606ee5-2631-4ea5-e21f-c8c4a9ef463d"
   },
   "outputs": [],
   "source": [
    "animals = (\"cat\", \"dog\", \"bat\", \"mouse\", \"pig\", \"horse\", \"donkey\", \"goat\", \"cow\")\n",
    "print(animals[3:44])     #using positive indexes\n",
    "print(animals[-7:-2])   #using negative indexes"
   ]
  },
  {
   "cell_type": "markdown",
   "id": "56d77194",
   "metadata": {
    "id": "56d77194"
   },
   "source": [
    "Here, we provide index of the element from where we want to start and the index of the element till which we want to print the values. Note: The element of the end index provided will not be included."
   ]
  },
  {
   "cell_type": "markdown",
   "id": "d08810ee",
   "metadata": {
    "id": "d08810ee"
   },
   "source": [
    "When no end index is provided, the interpreter prints all the values till the end.\n",
    "\n"
   ]
  },
  {
   "cell_type": "markdown",
   "id": "59ecefb9",
   "metadata": {
    "id": "59ecefb9"
   },
   "source": [
    "### Printing all elements from start to a given index\n",
    "\n",
    "\n",
    "\n"
   ]
  },
  {
   "cell_type": "code",
   "execution_count": null,
   "id": "1188fad2",
   "metadata": {
    "colab": {
     "base_uri": "https://localhost:8080/"
    },
    "executionInfo": {
     "elapsed": 360,
     "status": "ok",
     "timestamp": 1720111560030,
     "user": {
      "displayName": "Faisal Amin",
      "userId": "07618200051041167646"
     },
     "user_tz": -300
    },
    "id": "1188fad2",
    "outputId": "31a847c6-9d4c-4a46-b9cd-14ca2dd284bd"
   },
   "outputs": [],
   "source": [
    "animals = (\"cat\", \"dog\", \"bat\", \"mouse\", \"pig\", \"horse\", \"donkey\", \"goat\", \"cow\")\n",
    "print(animals[:6])      #using positive indexes\n",
    "print(animals[:-3])     #using negative indexes"
   ]
  },
  {
   "cell_type": "markdown",
   "id": "a52eeaa6",
   "metadata": {
    "id": "a52eeaa6"
   },
   "source": [
    "When no start index is provided, the interpreter prints all the values from start up to the end index provided."
   ]
  },
  {
   "cell_type": "markdown",
   "id": "d63f4776",
   "metadata": {
    "id": "d63f4776"
   },
   "source": [
    "### Print alternate values\n"
   ]
  },
  {
   "cell_type": "code",
   "execution_count": null,
   "id": "804ac86e",
   "metadata": {
    "colab": {
     "base_uri": "https://localhost:8080/"
    },
    "executionInfo": {
     "elapsed": 11,
     "status": "ok",
     "timestamp": 1744549695182,
     "user": {
      "displayName": "Faisal Amin",
      "userId": "07618200051041167646"
     },
     "user_tz": -300
    },
    "id": "804ac86e",
    "outputId": "74c3a6d8-9c03-4c12-c35e-7d73109f065a"
   },
   "outputs": [],
   "source": [
    "animals = (\"cat\", \"dog\", \"bat\", \"mouse\", \"pig\", \"horse\", \"donkey\", \"goat\", \"cow\")\n",
    "print(animals[::2])     #using positive indexes\n",
    "print(animals[-1:-8:-2]) #using negative indexes"
   ]
  },
  {
   "cell_type": "code",
   "execution_count": null,
   "id": "YPXz1fq8panc",
   "metadata": {
    "colab": {
     "base_uri": "https://localhost:8080/"
    },
    "executionInfo": {
     "elapsed": 371,
     "status": "ok",
     "timestamp": 1720111778094,
     "user": {
      "displayName": "Faisal Amin",
      "userId": "07618200051041167646"
     },
     "user_tz": -300
    },
    "id": "YPXz1fq8panc",
    "outputId": "233e61e6-a209-477d-9066-f55768f0c5f7"
   },
   "outputs": [],
   "source": [
    "tup1 = (4 , 6 , 2 , 8)\n",
    "print(tup1[::-1])"
   ]
  },
  {
   "cell_type": "markdown",
   "id": "27cc51fd",
   "metadata": {
    "id": "27cc51fd"
   },
   "source": [
    "Here, we have not provided start and end index, which means all the values will be considered. But as we have provided a jump index of 2 only alternate values will be printed."
   ]
  },
  {
   "cell_type": "markdown",
   "id": "ac85911c",
   "metadata": {
    "id": "ac85911c"
   },
   "source": [
    "### Printing every 3rd consecutive withing given range"
   ]
  },
  {
   "cell_type": "code",
   "execution_count": null,
   "id": "6229a59a",
   "metadata": {
    "colab": {
     "base_uri": "https://localhost:8080/"
    },
    "executionInfo": {
     "elapsed": 373,
     "status": "ok",
     "timestamp": 1724253640191,
     "user": {
      "displayName": "Faisal Amin",
      "userId": "07618200051041167646"
     },
     "user_tz": -300
    },
    "id": "6229a59a",
    "outputId": "de6f7fbb-ceac-4db9-9687-d090f74a57e4"
   },
   "outputs": [],
   "source": [
    "animals = (\"cat\", \"dog\", \"bat\", \"mouse\", \"pig\", \"horse\", \"donkey\", \"goat\", \"cow\")\n",
    "animals_2 = list(animals)\n",
    "print(type(animals_2))\n"
   ]
  },
  {
   "cell_type": "markdown",
   "id": "9494b29e",
   "metadata": {
    "id": "9494b29e"
   },
   "source": [
    "Here, jump index is 3. Hence it prints every 3rd element within given index."
   ]
  }
 ],
 "metadata": {
  "colab": {
   "provenance": []
  },
  "kernelspec": {
   "display_name": "Python 3 (ipykernel)",
   "language": "python",
   "name": "python3"
  },
  "language_info": {
   "codemirror_mode": {
    "name": "ipython",
    "version": 3
   },
   "file_extension": ".py",
   "mimetype": "text/x-python",
   "name": "python",
   "nbconvert_exporter": "python",
   "pygments_lexer": "ipython3",
   "version": "3.9.13"
  }
 },
 "nbformat": 4,
 "nbformat_minor": 5
}
