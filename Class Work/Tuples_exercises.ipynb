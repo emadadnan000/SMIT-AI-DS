{
 "cells": [
  {
   "cell_type": "markdown",
   "metadata": {
    "id": "MKqmT87nVD4e"
   },
   "source": [
    "1. Reverse the tuple\n",
    "tuple1 = (10, 20, 30, 40, 50)\n",
    "\n",
    "\n",
    "\n",
    "\n",
    "\n",
    "2. The given tuple is a nested tuple. write a Python program to print the value 20\n",
    "tuple1 = (\"Orange\", [10, 20, 30], (5, 15, 25))\n",
    "\n",
    "\n",
    "\n",
    "\n",
    "3. Python program to find sum of all numbers in a tuple\n",
    "T1 = (1, 9, 1, 6, 3, 4)\n",
    "\n",
    "\n",
    "4. Python program to create a tuple of 5 random integers\n",
    "\n",
    "\n",
    "\n",
    "5. Create a tuple with single item 23"
   ]
  },
  {
   "cell_type": "code",
   "execution_count": null,
   "metadata": {
    "colab": {
     "base_uri": "https://localhost:8080/"
    },
    "executionInfo": {
     "elapsed": 424,
     "status": "ok",
     "timestamp": 1720114616309,
     "user": {
      "displayName": "Faisal Amin",
      "userId": "07618200051041167646"
     },
     "user_tz": -300
    },
    "id": "oT7tpyCrxcZR",
    "outputId": "501d918a-bba2-4e94-a2b4-964c6fff08ed"
   },
   "outputs": [
    {
     "name": "stdout",
     "output_type": "stream",
     "text": [
      "24\n"
     ]
    }
   ],
   "source": [
    "#Python program to find sum of all numbers in a tuple T1 = (1, 9, 1, 6, 3, 4)\n",
    "T1 = (1, 9, 1, 6, 3, 4)\n",
    "sum = 0\n",
    "for i in T1:\n",
    "    sum = sum + i\n",
    "print(sum)"
   ]
  },
  {
   "cell_type": "code",
   "execution_count": null,
   "metadata": {
    "colab": {
     "base_uri": "https://localhost:8080/"
    },
    "executionInfo": {
     "elapsed": 404,
     "status": "ok",
     "timestamp": 1720115444141,
     "user": {
      "displayName": "Faisal Amin",
      "userId": "07618200051041167646"
     },
     "user_tz": -300
    },
    "id": "hrXV44B_0hQO",
    "outputId": "04869f91-dc7f-4ed7-a818-0a0632b81197"
   },
   "outputs": [
    {
     "name": "stdout",
     "output_type": "stream",
     "text": [
      "(3, 5, 4, 0, 5)\n",
      "<class 'tuple'>\n"
     ]
    }
   ],
   "source": [
    "import random\n",
    "\n",
    "tup = []\n",
    "i = 0\n",
    "\n",
    "while i < 5:\n",
    "  n = random.randint(0,9)\n",
    "  tup.append(n)\n",
    "  i += 1\n",
    "\n",
    "tuple1 = tuple(tup)\n",
    "print(tuple1)\n",
    "print(type(tuple1))"
   ]
  },
  {
   "cell_type": "code",
   "execution_count": null,
   "metadata": {
    "colab": {
     "base_uri": "https://localhost:8080/"
    },
    "executionInfo": {
     "elapsed": 418,
     "status": "ok",
     "timestamp": 1723217723787,
     "user": {
      "displayName": "Faisal Amin",
      "userId": "07618200051041167646"
     },
     "user_tz": -300
    },
    "id": "iKrRa4NE3rXn",
    "outputId": "1af3400c-090d-4179-9369-c067ca8a6d87"
   },
   "outputs": [
    {
     "name": "stdout",
     "output_type": "stream",
     "text": [
      "(32, 86, 48, 74, 46)\n"
     ]
    }
   ],
   "source": [
    "import random\n",
    "\n",
    "tuple_1 = tuple(random.randint(1,100) for a in range(5))\n",
    "print(tuple_1)\n"
   ]
  }
 ],
 "metadata": {
  "colab": {
   "provenance": []
  },
  "kernelspec": {
   "display_name": "Python 3",
   "name": "python3"
  },
  "language_info": {
   "name": "python"
  }
 },
 "nbformat": 4,
 "nbformat_minor": 0
}
