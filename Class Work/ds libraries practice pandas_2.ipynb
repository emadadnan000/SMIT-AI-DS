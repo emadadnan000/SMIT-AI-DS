{
 "cells": [
  {
   "cell_type": "code",
   "execution_count": 6,
   "id": "d25f086b",
   "metadata": {},
   "outputs": [
    {
     "data": {
      "text/html": [
       "<div>\n",
       "<style scoped>\n",
       "    .dataframe tbody tr th:only-of-type {\n",
       "        vertical-align: middle;\n",
       "    }\n",
       "\n",
       "    .dataframe tbody tr th {\n",
       "        vertical-align: top;\n",
       "    }\n",
       "\n",
       "    .dataframe thead th {\n",
       "        text-align: right;\n",
       "    }\n",
       "</style>\n",
       "<table border=\"1\" class=\"dataframe\">\n",
       "  <thead>\n",
       "    <tr style=\"text-align: right;\">\n",
       "      <th></th>\n",
       "      <th>Row ID</th>\n",
       "      <th>Order ID</th>\n",
       "      <th>Order Date</th>\n",
       "      <th>Ship Date</th>\n",
       "      <th>Ship Mode</th>\n",
       "      <th>Customer ID</th>\n",
       "      <th>Customer Name</th>\n",
       "      <th>Segment</th>\n",
       "      <th>Country</th>\n",
       "      <th>City</th>\n",
       "      <th>...</th>\n",
       "      <th>Postal Code</th>\n",
       "      <th>Region</th>\n",
       "      <th>Product ID</th>\n",
       "      <th>Category</th>\n",
       "      <th>Sub-Category</th>\n",
       "      <th>Product Name</th>\n",
       "      <th>Sales</th>\n",
       "      <th>Quantity</th>\n",
       "      <th>Discount</th>\n",
       "      <th>Profit</th>\n",
       "    </tr>\n",
       "  </thead>\n",
       "  <tbody>\n",
       "    <tr>\n",
       "      <th>0</th>\n",
       "      <td>1</td>\n",
       "      <td>CA-2017-152156</td>\n",
       "      <td>11/8/2017</td>\n",
       "      <td>11/11/2017</td>\n",
       "      <td>Second Class</td>\n",
       "      <td>CG-12520</td>\n",
       "      <td>Claire Gute</td>\n",
       "      <td>Consumer</td>\n",
       "      <td>United States</td>\n",
       "      <td>Henderson</td>\n",
       "      <td>...</td>\n",
       "      <td>42420.0</td>\n",
       "      <td>South</td>\n",
       "      <td>FUR-BO-10001798</td>\n",
       "      <td>Furniture</td>\n",
       "      <td>Bookcases</td>\n",
       "      <td>Bush Somerset Collection Bookcase</td>\n",
       "      <td>261.9600</td>\n",
       "      <td>2.0</td>\n",
       "      <td>0.00</td>\n",
       "      <td>41.9136</td>\n",
       "    </tr>\n",
       "    <tr>\n",
       "      <th>1</th>\n",
       "      <td>2</td>\n",
       "      <td>CA-2017-152156</td>\n",
       "      <td>11/8/2017</td>\n",
       "      <td>11/11/2017</td>\n",
       "      <td>Second Class</td>\n",
       "      <td>CG-12520</td>\n",
       "      <td>Claire Gute</td>\n",
       "      <td>Consumer</td>\n",
       "      <td>United States</td>\n",
       "      <td>Henderson</td>\n",
       "      <td>...</td>\n",
       "      <td>42420.0</td>\n",
       "      <td>South</td>\n",
       "      <td>FUR-CH-10000454</td>\n",
       "      <td>Furniture</td>\n",
       "      <td>Chairs</td>\n",
       "      <td>Hon Deluxe Fabric Upholstered Stacking Chairs,...</td>\n",
       "      <td>731.9400</td>\n",
       "      <td>3.0</td>\n",
       "      <td>0.00</td>\n",
       "      <td>219.5820</td>\n",
       "    </tr>\n",
       "    <tr>\n",
       "      <th>2</th>\n",
       "      <td>3</td>\n",
       "      <td>CA-2017-138688</td>\n",
       "      <td>6/12/2017</td>\n",
       "      <td>6/16/2017</td>\n",
       "      <td>Second Class</td>\n",
       "      <td>DV-13045</td>\n",
       "      <td>Darrin Van Huff</td>\n",
       "      <td>Corporate</td>\n",
       "      <td>United States</td>\n",
       "      <td>Los Angeles</td>\n",
       "      <td>...</td>\n",
       "      <td>90036.0</td>\n",
       "      <td>West</td>\n",
       "      <td>OFF-LA-10000240</td>\n",
       "      <td>Office Supplies</td>\n",
       "      <td>Labels</td>\n",
       "      <td>Self-Adhesive Address Labels for Typewriters b...</td>\n",
       "      <td>14.6200</td>\n",
       "      <td>2.0</td>\n",
       "      <td>0.00</td>\n",
       "      <td>6.8714</td>\n",
       "    </tr>\n",
       "    <tr>\n",
       "      <th>3</th>\n",
       "      <td>4</td>\n",
       "      <td>US-2016-108966</td>\n",
       "      <td>10/11/2016</td>\n",
       "      <td>10/18/2016</td>\n",
       "      <td>Standard Class</td>\n",
       "      <td>SO-20335</td>\n",
       "      <td>Sean O'Donnell</td>\n",
       "      <td>Consumer</td>\n",
       "      <td>United States</td>\n",
       "      <td>Fort Lauderdale</td>\n",
       "      <td>...</td>\n",
       "      <td>33311.0</td>\n",
       "      <td>South</td>\n",
       "      <td>FUR-TA-10000577</td>\n",
       "      <td>Furniture</td>\n",
       "      <td>Tables</td>\n",
       "      <td>Bretford CR4500 Series Slim Rectangular Table</td>\n",
       "      <td>957.5775</td>\n",
       "      <td>5.0</td>\n",
       "      <td>0.45</td>\n",
       "      <td>-383.0310</td>\n",
       "    </tr>\n",
       "    <tr>\n",
       "      <th>4</th>\n",
       "      <td>5</td>\n",
       "      <td>US-2016-108966</td>\n",
       "      <td>10/11/2016</td>\n",
       "      <td>10/18/2016</td>\n",
       "      <td>Standard Class</td>\n",
       "      <td>SO-20335</td>\n",
       "      <td>Sean O'Donnell</td>\n",
       "      <td>Consumer</td>\n",
       "      <td>United States</td>\n",
       "      <td>Fort Lauderdale</td>\n",
       "      <td>...</td>\n",
       "      <td>33311.0</td>\n",
       "      <td>South</td>\n",
       "      <td>OFF-ST-10000760</td>\n",
       "      <td>Office Supplies</td>\n",
       "      <td>Storage</td>\n",
       "      <td>Eldon Fold 'N Roll Cart System</td>\n",
       "      <td>22.3680</td>\n",
       "      <td>2.0</td>\n",
       "      <td>0.20</td>\n",
       "      <td>2.5164</td>\n",
       "    </tr>\n",
       "  </tbody>\n",
       "</table>\n",
       "<p>5 rows × 21 columns</p>\n",
       "</div>"
      ],
      "text/plain": [
       "  Row ID        Order ID  Order Date   Ship Date       Ship Mode Customer ID  \\\n",
       "0      1  CA-2017-152156   11/8/2017  11/11/2017    Second Class    CG-12520   \n",
       "1      2  CA-2017-152156   11/8/2017  11/11/2017    Second Class    CG-12520   \n",
       "2      3  CA-2017-138688   6/12/2017   6/16/2017    Second Class    DV-13045   \n",
       "3      4  US-2016-108966  10/11/2016  10/18/2016  Standard Class    SO-20335   \n",
       "4      5  US-2016-108966  10/11/2016  10/18/2016  Standard Class    SO-20335   \n",
       "\n",
       "     Customer Name    Segment        Country             City  ...  \\\n",
       "0      Claire Gute   Consumer  United States        Henderson  ...   \n",
       "1      Claire Gute   Consumer  United States        Henderson  ...   \n",
       "2  Darrin Van Huff  Corporate  United States      Los Angeles  ...   \n",
       "3   Sean O'Donnell   Consumer  United States  Fort Lauderdale  ...   \n",
       "4   Sean O'Donnell   Consumer  United States  Fort Lauderdale  ...   \n",
       "\n",
       "  Postal Code  Region       Product ID         Category Sub-Category  \\\n",
       "0     42420.0   South  FUR-BO-10001798        Furniture    Bookcases   \n",
       "1     42420.0   South  FUR-CH-10000454        Furniture       Chairs   \n",
       "2     90036.0    West  OFF-LA-10000240  Office Supplies       Labels   \n",
       "3     33311.0   South  FUR-TA-10000577        Furniture       Tables   \n",
       "4     33311.0   South  OFF-ST-10000760  Office Supplies      Storage   \n",
       "\n",
       "                                        Product Name     Sales  Quantity  \\\n",
       "0                  Bush Somerset Collection Bookcase  261.9600       2.0   \n",
       "1  Hon Deluxe Fabric Upholstered Stacking Chairs,...  731.9400       3.0   \n",
       "2  Self-Adhesive Address Labels for Typewriters b...   14.6200       2.0   \n",
       "3      Bretford CR4500 Series Slim Rectangular Table  957.5775       5.0   \n",
       "4                     Eldon Fold 'N Roll Cart System   22.3680       2.0   \n",
       "\n",
       "   Discount    Profit  \n",
       "0      0.00   41.9136  \n",
       "1      0.00  219.5820  \n",
       "2      0.00    6.8714  \n",
       "3      0.45 -383.0310  \n",
       "4      0.20    2.5164  \n",
       "\n",
       "[5 rows x 21 columns]"
      ]
     },
     "execution_count": 6,
     "metadata": {},
     "output_type": "execute_result"
    }
   ],
   "source": [
    "import pandas as pd\n",
    "import numpy as np\n",
    "\n",
    "df = pd.read_csv(\"https://raw.githubusercontent.com/leonism/sample-superstore/master/data/superstore.csv\")\n",
    "\n",
    "df.head()"
   ]
  },
  {
   "cell_type": "markdown",
   "id": "9804e272",
   "metadata": {},
   "source": [
    "### Cleaning & Preparing"
   ]
  },
  {
   "cell_type": "code",
   "execution_count": 7,
   "id": "5cef28bd",
   "metadata": {},
   "outputs": [
    {
     "name": "stdout",
     "output_type": "stream",
     "text": [
      "<class 'pandas.core.frame.DataFrame'>\n",
      "RangeIndex: 10800 entries, 0 to 10799\n",
      "Data columns (total 21 columns):\n",
      " #   Column         Non-Null Count  Dtype  \n",
      "---  ------         --------------  -----  \n",
      " 0   Row ID         10800 non-null  object \n",
      " 1   Order ID       10800 non-null  object \n",
      " 2   Order Date     9994 non-null   object \n",
      " 3   Ship Date      9994 non-null   object \n",
      " 4   Ship Mode      9994 non-null   object \n",
      " 5   Customer ID    9994 non-null   object \n",
      " 6   Customer Name  9994 non-null   object \n",
      " 7   Segment        9994 non-null   object \n",
      " 8   Country        9994 non-null   object \n",
      " 9   City           9994 non-null   object \n",
      " 10  State          9994 non-null   object \n",
      " 11  Postal Code    9983 non-null   float64\n",
      " 12  Region         9994 non-null   object \n",
      " 13  Product ID     9994 non-null   object \n",
      " 14  Category       9994 non-null   object \n",
      " 15  Sub-Category   9994 non-null   object \n",
      " 16  Product Name   9994 non-null   object \n",
      " 17  Sales          9994 non-null   float64\n",
      " 18  Quantity       9994 non-null   float64\n",
      " 19  Discount       9994 non-null   float64\n",
      " 20  Profit         9994 non-null   float64\n",
      "dtypes: float64(5), object(16)\n",
      "memory usage: 1.7+ MB\n"
     ]
    }
   ],
   "source": [
    "df.info()"
   ]
  },
  {
   "cell_type": "code",
   "execution_count": 8,
   "id": "83bd618a",
   "metadata": {},
   "outputs": [
    {
     "data": {
      "text/plain": [
       "Row ID             0\n",
       "Order ID           0\n",
       "Order Date       806\n",
       "Ship Date        806\n",
       "Ship Mode        806\n",
       "Customer ID      806\n",
       "Customer Name    806\n",
       "Segment          806\n",
       "Country          806\n",
       "City             806\n",
       "State            806\n",
       "Postal Code      817\n",
       "Region           806\n",
       "Product ID       806\n",
       "Category         806\n",
       "Sub-Category     806\n",
       "Product Name     806\n",
       "Sales            806\n",
       "Quantity         806\n",
       "Discount         806\n",
       "Profit           806\n",
       "dtype: int64"
      ]
     },
     "execution_count": 8,
     "metadata": {},
     "output_type": "execute_result"
    }
   ],
   "source": [
    "df.isnull().sum()"
   ]
  },
  {
   "cell_type": "code",
   "execution_count": 9,
   "id": "4e4d2727",
   "metadata": {},
   "outputs": [],
   "source": [
    "df.columns = df.columns.str.replace(' ', '_', ).str.lower()"
   ]
  },
  {
   "cell_type": "code",
   "execution_count": 10,
   "id": "b3ead768",
   "metadata": {},
   "outputs": [
    {
     "data": {
      "text/plain": [
       "Index(['row_id', 'order_id', 'order_date', 'ship_date', 'ship_mode',\n",
       "       'customer_id', 'customer_name', 'segment', 'country', 'city', 'state',\n",
       "       'postal_code', 'region', 'product_id', 'category', 'sub-category',\n",
       "       'product_name', 'sales', 'quantity', 'discount', 'profit'],\n",
       "      dtype='object')"
      ]
     },
     "execution_count": 10,
     "metadata": {},
     "output_type": "execute_result"
    }
   ],
   "source": [
    "df.columns"
   ]
  },
  {
   "cell_type": "code",
   "execution_count": 12,
   "id": "a80059a6",
   "metadata": {},
   "outputs": [],
   "source": [
    "df['order_date'] = pd.to_datetime(df['order_date'])"
   ]
  },
  {
   "cell_type": "code",
   "execution_count": 13,
   "id": "e4261a9a",
   "metadata": {},
   "outputs": [
    {
     "name": "stdout",
     "output_type": "stream",
     "text": [
      "<class 'pandas.core.frame.DataFrame'>\n",
      "RangeIndex: 10800 entries, 0 to 10799\n",
      "Data columns (total 21 columns):\n",
      " #   Column         Non-Null Count  Dtype         \n",
      "---  ------         --------------  -----         \n",
      " 0   row_id         10800 non-null  object        \n",
      " 1   order_id       10800 non-null  object        \n",
      " 2   order_date     9994 non-null   datetime64[ns]\n",
      " 3   ship_date      9994 non-null   object        \n",
      " 4   ship_mode      9994 non-null   object        \n",
      " 5   customer_id    9994 non-null   object        \n",
      " 6   customer_name  9994 non-null   object        \n",
      " 7   segment        9994 non-null   object        \n",
      " 8   country        9994 non-null   object        \n",
      " 9   city           9994 non-null   object        \n",
      " 10  state          9994 non-null   object        \n",
      " 11  postal_code    9983 non-null   float64       \n",
      " 12  region         9994 non-null   object        \n",
      " 13  product_id     9994 non-null   object        \n",
      " 14  category       9994 non-null   object        \n",
      " 15  sub-category   9994 non-null   object        \n",
      " 16  product_name   9994 non-null   object        \n",
      " 17  sales          9994 non-null   float64       \n",
      " 18  quantity       9994 non-null   float64       \n",
      " 19  discount       9994 non-null   float64       \n",
      " 20  profit         9994 non-null   float64       \n",
      "dtypes: datetime64[ns](1), float64(5), object(15)\n",
      "memory usage: 1.7+ MB\n"
     ]
    }
   ],
   "source": [
    "df.info()"
   ]
  },
  {
   "cell_type": "code",
   "execution_count": 14,
   "id": "183aa0e8",
   "metadata": {},
   "outputs": [
    {
     "data": {
      "text/plain": [
       "region\n",
       "Central    215.772661\n",
       "East       238.336110\n",
       "South      241.803645\n",
       "West       226.493233\n",
       "Name: sales, dtype: float64"
      ]
     },
     "execution_count": 14,
     "metadata": {},
     "output_type": "execute_result"
    }
   ],
   "source": [
    "df.groupby('region')[\"sales\"].mean()"
   ]
  },
  {
   "cell_type": "code",
   "execution_count": 15,
   "id": "382d7e97",
   "metadata": {},
   "outputs": [
    {
     "data": {
      "text/plain": [
       "category         sub-category\n",
       "Technology       Copiers         55617.8249\n",
       "                 Phones          44515.7306\n",
       "                 Accessories     41936.6357\n",
       "Office Supplies  Paper           34053.5693\n",
       "                 Binders         30221.7633\n",
       "Furniture        Chairs          26590.1663\n",
       "Office Supplies  Storage         21278.8264\n",
       "                 Appliances      18138.0054\n",
       "Furniture        Furnishings     13059.1436\n",
       "Office Supplies  Envelopes        6964.1767\n",
       "                 Art              6527.7870\n",
       "                 Labels           5546.2540\n",
       "Technology       Machines         3384.7569\n",
       "Office Supplies  Fasteners         949.5182\n",
       "                 Supplies        -1189.0995\n",
       "Furniture        Bookcases       -3472.5560\n",
       "                 Tables         -17725.4811\n",
       "Name: profit, dtype: float64"
      ]
     },
     "execution_count": 15,
     "metadata": {},
     "output_type": "execute_result"
    }
   ],
   "source": [
    "df.groupby([\"category\", \"sub-category\"])[\"profit\"].sum().sort_values(ascending=False)"
   ]
  },
  {
   "cell_type": "code",
   "execution_count": 17,
   "id": "89a890f9",
   "metadata": {},
   "outputs": [
    {
     "data": {
      "text/html": [
       "<div>\n",
       "<style scoped>\n",
       "    .dataframe tbody tr th:only-of-type {\n",
       "        vertical-align: middle;\n",
       "    }\n",
       "\n",
       "    .dataframe tbody tr th {\n",
       "        vertical-align: top;\n",
       "    }\n",
       "\n",
       "    .dataframe thead th {\n",
       "        text-align: right;\n",
       "    }\n",
       "</style>\n",
       "<table border=\"1\" class=\"dataframe\">\n",
       "  <thead>\n",
       "    <tr style=\"text-align: right;\">\n",
       "      <th></th>\n",
       "      <th>total_sales</th>\n",
       "      <th>total_profit</th>\n",
       "      <th>average_discount</th>\n",
       "      <th>max_quantity</th>\n",
       "      <th>avg_discount</th>\n",
       "      <th>order_count</th>\n",
       "    </tr>\n",
       "    <tr>\n",
       "      <th>segment</th>\n",
       "      <th></th>\n",
       "      <th></th>\n",
       "      <th></th>\n",
       "      <th></th>\n",
       "      <th></th>\n",
       "      <th></th>\n",
       "    </tr>\n",
       "  </thead>\n",
       "  <tbody>\n",
       "    <tr>\n",
       "      <th>Consumer</th>\n",
       "      <td>1.161401e+06</td>\n",
       "      <td>134119.2092</td>\n",
       "      <td>0.158141</td>\n",
       "      <td>14.0</td>\n",
       "      <td>0.158141</td>\n",
       "      <td>5191</td>\n",
       "    </tr>\n",
       "    <tr>\n",
       "      <th>Corporate</th>\n",
       "      <td>7.061464e+05</td>\n",
       "      <td>91979.1340</td>\n",
       "      <td>0.158228</td>\n",
       "      <td>14.0</td>\n",
       "      <td>0.158228</td>\n",
       "      <td>3020</td>\n",
       "    </tr>\n",
       "    <tr>\n",
       "      <th>Home Office</th>\n",
       "      <td>4.296531e+05</td>\n",
       "      <td>60298.6785</td>\n",
       "      <td>0.147128</td>\n",
       "      <td>14.0</td>\n",
       "      <td>0.147128</td>\n",
       "      <td>1783</td>\n",
       "    </tr>\n",
       "  </tbody>\n",
       "</table>\n",
       "</div>"
      ],
      "text/plain": [
       "              total_sales  total_profit  average_discount  max_quantity  \\\n",
       "segment                                                                   \n",
       "Consumer     1.161401e+06   134119.2092          0.158141          14.0   \n",
       "Corporate    7.061464e+05    91979.1340          0.158228          14.0   \n",
       "Home Office  4.296531e+05    60298.6785          0.147128          14.0   \n",
       "\n",
       "             avg_discount  order_count  \n",
       "segment                                 \n",
       "Consumer         0.158141         5191  \n",
       "Corporate        0.158228         3020  \n",
       "Home Office      0.147128         1783  "
      ]
     },
     "execution_count": 17,
     "metadata": {},
     "output_type": "execute_result"
    }
   ],
   "source": [
    "df.groupby(\"segment\").agg(\n",
    "    total_sales=('sales', 'sum'),\n",
    "    total_profit=('profit', 'sum'),\n",
    "    average_discount=('discount', 'mean'),\n",
    "    max_quantity=('quantity', 'max'),\n",
    "    avg_discount=('discount', 'mean'),\n",
    "    order_count=('order_id', 'count')\n",
    ")"
   ]
  },
  {
   "cell_type": "markdown",
   "id": "a69168ad",
   "metadata": {},
   "source": [
    "Find total sales and average quantity for each region. \\\n",
    "For each category, compute the standard deviation and CV of sales. \\\n",
    "Create a column high_discount = True if discount > average discount for its segment. \\\n",
    "Filter only those sub-categories where total sales > 10000."
   ]
  },
  {
   "cell_type": "markdown",
   "id": "02f25614",
   "metadata": {},
   "source": [
    "### 1. Total sales and average quantity for each region"
   ]
  },
  {
   "cell_type": "code",
   "execution_count": 19,
   "id": "36589918",
   "metadata": {},
   "outputs": [
    {
     "name": "stdout",
     "output_type": "stream",
     "text": [
      "Total sales and average quantity for each region:\n",
      "         total_sales  avg_quantity\n",
      "region                            \n",
      "Central  501239.8908      3.779595\n",
      "East     678781.2400      3.728230\n",
      "South    391721.9050      3.832716\n",
      "West     725457.8245      3.829535\n"
     ]
    }
   ],
   "source": [
    "region_stats = df.groupby('region').agg(total_sales=('sales', 'sum'), avg_quantity=('quantity', 'mean'))\n",
    "print('Total sales and average quantity for each region:')\n",
    "print(region_stats)"
   ]
  },
  {
   "cell_type": "markdown",
   "id": "6f648bfd",
   "metadata": {},
   "source": [
    "### 2. For each category, compute the standard deviation and coefficient of variation (CV) of sales"
   ]
  },
  {
   "cell_type": "code",
   "execution_count": 20,
   "id": "1cfe151f",
   "metadata": {},
   "outputs": [
    {
     "name": "stdout",
     "output_type": "stream",
     "text": [
      "Standard deviation and CV of sales for each category:\n",
      "                         std        cv\n",
      "category                              \n",
      "Furniture         503.179145  1.438333\n",
      "Office Supplies   382.182228  3.202892\n",
      "Technology       1108.655848  2.448936\n"
     ]
    }
   ],
   "source": [
    "cat_stats = df.groupby('category')['sales'].agg(['std', 'mean'])\n",
    "cat_stats['cv'] = cat_stats['std'] / cat_stats['mean']\n",
    "print('Standard deviation and CV of sales for each category:')\n",
    "print(cat_stats[['std', 'cv']])"
   ]
  },
  {
   "cell_type": "markdown",
   "id": "955c58a7",
   "metadata": {},
   "source": [
    "### 3. Create a column high_discount = True if discount > average discount for its segment"
   ]
  },
  {
   "cell_type": "code",
   "execution_count": 21,
   "id": "3615467d",
   "metadata": {},
   "outputs": [
    {
     "name": "stdout",
     "output_type": "stream",
     "text": [
      "Sample of high_discount column:\n",
      "     segment  discount  high_discount\n",
      "0   Consumer      0.00          False\n",
      "1   Consumer      0.00          False\n",
      "2  Corporate      0.00          False\n",
      "3   Consumer      0.45           True\n",
      "4   Consumer      0.20           True\n"
     ]
    }
   ],
   "source": [
    "segment_avg_discount = df.groupby('segment')['discount'].transform('mean')\n",
    "df['high_discount'] = df['discount'] > segment_avg_discount\n",
    "print('Sample of high_discount column:')\n",
    "print(df[['segment', 'discount', 'high_discount']].head())"
   ]
  },
  {
   "cell_type": "markdown",
   "id": "1e6c162e",
   "metadata": {},
   "source": [
    "### 4. Filter only those sub-categories where total sales > 10000"
   ]
  },
  {
   "cell_type": "code",
   "execution_count": 22,
   "id": "ad4016fc",
   "metadata": {},
   "outputs": [
    {
     "name": "stdout",
     "output_type": "stream",
     "text": [
      "Sub-categories with total sales > 10000: ['Accessories', 'Appliances', 'Art', 'Binders', 'Bookcases', 'Chairs', 'Copiers', 'Envelopes', 'Furnishings', 'Labels', 'Machines', 'Paper', 'Phones', 'Storage', 'Supplies', 'Tables']\n",
      "  sub-category     sales\n",
      "0    Bookcases  261.9600\n",
      "1       Chairs  731.9400\n",
      "2       Labels   14.6200\n",
      "3       Tables  957.5775\n",
      "4      Storage   22.3680\n"
     ]
    }
   ],
   "source": [
    "subcat_sales = df.groupby('sub-category')['sales'].sum()\n",
    "high_sales_subcats = subcat_sales[subcat_sales > 10000].index\n",
    "filtered_df = df[df['sub-category'].isin(high_sales_subcats)]\n",
    "print(f\"Sub-categories with total sales > 10000: {list(high_sales_subcats)}\")\n",
    "print(filtered_df[['sub-category', 'sales']].head())"
   ]
  }
 ],
 "metadata": {
  "kernelspec": {
   "display_name": "Python 3",
   "language": "python",
   "name": "python3"
  },
  "language_info": {
   "codemirror_mode": {
    "name": "ipython",
    "version": 3
   },
   "file_extension": ".py",
   "mimetype": "text/x-python",
   "name": "python",
   "nbconvert_exporter": "python",
   "pygments_lexer": "ipython3",
   "version": "3.13.3"
  }
 },
 "nbformat": 4,
 "nbformat_minor": 5
}
