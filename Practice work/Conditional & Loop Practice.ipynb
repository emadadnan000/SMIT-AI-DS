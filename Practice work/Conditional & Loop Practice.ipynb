{
 "cells": [
  {
   "cell_type": "markdown",
   "id": "00887144",
   "metadata": {},
   "source": [
    "# Python Practice\n"
   ]
  },
  {
   "cell_type": "markdown",
   "id": "a5d1f662",
   "metadata": {},
   "source": [
    "## Conditional Statements\n"
   ]
  },
  {
   "cell_type": "markdown",
   "id": "2354133e",
   "metadata": {},
   "source": [
    "#### Write a program that checks if a given number is positive, negative, or zero."
   ]
  },
  {
   "cell_type": "code",
   "execution_count": null,
   "id": "5c20cd29",
   "metadata": {},
   "outputs": [],
   "source": [
    "user = input(\"Enter a Number\")\n",
    "user = int(user)\n",
    "\n",
    "if user > 0:\n",
    "    print(\"Positive\")\n",
    "elif user < 0:\n",
    "    print(\"Negative\")\n",
    "else:\n",
    "    print(\"Zero\")"
   ]
  },
  {
   "cell_type": "markdown",
   "id": "25a86d0c",
   "metadata": {},
   "source": [
    "#### Take a user’s age as input and display whether they are a minor, adult, or senior citizen."
   ]
  },
  {
   "cell_type": "code",
   "execution_count": null,
   "id": "496ec0fe",
   "metadata": {},
   "outputs": [],
   "source": [
    "age = int(input(\"Enter a Number\"))\n",
    "\n",
    "if age > 65:\n",
    "    print(\"Senior Citizen\")\n",
    "elif age < 18:\n",
    "    print(\"Minor\")\n",
    "else:\n",
    "    print(\"Adult\")"
   ]
  },
  {
   "cell_type": "markdown",
   "id": "fb43cbf0",
   "metadata": {},
   "source": [
    "#### Write a program that checks if a given year is a leap year."
   ]
  },
  {
   "cell_type": "code",
   "execution_count": null,
   "id": "b01ba5f6",
   "metadata": {},
   "outputs": [],
   "source": [
    "year = int(input(\"Enter year: \"))\n",
    "if (year % 4 == 0 and year % 100 != 0) or (year % 400 == 0):\n",
    "    print(f\"{year} is a leap year\")\n",
    "else:\n",
    "    print(f\"{year} is not a leap year\")"
   ]
  },
  {
   "cell_type": "markdown",
   "id": "c70d6cc2",
   "metadata": {},
   "source": [
    "#### Take an integer and check if it’s even or odd."
   ]
  },
  {
   "cell_type": "code",
   "execution_count": null,
   "id": "dbe6da3e",
   "metadata": {},
   "outputs": [],
   "source": [
    "number = int(input(\"Enter a number\"))\n",
    "if number % 2 == 0:\n",
    "    print(f\"{number} is an even number\")\n",
    "\n",
    "else: \n",
    "    print(f\"{number} is an odd number\")\n"
   ]
  },
  {
   "cell_type": "markdown",
   "id": "aaa05368",
   "metadata": {},
   "source": [
    "#### Ask the user for a grade percentage and display the corresponding letter grade (A, B, C, D, F).\n"
   ]
  },
  {
   "cell_type": "code",
   "execution_count": null,
   "id": "912550df",
   "metadata": {},
   "outputs": [],
   "source": [
    "english = int(input(\"Enter English Marks: \"))\n",
    "maths = int(input(\"Enter Maths Marks: \"))\n",
    "physics = int(input(\"Enter Physics Marks: \"))\n",
    "chemistry = int(input(\"Enter Chemistry Marks: \"))\n",
    "total_marks = int(input(\"Enter total Marks: \"))\n",
    "\n",
    "obtainted_marks = english + maths + physics + chemistry\n",
    "percentage = (obtainted_marks / total_marks) * 100\n",
    "print(f\"The obtained marks are: {obtainted_marks}\")\n",
    "print(f\"The percentage is: {percentage:.2f}\")\n",
    "if percentage >= 80:\n",
    "    print(\"A+\")\n",
    "elif percentage >= 70:\n",
    "    print(\"A\")    \n",
    "elif percentage >= 60:\n",
    "    print(\"B\")\n",
    "elif percentage >= 50:\n",
    "    print(\"C\")\n",
    "elif percentage >= 40:\n",
    "    print(\"D\")\n",
    "else: \n",
    "    print(\"Fail\")"
   ]
  },
  {
   "cell_type": "markdown",
   "id": "cb162b60",
   "metadata": {},
   "source": [
    "#### Write a program to find the largest of two numbers."
   ]
  },
  {
   "cell_type": "code",
   "execution_count": null,
   "id": "c6eaef90",
   "metadata": {},
   "outputs": [],
   "source": [
    "num_1 = int(input(\"Enter first number: \"))\n",
    "num_2 = int(input(\"Enter second number: \"))\n",
    "num_3 = int(input(\"Enter third number: \"))\n",
    "if num_1 > num_2 and num_1 > num_3:\n",
    "    print(f\"{num_1} is the greatest number\")\n",
    "elif num_2 > num_1 and num_2 > num_3:\n",
    "    print(f\"{num_2} is the greatest number\")\n",
    "else:\n",
    "    print(f\"{num_3} is the greatest number\")\n"
   ]
  },
  {
   "cell_type": "markdown",
   "id": "d55d2326",
   "metadata": {},
   "source": [
    "#### Create a program that checks if a given string is a palindrome."
   ]
  },
  {
   "cell_type": "code",
   "execution_count": 2,
   "id": "017a5ee3",
   "metadata": {},
   "outputs": [
    {
     "name": "stdout",
     "output_type": "stream",
     "text": [
      "name is not a palindrome\n"
     ]
    }
   ],
   "source": [
    "word = input(\"Enter the word to check for palindrome: \")\n",
    "if word == word[::-1]:\n",
    "    print(f\"{word} is a palindrome\")\n",
    "else:\n",
    "    print(f\"{word} is not a palindrome\")"
   ]
  },
  {
   "cell_type": "markdown",
   "id": "6e3f30d3",
   "metadata": {},
   "source": [
    "#### Take three sides of a triangle as input and check if they form a valid triangle"
   ]
  },
  {
   "cell_type": "code",
   "execution_count": 3,
   "id": "f1a11e8d",
   "metadata": {},
   "outputs": [
    {
     "name": "stdout",
     "output_type": "stream",
     "text": [
      "These sides form a valid triangle\n"
     ]
    }
   ],
   "source": [
    "side_1 = int(input(\"Enter first side of triangle: \"))\n",
    "side_2 = int(input(\"Enter second side of triangle: \"))  \n",
    "side_3 = int(input(\"Enter third side of triangle: \"))\n",
    "if  (side_1 + side_2 > side_3) and (side_1 + side_3 > side_2) and (side_2 + side_3 > side_1):\n",
    "    print(\"These sides form a valid triangle\")\n",
    "else: \n",
    "    print(\"These sides don't form a triangle\")"
   ]
  },
  {
   "cell_type": "markdown",
   "id": "7b997c1c",
   "metadata": {},
   "source": [
    "#### Write a program to determine if a given character is a vowel or consonant.\n"
   ]
  },
  {
   "cell_type": "code",
   "execution_count": null,
   "id": "eab92637",
   "metadata": {},
   "outputs": [
    {
     "name": "stdout",
     "output_type": "stream",
     "text": [
      "The string contains vowels\n"
     ]
    }
   ],
   "source": [
    "vowels = ['a', 'e', 'i', 'o', 'u']\n",
    "user_input = input(\"Enter a string: \")\n",
    "for letter in user_input.lower():\n",
    "    if letter in vowels:\n",
    "        found_vowel = True # Set flag\n",
    "        break # Exit loop early\n",
    "if found_vowel:\n",
    "    print(\"The string contains vowels\")\n",
    "else:\n",
    "    print(\"The string contains consonants only\")"
   ]
  },
  {
   "cell_type": "markdown",
   "id": "96bd955d",
   "metadata": {},
   "source": [
    "#### Check if a given number is a multiple of both 3 and 5"
   ]
  },
  {
   "cell_type": "code",
   "execution_count": 8,
   "id": "e021092d",
   "metadata": {},
   "outputs": [
    {
     "name": "stdout",
     "output_type": "stream",
     "text": [
      "27 is not a multiple of both 3 and 5\n"
     ]
    }
   ],
   "source": [
    "number = int(input(\"Enter a number: \"))\n",
    "if number % 3 == 0 and number % 5 == 0:\n",
    "    print(f\"{number} is a multiple of both 3 and 5\")\n",
    "else:\n",
    "    print(f\"{number} is not a multiple of both 3 and 5\")\n",
    "    "
   ]
  },
  {
   "cell_type": "markdown",
   "id": "9fb91359",
   "metadata": {},
   "source": [
    "#### Write a program that takes a temperature in Celsius and checks if it’s freezing, moderate, or hot"
   ]
  },
  {
   "cell_type": "code",
   "execution_count": null,
   "id": "10c2fede",
   "metadata": {},
   "outputs": [],
   "source": []
  }
 ],
 "metadata": {
  "kernelspec": {
   "display_name": "Python 3",
   "language": "python",
   "name": "python3"
  },
  "language_info": {
   "codemirror_mode": {
    "name": "ipython",
    "version": 3
   },
   "file_extension": ".py",
   "mimetype": "text/x-python",
   "name": "python",
   "nbconvert_exporter": "python",
   "pygments_lexer": "ipython3",
   "version": "3.13.3"
  }
 },
 "nbformat": 4,
 "nbformat_minor": 5
}
