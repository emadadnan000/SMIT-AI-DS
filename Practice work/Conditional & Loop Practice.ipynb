{
 "cells": [
  {
   "cell_type": "markdown",
   "id": "00887144",
   "metadata": {},
   "source": [
    "# Python Practice\n"
   ]
  },
  {
   "cell_type": "markdown",
   "id": "a5d1f662",
   "metadata": {},
   "source": [
    "## Conditional Statements\n"
   ]
  },
  {
   "cell_type": "markdown",
   "id": "2354133e",
   "metadata": {},
   "source": [
    "#### Write a program that checks if a given number is positive, negative, or zero."
   ]
  },
  {
   "cell_type": "code",
   "execution_count": 1,
   "id": "5c20cd29",
   "metadata": {},
   "outputs": [
    {
     "name": "stdout",
     "output_type": "stream",
     "text": [
      "Positive\n"
     ]
    }
   ],
   "source": [
    "user = input(\"Enter a Number\")\n",
    "user = int(user)\n",
    "\n",
    "if user > 0:\n",
    "    print(\"Positive\")\n",
    "elif user < 0:\n",
    "    print(\"Negative\")\n",
    "else:\n",
    "    print(\"Zero\")"
   ]
  },
  {
   "cell_type": "markdown",
   "id": "25a86d0c",
   "metadata": {},
   "source": [
    "#### Take a user’s age as input and display whether they are a minor, adult, or senior citizen."
   ]
  },
  {
   "cell_type": "code",
   "execution_count": 3,
   "id": "496ec0fe",
   "metadata": {},
   "outputs": [
    {
     "name": "stdout",
     "output_type": "stream",
     "text": [
      "Adult\n"
     ]
    }
   ],
   "source": [
    "age = int(input(\"Enter a Number\"))\n",
    "\n",
    "if age > 65:\n",
    "    print(\"Senior Citizen\")\n",
    "elif age < 18:\n",
    "    print(\"Minor\")\n",
    "else:\n",
    "    print(\"Adult\")"
   ]
  },
  {
   "cell_type": "markdown",
   "id": "fb43cbf0",
   "metadata": {},
   "source": [
    "#### Write a program that checks if a given year is a leap year."
   ]
  },
  {
   "cell_type": "code",
   "execution_count": 4,
   "id": "b01ba5f6",
   "metadata": {},
   "outputs": [
    {
     "name": "stdout",
     "output_type": "stream",
     "text": [
      "2024 is a leap year\n"
     ]
    }
   ],
   "source": [
    "year = int(input(\"Enter year: \"))\n",
    "if (year % 4 == 0 and year % 100 != 0) or (year % 400 == 0):\n",
    "    print(f\"{year} is a leap year\")\n",
    "else:\n",
    "    print(f\"{year} is not a leap year\")"
   ]
  },
  {
   "cell_type": "markdown",
   "id": "c70d6cc2",
   "metadata": {},
   "source": [
    "#### Take an integer and check if it’s even or odd."
   ]
  },
  {
   "cell_type": "code",
   "execution_count": null,
   "id": "dbe6da3e",
   "metadata": {},
   "outputs": [
    {
     "name": "stdout",
     "output_type": "stream",
     "text": [
      "50 is an even number\n"
     ]
    }
   ],
   "source": [
    "number = int(input(\"Enter a number\"))\n",
    "if number % 2 == 0:\n",
    "    print(f\"{number} is an even number\")\n",
    "\n",
    "else: \n",
    "    print(f\"{number} is an odd number\")\n"
   ]
  },
  {
   "cell_type": "markdown",
   "id": "aaa05368",
   "metadata": {},
   "source": [
    "#### Ask the user for a grade percentage and display the corresponding letter grade (A, B, C, D, F).\n"
   ]
  },
  {
   "cell_type": "code",
   "execution_count": 8,
   "id": "912550df",
   "metadata": {},
   "outputs": [
    {
     "name": "stdout",
     "output_type": "stream",
     "text": [
      "The obtained marks are: 238\n",
      "The percentage is: 270.45\n",
      "A+\n"
     ]
    }
   ],
   "source": [
    "english = int(input(\"Enter English Marks: \"))\n",
    "maths = int(input(\"Enter Maths Marks: \"))\n",
    "physics = int(input(\"Enter Physics Marks: \"))\n",
    "chemistry = int(input(\"Enter Chemistry Marks: \"))\n",
    "total_marks = int(input(\"Enter total Marks: \"))\n",
    "\n",
    "obtainted_marks = english + maths + physics + chemistry\n",
    "percentage = (obtainted_marks / total_marks) * 100\n",
    "print(f\"The obtained marks are: {obtainted_marks}\")\n",
    "print(f\"The percentage is: {percentage:.2f}\")\n",
    "if percentage >= 80:\n",
    "    print(\"A+\")\n",
    "elif percentage >= 70:\n",
    "    print(\"A\")    \n",
    "elif percentage >= 60:\n",
    "    print(\"B\")\n",
    "elif percentage >= 50:\n",
    "    print(\"C\")\n",
    "elif percentage >= 40:\n",
    "    print(\"D\")\n",
    "else: \n",
    "    print(\"Fail\")"
   ]
  },
  {
   "cell_type": "markdown",
   "id": "4d97eb2e",
   "metadata": {},
   "source": [
    "## Iteration Statements or Loops"
   ]
  },
  {
   "cell_type": "markdown",
   "id": "c65f4dfd",
   "metadata": {},
   "source": [
    "#### Print numbers from 1 to 20 using a for loop."
   ]
  },
  {
   "cell_type": "code",
   "execution_count": null,
   "id": "a9316d35",
   "metadata": {},
   "outputs": [],
   "source": []
  }
 ],
 "metadata": {
  "kernelspec": {
   "display_name": "Python 3",
   "language": "python",
   "name": "python3"
  },
  "language_info": {
   "codemirror_mode": {
    "name": "ipython",
    "version": 3
   },
   "file_extension": ".py",
   "mimetype": "text/x-python",
   "name": "python",
   "nbconvert_exporter": "python",
   "pygments_lexer": "ipython3",
   "version": "3.13.3"
  }
 },
 "nbformat": 4,
 "nbformat_minor": 5
}
