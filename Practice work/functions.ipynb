{
 "cells": [
  {
   "cell_type": "markdown",
   "id": "8b3e42bb",
   "metadata": {},
   "source": [
    "# Python Practice \n"
   ]
  },
  {
   "cell_type": "markdown",
   "id": "e2ca49fe",
   "metadata": {},
   "source": [
    "## Functions\n"
   ]
  },
  {
   "cell_type": "markdown",
   "id": "3910dd16",
   "metadata": {},
   "source": [
    "#### Write a function to calculate the area of a circle given its radius.\n"
   ]
  },
  {
   "cell_type": "code",
   "execution_count": null,
   "id": "dd598e94",
   "metadata": {},
   "outputs": [],
   "source": [
    "def area_of_circle(radius):\n",
    "    return radius * 3.142 * 3.142\n",
    "\n",
    "radius = int(input(\"Enter a Number\"))\n",
    "area_of_circle(radius)\n",
    "print(\"Area of Circle is\", area_of_circle(radius))"
   ]
  },
  {
   "cell_type": "markdown",
   "id": "50004e7b",
   "metadata": {},
   "source": [
    "#### Create a function that takes two numbers and returns their sum."
   ]
  },
  {
   "cell_type": "code",
   "execution_count": null,
   "id": "e78dbbeb",
   "metadata": {},
   "outputs": [],
   "source": [
    "def sum(num1,num2):\n",
    "    return num1 + num2\n",
    "\n",
    "num1 = int(input(\"Enter the First Number\"))\n",
    "num2 = int(input(\"Enter the Second Number\"))\n",
    "\n",
    "addition = sum(num1,num2)\n",
    "print(\"The additon of both number is: \" + str(addition))"
   ]
  },
  {
   "cell_type": "markdown",
   "id": "5ef7de73",
   "metadata": {},
   "source": [
    "#### Write a function to find the factorial of a number using recursion."
   ]
  },
  {
   "cell_type": "code",
   "execution_count": null,
   "id": "545f4cbc",
   "metadata": {},
   "outputs": [],
   "source": [
    "def fact(num):\n",
    "    if num == 0:\n",
    "        return 1\n",
    "    else:\n",
    "        return num * fact(num - 1) \n",
    "\n",
    "fact_num = int(input(\"Enter a number to calculate factorial\"))\n",
    "result = fact(fact_num)\n",
    "print(f\"The factorial of the given number {fact_num} is {result}\")"
   ]
  },
  {
   "cell_type": "markdown",
   "id": "044444bc",
   "metadata": {},
   "source": [
    "#### Write a function that takes a string and returns it reversed."
   ]
  },
  {
   "cell_type": "code",
   "execution_count": null,
   "id": "73cfb036",
   "metadata": {},
   "outputs": [],
   "source": [
    "string = str(input(\"Enter a string\"))\n",
    "def reverse_string(string):\n",
    "    return string[::-1]\n",
    "print(reverse_string(string))"
   ]
  },
  {
   "cell_type": "markdown",
   "id": "04400ecf",
   "metadata": {},
   "source": [
    "#### Create a function to check if a given number is prime."
   ]
  },
  {
   "cell_type": "code",
   "execution_count": null,
   "id": "425cecc7",
   "metadata": {},
   "outputs": [],
   "source": [
    "prime_num = int(input(\"Enter a number to check if it is prime\"))\n",
    "def is_prime(num):\n",
    "    if num <= 1:\n",
    "        return False \n",
    "    for i in range(2,  (num // 2) + 1):\n",
    "        if num % i == 0:\n",
    "            return False \n",
    "    return True  \n",
    "if is_prime(prime_num):\n",
    "    print(f\"{prime_num} is a prime number\")\n",
    "else:\n",
    "    print(f\"{prime_num} is not a prime number\")"
   ]
  },
  {
   "cell_type": "markdown",
   "id": "0868a644",
   "metadata": {},
   "source": [
    "#### Write a function to count the vowels in a given string."
   ]
  },
  {
   "cell_type": "code",
   "execution_count": null,
   "id": "4de62f6d",
   "metadata": {},
   "outputs": [],
   "source": [
    "def count_vowels(input_string):\n",
    "    vowels = \"aeiouAEIOU\"  \n",
    "    vowel_count = 0\n",
    "    for char in input_string:\n",
    "        if char in vowels:\n",
    "            vowel_count += 1\n",
    "    return vowel_count\n",
    "user_input = input(\"Enter a string to count vowels\")\n",
    "num_vowels = count_vowels(user_input)\n",
    "print(f\"The number of vowels in the string '{user_input}' is: {num_vowels}\")"
   ]
  }
 ],
 "metadata": {
  "kernelspec": {
   "display_name": "Python 3",
   "language": "python",
   "name": "python3"
  },
  "language_info": {
   "codemirror_mode": {
    "name": "ipython",
    "version": 3
   },
   "file_extension": ".py",
   "mimetype": "text/x-python",
   "name": "python",
   "nbconvert_exporter": "python",
   "pygments_lexer": "ipython3",
   "version": "3.13.3"
  }
 },
 "nbformat": 4,
 "nbformat_minor": 5
}
