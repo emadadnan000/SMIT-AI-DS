{
 "cells": [
  {
   "cell_type": "markdown",
   "id": "1af0d356",
   "metadata": {},
   "source": [
    "## Spotify Songs EDA  "
   ]
  },
  {
   "cell_type": "markdown",
   "id": "5aeb545e",
   "metadata": {},
   "source": [
    "## Problem Statement:  \n",
    "In the age of digital music streaming, platforms like Spotify have revolutionized the way we listen to \n",
    "music. Analyzing streaming data can reveal valuable insights into listening habits, genre popularity, \n",
    "song  features,  and  trends  that  define  the  music  industry. In this project, we will explore Spotify’s \n",
    "track  data  to  identify  patterns,  relationships  between  audio  features  and  popularity,  and  the \n",
    "characteristics of top-charting songs"
   ]
  },
  {
   "cell_type": "markdown",
   "id": "2aa76cad",
   "metadata": {},
   "source": [
    "Dataset Link:  \n",
    "https://www.kaggle.com/datasets/iamsumat/spotify-top-200-charts-2020 "
   ]
  },
  {
   "cell_type": "markdown",
   "id": "4579f967",
   "metadata": {},
   "source": [
    "## EDA Questions:\n",
    "1 How many unique artists are in the dataset?\n",
    "2 What is the distribution of song popularity scores?\n",
    "3 Which artists appear most frequently in the Top 200?\n",
    "4 What are the most common genres?\n",
    "5 What is the average duration of songs?\n",
    "6 How do audio features like danceability, energy, and valence vary across genres?\n",
    "7 Which countries contribute the most to the top charts?"
   ]
  },
  {
   "cell_type": "code",
   "execution_count": null,
   "id": "0164b204",
   "metadata": {},
   "outputs": [],
   "source": []
  },
  {
   "cell_type": "code",
   "execution_count": null,
   "id": "6f362ccb",
   "metadata": {},
   "outputs": [],
   "source": []
  },
  {
   "cell_type": "code",
   "execution_count": 1,
   "id": "dd93f6e9",
   "metadata": {},
   "outputs": [],
   "source": [
    "import pandas as pd\n",
    "import matplotlib.pyplot as plt\n",
    "import seaborn as sns\n",
    "import numpy as np"
   ]
  }
 ],
 "metadata": {
  "kernelspec": {
   "display_name": "Python 3",
   "language": "python",
   "name": "python3"
  },
  "language_info": {
   "codemirror_mode": {
    "name": "ipython",
    "version": 3
   },
   "file_extension": ".py",
   "mimetype": "text/x-python",
   "name": "python",
   "nbconvert_exporter": "python",
   "pygments_lexer": "ipython3",
   "version": "3.13.3"
  }
 },
 "nbformat": 4,
 "nbformat_minor": 5
}
