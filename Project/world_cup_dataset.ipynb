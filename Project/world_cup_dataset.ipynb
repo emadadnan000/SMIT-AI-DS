{
 "cells": [
  {
   "cell_type": "markdown",
   "id": "bdf7394b",
   "metadata": {},
   "source": [
    "## World Cup Dataset"
   ]
  },
  {
   "cell_type": "markdown",
   "id": "2c70b6ce",
   "metadata": {},
   "source": [
    "📌 Problem Statement — Cricket World Cup EDA Project\n",
    "Cricket is one of the most popular sports in the world, especially in countries like India, Pakistan, Australia, and England. The Cricket World Cup is held every four years and attracts millions of fans.\n",
    "In this project, you will analyze Cricket World Cup match data to discover trends, compare team performances, and visualize key statistics — no machine learning is required.\n",
    "\n",
    "\n",
    "📂 Dataset Link:\n",
    "https://www.kaggle.com/datasets/sidmalang/all-cricket-world-cup-match-result"
   ]
  },
  {
   "cell_type": "markdown",
   "id": "6f724a40",
   "metadata": {},
   "source": [
    "🔍 EDA Questions to Answer:\n",
    "\n",
    "1. Total number of matches played in the dataset.\n",
    "\n",
    "\n",
    "2. Which team has the highest win percentage?\n",
    "\n",
    "\n",
    "3. Top 5 batsmen by total runs scored.\n",
    "\n",
    "\n",
    "4. Top 5 bowlers by total wickets taken.\n",
    "\n",
    "\n",
    "5. Average runs scored per match.\n",
    "\n",
    "\n",
    "6. Which stadium hosted the most matches?\n",
    "\n",
    "\n",
    "7. How many matches ended without a result?\n",
    "\n",
    "\n",
    "8. Highest team total in the dataset.\n",
    "\n",
    "\n",
    "9. Total boundaries (4s and 6s) hit in the tournament.\n",
    "\n",
    "\n",
    "10. Visualize runs scored trend by match number.\n",
    "\n",
    "📌 Task Requirements:\n",
    "\n",
    "Perform data cleaning if required.\n",
    "\n",
    "Use Pandas for manipulation and Matplotlib / Seaborn for visualizatio"
   ]
  },
  {
   "cell_type": "code",
   "execution_count": 1,
   "id": "c455b163",
   "metadata": {},
   "outputs": [],
   "source": [
    "import pandas as pd\n",
    "import numpy as np\n",
    "import matplotlib.pyplot as plt\n",
    "import seaborn as sns"
   ]
  },
  {
   "cell_type": "code",
   "execution_count": 2,
   "id": "f361b98e",
   "metadata": {},
   "outputs": [],
   "source": [
    "df = pd.read_csv(\"world_cup_2019.csv\")\n"
   ]
  },
  {
   "cell_type": "code",
   "execution_count": 3,
   "id": "f613a5df",
   "metadata": {},
   "outputs": [
    {
     "data": {
      "text/html": [
       "<div>\n",
       "<style scoped>\n",
       "    .dataframe tbody tr th:only-of-type {\n",
       "        vertical-align: middle;\n",
       "    }\n",
       "\n",
       "    .dataframe tbody tr th {\n",
       "        vertical-align: top;\n",
       "    }\n",
       "\n",
       "    .dataframe thead th {\n",
       "        text-align: right;\n",
       "    }\n",
       "</style>\n",
       "<table border=\"1\" class=\"dataframe\">\n",
       "  <thead>\n",
       "    <tr style=\"text-align: right;\">\n",
       "      <th></th>\n",
       "      <th>Id</th>\n",
       "      <th>Date</th>\n",
       "      <th>Match</th>\n",
       "      <th>Ground / Location</th>\n",
       "      <th>Result</th>\n",
       "    </tr>\n",
       "  </thead>\n",
       "  <tbody>\n",
       "    <tr>\n",
       "      <th>0</th>\n",
       "      <td>1</td>\n",
       "      <td>30/05/2019</td>\n",
       "      <td>1st Match: England v South Africa</td>\n",
       "      <td>Kennington Oval, London</td>\n",
       "      <td>England won by 104 runs</td>\n",
       "    </tr>\n",
       "    <tr>\n",
       "      <th>1</th>\n",
       "      <td>2</td>\n",
       "      <td>31/05/2019</td>\n",
       "      <td>2nd Match: Pakistan v West Indies</td>\n",
       "      <td>Trent Bridge, Nottingham</td>\n",
       "      <td>West Indies won by 7 wickets</td>\n",
       "    </tr>\n",
       "    <tr>\n",
       "      <th>2</th>\n",
       "      <td>3</td>\n",
       "      <td>01/06/2019</td>\n",
       "      <td>3rd Match: New Zealand v Sri Lanka</td>\n",
       "      <td>Sophia Gardens, Cardiff</td>\n",
       "      <td>New Zealand won by 10 wickets</td>\n",
       "    </tr>\n",
       "    <tr>\n",
       "      <th>3</th>\n",
       "      <td>4</td>\n",
       "      <td>01/06/2019</td>\n",
       "      <td>4th Match: Afghanistan v Australia</td>\n",
       "      <td>County Ground, Bristol</td>\n",
       "      <td>Australia won by 7 wickets</td>\n",
       "    </tr>\n",
       "    <tr>\n",
       "      <th>4</th>\n",
       "      <td>5</td>\n",
       "      <td>02/06/2019</td>\n",
       "      <td>5th Match: Bangladesh v South Africa</td>\n",
       "      <td>Kennington Oval, London</td>\n",
       "      <td>Bangladesh won by 21 runs</td>\n",
       "    </tr>\n",
       "  </tbody>\n",
       "</table>\n",
       "</div>"
      ],
      "text/plain": [
       "   Id        Date                                 Match  \\\n",
       "0   1  30/05/2019     1st Match: England v South Africa   \n",
       "1   2  31/05/2019     2nd Match: Pakistan v West Indies   \n",
       "2   3  01/06/2019    3rd Match: New Zealand v Sri Lanka   \n",
       "3   4  01/06/2019    4th Match: Afghanistan v Australia   \n",
       "4   5  02/06/2019  5th Match: Bangladesh v South Africa   \n",
       "\n",
       "          Ground / Location                         Result  \n",
       "0   Kennington Oval, London        England won by 104 runs  \n",
       "1  Trent Bridge, Nottingham   West Indies won by 7 wickets  \n",
       "2   Sophia Gardens, Cardiff  New Zealand won by 10 wickets  \n",
       "3    County Ground, Bristol     Australia won by 7 wickets  \n",
       "4   Kennington Oval, London      Bangladesh won by 21 runs  "
      ]
     },
     "execution_count": 3,
     "metadata": {},
     "output_type": "execute_result"
    }
   ],
   "source": [
    "df.head()"
   ]
  },
  {
   "cell_type": "code",
   "execution_count": 4,
   "id": "dc64f48b",
   "metadata": {},
   "outputs": [
    {
     "data": {
      "text/html": [
       "<div>\n",
       "<style scoped>\n",
       "    .dataframe tbody tr th:only-of-type {\n",
       "        vertical-align: middle;\n",
       "    }\n",
       "\n",
       "    .dataframe tbody tr th {\n",
       "        vertical-align: top;\n",
       "    }\n",
       "\n",
       "    .dataframe thead th {\n",
       "        text-align: right;\n",
       "    }\n",
       "</style>\n",
       "<table border=\"1\" class=\"dataframe\">\n",
       "  <thead>\n",
       "    <tr style=\"text-align: right;\">\n",
       "      <th></th>\n",
       "      <th>Id</th>\n",
       "    </tr>\n",
       "  </thead>\n",
       "  <tbody>\n",
       "    <tr>\n",
       "      <th>count</th>\n",
       "      <td>48.00</td>\n",
       "    </tr>\n",
       "    <tr>\n",
       "      <th>mean</th>\n",
       "      <td>24.50</td>\n",
       "    </tr>\n",
       "    <tr>\n",
       "      <th>std</th>\n",
       "      <td>14.00</td>\n",
       "    </tr>\n",
       "    <tr>\n",
       "      <th>min</th>\n",
       "      <td>1.00</td>\n",
       "    </tr>\n",
       "    <tr>\n",
       "      <th>25%</th>\n",
       "      <td>12.75</td>\n",
       "    </tr>\n",
       "    <tr>\n",
       "      <th>50%</th>\n",
       "      <td>24.50</td>\n",
       "    </tr>\n",
       "    <tr>\n",
       "      <th>75%</th>\n",
       "      <td>36.25</td>\n",
       "    </tr>\n",
       "    <tr>\n",
       "      <th>max</th>\n",
       "      <td>48.00</td>\n",
       "    </tr>\n",
       "  </tbody>\n",
       "</table>\n",
       "</div>"
      ],
      "text/plain": [
       "          Id\n",
       "count  48.00\n",
       "mean   24.50\n",
       "std    14.00\n",
       "min     1.00\n",
       "25%    12.75\n",
       "50%    24.50\n",
       "75%    36.25\n",
       "max    48.00"
      ]
     },
     "execution_count": 4,
     "metadata": {},
     "output_type": "execute_result"
    }
   ],
   "source": [
    "df.describe()"
   ]
  },
  {
   "cell_type": "code",
   "execution_count": 5,
   "id": "e0301fbe",
   "metadata": {},
   "outputs": [
    {
     "data": {
      "text/plain": [
       "Index(['Id', 'Date', 'Match', 'Ground / Location', 'Result'], dtype='object')"
      ]
     },
     "execution_count": 5,
     "metadata": {},
     "output_type": "execute_result"
    }
   ],
   "source": [
    "df.columns"
   ]
  },
  {
   "cell_type": "code",
   "execution_count": 6,
   "id": "0022bb16",
   "metadata": {},
   "outputs": [
    {
     "name": "stdout",
     "output_type": "stream",
     "text": [
      "(48, 5)\n"
     ]
    }
   ],
   "source": [
    "print(df.shape)\n"
   ]
  },
  {
   "cell_type": "code",
   "execution_count": 7,
   "id": "72bbea69",
   "metadata": {},
   "outputs": [
    {
     "name": "stdout",
     "output_type": "stream",
     "text": [
      "<class 'pandas.core.frame.DataFrame'>\n",
      "RangeIndex: 48 entries, 0 to 47\n",
      "Data columns (total 5 columns):\n",
      " #   Column             Non-Null Count  Dtype \n",
      "---  ------             --------------  ----- \n",
      " 0   Id                 48 non-null     int64 \n",
      " 1   Date               48 non-null     object\n",
      " 2   Match              48 non-null     object\n",
      " 3   Ground / Location  48 non-null     object\n",
      " 4   Result             48 non-null     object\n",
      "dtypes: int64(1), object(4)\n",
      "memory usage: 2.0+ KB\n"
     ]
    }
   ],
   "source": [
    "df.info()"
   ]
  },
  {
   "cell_type": "code",
   "execution_count": 10,
   "id": "85dcd38f",
   "metadata": {},
   "outputs": [
    {
     "name": "stdout",
     "output_type": "stream",
     "text": [
      "<class 'pandas.core.frame.DataFrame'>\n",
      "RangeIndex: 48 entries, 0 to 47\n",
      "Data columns (total 5 columns):\n",
      " #   Column             Non-Null Count  Dtype         \n",
      "---  ------             --------------  -----         \n",
      " 0   Id                 48 non-null     int64         \n",
      " 1   Date               48 non-null     datetime64[ns]\n",
      " 2   Match              48 non-null     object        \n",
      " 3   Ground / Location  48 non-null     object        \n",
      " 4   Result             48 non-null     object        \n",
      "dtypes: datetime64[ns](1), int64(1), object(3)\n",
      "memory usage: 2.0+ KB\n"
     ]
    }
   ],
   "source": [
    "#convert date column into datetime\n",
    "df['Date'] = pd.to_datetime(df['Date'], format='%d/%m/%Y')\n",
    "df.info()"
   ]
  },
  {
   "cell_type": "code",
   "execution_count": null,
   "id": "0451f713",
   "metadata": {},
   "outputs": [
    {
     "name": "stdout",
     "output_type": "stream",
     "text": [
      "the total number of matches played in the dataset is: 48\n"
     ]
    }
   ],
   "source": [
    "# Total number of matches played in the dataset.\n",
    "total_matches = df.shape[0]\n",
    "print(\"the total number of matches played in the dataset is:\", total_matches)\n"
   ]
  },
  {
   "cell_type": "code",
   "execution_count": 15,
   "id": "4fd63cd3",
   "metadata": {},
   "outputs": [
    {
     "name": "stdout",
     "output_type": "stream",
     "text": [
      "                                  Match                         Result  \\\n",
      "0     1st Match: England v South Africa        England won by 104 runs   \n",
      "1     2nd Match: Pakistan v West Indies   West Indies won by 7 wickets   \n",
      "2    3rd Match: New Zealand v Sri Lanka  New Zealand won by 10 wickets   \n",
      "3    4th Match: Afghanistan v Australia     Australia won by 7 wickets   \n",
      "4  5th Match: Bangladesh v South Africa      Bangladesh won by 21 runs   \n",
      "\n",
      "        Winner  \n",
      "0      England  \n",
      "1  West Indies  \n",
      "2  New Zealand  \n",
      "3    Australia  \n",
      "4   Bangladesh  \n"
     ]
    }
   ],
   "source": [
    "df = pd.read_csv(\"world_cup_2019.csv\")\n",
    "\n",
    "# Extract winner from the Result column\n",
    "df['Winner'] = df['Result'].str.extract(r'^(.*?)\\s+won')\n",
    "\n",
    "# Display the updated DataFrame\n",
    "print(df[['Match', 'Result', 'Winner']].head())"
   ]
  },
  {
   "cell_type": "code",
   "execution_count": 18,
   "id": "3a5aac51",
   "metadata": {},
   "outputs": [
    {
     "name": "stdout",
     "output_type": "stream",
     "text": [
      "The team with the highest win percentage is England with a win percentage of 18.18%.\n"
     ]
    }
   ],
   "source": [
    "# Which team has the highest win percentage?\n",
    "team_win_percentage = df['Winner'].value_counts(normalize=True) * 100\n",
    "highest_win_percentage_team = team_win_percentage.idxmax()\n",
    "highest_win_percentage = team_win_percentage.max()\n",
    "print(f\"The team with the highest win percentage is {highest_win_percentage_team} with a win percentage of {highest_win_percentage:.2f}%.\")\n"
   ]
  },
  {
   "cell_type": "code",
   "execution_count": 23,
   "id": "a50fa11f",
   "metadata": {},
   "outputs": [
    {
     "name": "stdout",
     "output_type": "stream",
     "text": [
      "Old Trafford, Manchester\n"
     ]
    }
   ],
   "source": [
    "# Which stadium hosted the most matches?\n",
    "most_hosted_stadium = df['Ground / Location'].value_counts().idxmax()\n",
    "print(most_hosted_stadium)"
   ]
  },
  {
   "cell_type": "code",
   "execution_count": 24,
   "id": "c4310707",
   "metadata": {},
   "outputs": [
    {
     "name": "stdout",
     "output_type": "stream",
     "text": [
      "Number of matches ended without a result: 4\n"
     ]
    }
   ],
   "source": [
    "# How many matches ended without a result?\n",
    "no_result_matches = df[df['Result'].str.contains('Match abandoned|No result', case=False, na=False)].shape[0]\n",
    "print(f\"Number of matches ended without a result: {no_result_matches}\")"
   ]
  },
  {
   "cell_type": "code",
   "execution_count": 27,
   "id": "61b712cf",
   "metadata": {},
   "outputs": [
    {
     "data": {
      "image/png": "[encoded data removed]",
      "text/plain": [
       "<Figure size 1200x600 with 1 Axes>"
      ]
     },
     "metadata": {},
     "output_type": "display_data"
    }
   ],
   "source": [
    "# Visualize runs scored trend by match number.\n",
    "\n",
    "df['Runs_Scored'] = df['Result'].str.extract(r'by (\\d+) runs').astype(float)\n",
    "\n",
    "# Plot the runs scored trend by match number\n",
    "plt.figure(figsize=(12,6))\n",
    "sns.lineplot(x=df['Id'], y=df['Runs_Scored'])\n",
    "plt.title('Runs Scored Trend by Match Number (Matches Won by Runs)')\n",
    "plt.xlabel('Match Number')\n",
    "plt.ylabel('Runs Scored')\n",
    "plt.show()"
   ]
  },
  {
   "cell_type": "markdown",
   "id": "e36b053c",
   "metadata": {},
   "source": [
    "#### Top 5 batsmen by total runs scored.\n",
    "#### no info of batsmen in the dataset "
   ]
  },
  {
   "cell_type": "markdown",
   "id": "5d98ac93",
   "metadata": {},
   "source": [
    "#### Top 5 bowlers by total wickets taken.\n",
    "#### no info of bowlers in the dataset"
   ]
  },
  {
   "cell_type": "markdown",
   "id": "8fbe3eca",
   "metadata": {},
   "source": [
    "#### Average runs scored per match.\n",
    "#### no info in the dataset\n"
   ]
  },
  {
   "cell_type": "markdown",
   "id": "2ecd5f02",
   "metadata": {},
   "source": [
    "#### Highest team total in the dataset.\n",
    "#### no info in the dataset\n"
   ]
  },
  {
   "cell_type": "markdown",
   "id": "367ee9e4",
   "metadata": {},
   "source": [
    "#### Total boundaries (4s and 6s) hit in the tournament.\n",
    "#### no info in the dataset\n"
   ]
  }
 ],
 "metadata": {
  "kernelspec": {
   "display_name": "Python 3",
   "language": "python",
   "name": "python3"
  },
  "language_info": {
   "codemirror_mode": {
    "name": "ipython",
    "version": 3
   },
   "file_extension": ".py",
   "mimetype": "text/x-python",
   "name": "python",
   "nbconvert_exporter": "python",
   "pygments_lexer": "ipython3",
   "version": "3.13.3"
  }
 },
 "nbformat": 4,
 "nbformat_minor": 5
}
